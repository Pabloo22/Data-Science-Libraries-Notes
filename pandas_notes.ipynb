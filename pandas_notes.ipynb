{
  "nbformat": 4,
  "nbformat_minor": 0,
  "metadata": {
    "colab": {
      "name": "pandas_notes.ipynb",
      "provenance": [],
      "collapsed_sections": [
        "kbNQIvPGAfmQ",
        "gfQTlMK5BKVZ",
        "x7VbIbxFCAbw",
        "ivWNo_SxRwvP",
        "uG2cYwXeDJqO",
        "qKcR6Iq_Oc-b",
        "XRZm8o-RRNOW",
        "kD_XL8QitWYi",
        "7jIsoBhBSXx1",
        "eA1v5Q9tJAiL",
        "HD1m8tOrJmAe",
        "U17u5UBfJ7sy"
      ],
      "toc_visible": true,
      "authorship_tag": "ABX9TyPGKUC4jjqJa1SfvMx6UIV6",
      "include_colab_link": true
    },
    "kernelspec": {
      "name": "python3",
      "display_name": "Python 3"
    }
  },
  "cells": [
    {
      "cell_type": "markdown",
      "metadata": {
        "id": "view-in-github",
        "colab_type": "text"
      },
      "source": [
        "<a href=\"https://colab.research.google.com/github/Pabloo22/Data-Science-Libraries-Notes/blob/main/pandas_notes.ipynb\" target=\"_parent\"><img src=\"https://colab.research.google.com/assets/colab-badge.svg\" alt=\"Open In Colab\"/></a>"
      ]
    },
    {
      "cell_type": "markdown",
      "metadata": {
        "id": "BQYJaGk97FTQ"
      },
      "source": [
        "# Apuntes sobre cómo utilizar la librería pandas"
      ]
    },
    {
      "cell_type": "markdown",
      "metadata": {
        "id": "K8cezEwbOIhZ"
      },
      "source": [
        "Python programmers will often suggest that there many ways the language can be used to solve a particular problem. But that some are more appropriate than others. The best solutions are celebrated as Idiomatic Python and there are lots of great examples of this on StackOverflow and other websites.\n",
        "\n",
        "A sort of sub-language within Python, Pandas has its own set of idioms. We've alluded to some of these already, such as using vectorization whenever possible, and not using iterative loops if you don't need to. Several developers and users within the Panda's community have used the term pandorable for these idioms."
      ]
    },
    {
      "cell_type": "code",
      "metadata": {
        "id": "04KTOS6-68uK"
      },
      "source": [
        "import pandas as pd\n",
        "import numpy as np"
      ],
      "execution_count": null,
      "outputs": []
    },
    {
      "cell_type": "code",
      "metadata": {
        "id": "Wjej2ghPk0e_"
      },
      "source": [
        "pd.DataFrame.__init__??"
      ],
      "execution_count": null,
      "outputs": []
    },
    {
      "cell_type": "code",
      "metadata": {
        "colab": {
          "base_uri": "https://localhost:8080/"
        },
        "id": "A1RSlSx3lm_g",
        "outputId": "47e0ed87-13a8-4936-8209-f35c1aef2f7b"
      },
      "source": [
        "init_dict??"
      ],
      "execution_count": null,
      "outputs": [
        {
          "output_type": "stream",
          "text": [
            "Object `init_dict` not found.\n"
          ],
          "name": "stdout"
        }
      ]
    },
    {
      "cell_type": "markdown",
      "metadata": {
        "id": "4JZI0cGo81ON"
      },
      "source": [
        "## DataFrames"
      ]
    },
    {
      "cell_type": "markdown",
      "metadata": {
        "id": "WxQzl2DK9hQB"
      },
      "source": [
        "### Creación de DataFrames"
      ]
    },
    {
      "cell_type": "markdown",
      "metadata": {
        "id": "ssgK5_lw9pKV"
      },
      "source": [
        "#### A partir de Series"
      ]
    },
    {
      "cell_type": "code",
      "metadata": {
        "colab": {
          "base_uri": "https://localhost:8080/",
          "height": 142
        },
        "id": "vOVl1ggE7Rjx",
        "outputId": "044f93c0-1f3a-4dbb-d60a-c47b8992d2ac"
      },
      "source": [
        "record1 = pd.Series({'Name': 'Alice',\n",
        "                        'Class': 'Physics',\n",
        "                        'Score': 85})\n",
        "record2 = pd.Series({'Name': 'Jack',\n",
        "                        'Class': 'Chemistry',\n",
        "                        'Score': 82})\n",
        "record3 = pd.Series({'Name': 'Helen',\n",
        "                        'Class': 'Biology',\n",
        "                        'Score': 90})\n",
        "\n",
        "school_df = pd.DataFrame([record1, record2, record3],\n",
        "                  index=['school1', 'school2', 'school1'])\n",
        "\n",
        "school_df"
      ],
      "execution_count": null,
      "outputs": [
        {
          "output_type": "execute_result",
          "data": {
            "text/html": [
              "<div>\n",
              "<style scoped>\n",
              "    .dataframe tbody tr th:only-of-type {\n",
              "        vertical-align: middle;\n",
              "    }\n",
              "\n",
              "    .dataframe tbody tr th {\n",
              "        vertical-align: top;\n",
              "    }\n",
              "\n",
              "    .dataframe thead th {\n",
              "        text-align: right;\n",
              "    }\n",
              "</style>\n",
              "<table border=\"1\" class=\"dataframe\">\n",
              "  <thead>\n",
              "    <tr style=\"text-align: right;\">\n",
              "      <th></th>\n",
              "      <th>Name</th>\n",
              "      <th>Class</th>\n",
              "      <th>Score</th>\n",
              "    </tr>\n",
              "  </thead>\n",
              "  <tbody>\n",
              "    <tr>\n",
              "      <th>school1</th>\n",
              "      <td>Alice</td>\n",
              "      <td>Physics</td>\n",
              "      <td>85</td>\n",
              "    </tr>\n",
              "    <tr>\n",
              "      <th>school2</th>\n",
              "      <td>Jack</td>\n",
              "      <td>Chemistry</td>\n",
              "      <td>82</td>\n",
              "    </tr>\n",
              "    <tr>\n",
              "      <th>school1</th>\n",
              "      <td>Helen</td>\n",
              "      <td>Biology</td>\n",
              "      <td>90</td>\n",
              "    </tr>\n",
              "  </tbody>\n",
              "</table>\n",
              "</div>"
            ],
            "text/plain": [
              "          Name      Class  Score\n",
              "school1  Alice    Physics     85\n",
              "school2   Jack  Chemistry     82\n",
              "school1  Helen    Biology     90"
            ]
          },
          "metadata": {
            "tags": []
          },
          "execution_count": 3
        }
      ]
    },
    {
      "cell_type": "markdown",
      "metadata": {
        "id": "7ms6l1ia9xPR"
      },
      "source": [
        "#### A partir de listas de diccionarios"
      ]
    },
    {
      "cell_type": "code",
      "metadata": {
        "colab": {
          "base_uri": "https://localhost:8080/",
          "height": 142
        },
        "id": "sR6Zmo2N7DfA",
        "outputId": "99c87338-2fcc-49d2-98e0-adcd60041792"
      },
      "source": [
        "students = [{'Name': 'Alice',\n",
        "              'Class': 'Physics',\n",
        "              'Score': 85},\n",
        "            {'Name': 'Jack',\n",
        "             'Class': 'Chemistry',\n",
        "             'Score': 82},\n",
        "            {'Name': 'Helen',\n",
        "             'Class': 'Biology',\n",
        "             'Score': 90}]\n",
        "\n",
        "school_df = pd.DataFrame(students, index=['school1', 'school2', 'school1'])\n",
        "school_df"
      ],
      "execution_count": null,
      "outputs": [
        {
          "output_type": "execute_result",
          "data": {
            "text/html": [
              "<div>\n",
              "<style scoped>\n",
              "    .dataframe tbody tr th:only-of-type {\n",
              "        vertical-align: middle;\n",
              "    }\n",
              "\n",
              "    .dataframe tbody tr th {\n",
              "        vertical-align: top;\n",
              "    }\n",
              "\n",
              "    .dataframe thead th {\n",
              "        text-align: right;\n",
              "    }\n",
              "</style>\n",
              "<table border=\"1\" class=\"dataframe\">\n",
              "  <thead>\n",
              "    <tr style=\"text-align: right;\">\n",
              "      <th></th>\n",
              "      <th>Name</th>\n",
              "      <th>Class</th>\n",
              "      <th>Score</th>\n",
              "    </tr>\n",
              "  </thead>\n",
              "  <tbody>\n",
              "    <tr>\n",
              "      <th>school1</th>\n",
              "      <td>Alice</td>\n",
              "      <td>Physics</td>\n",
              "      <td>85</td>\n",
              "    </tr>\n",
              "    <tr>\n",
              "      <th>school2</th>\n",
              "      <td>Jack</td>\n",
              "      <td>Chemistry</td>\n",
              "      <td>82</td>\n",
              "    </tr>\n",
              "    <tr>\n",
              "      <th>school1</th>\n",
              "      <td>Helen</td>\n",
              "      <td>Biology</td>\n",
              "      <td>90</td>\n",
              "    </tr>\n",
              "  </tbody>\n",
              "</table>\n",
              "</div>"
            ],
            "text/plain": [
              "          Name      Class  Score\n",
              "school1  Alice    Physics     85\n",
              "school2   Jack  Chemistry     82\n",
              "school1  Helen    Biology     90"
            ]
          },
          "metadata": {
            "tags": []
          },
          "execution_count": 4
        }
      ]
    },
    {
      "cell_type": "markdown",
      "metadata": {
        "id": "rpqWXSv2-cR-"
      },
      "source": [
        "#### A partir de archivos csv"
      ]
    },
    {
      "cell_type": "code",
      "metadata": {
        "colab": {
          "base_uri": "https://localhost:8080/",
          "height": 204
        },
        "id": "Gj9DpSyT-JF_",
        "outputId": "c544373f-9ae6-43e2-ee12-05a2179506e7"
      },
      "source": [
        "df_california_housing_train = pd.read_csv(\n",
        "    \"sample_data/california_housing_train.csv\")\n",
        "df_california_housing_train.head()"
      ],
      "execution_count": null,
      "outputs": [
        {
          "output_type": "execute_result",
          "data": {
            "text/html": [
              "<div>\n",
              "<style scoped>\n",
              "    .dataframe tbody tr th:only-of-type {\n",
              "        vertical-align: middle;\n",
              "    }\n",
              "\n",
              "    .dataframe tbody tr th {\n",
              "        vertical-align: top;\n",
              "    }\n",
              "\n",
              "    .dataframe thead th {\n",
              "        text-align: right;\n",
              "    }\n",
              "</style>\n",
              "<table border=\"1\" class=\"dataframe\">\n",
              "  <thead>\n",
              "    <tr style=\"text-align: right;\">\n",
              "      <th></th>\n",
              "      <th>longitude</th>\n",
              "      <th>latitude</th>\n",
              "      <th>housing_median_age</th>\n",
              "      <th>total_rooms</th>\n",
              "      <th>total_bedrooms</th>\n",
              "      <th>population</th>\n",
              "      <th>households</th>\n",
              "      <th>median_income</th>\n",
              "      <th>median_house_value</th>\n",
              "    </tr>\n",
              "  </thead>\n",
              "  <tbody>\n",
              "    <tr>\n",
              "      <th>0</th>\n",
              "      <td>-114.31</td>\n",
              "      <td>34.19</td>\n",
              "      <td>15.0</td>\n",
              "      <td>5612.0</td>\n",
              "      <td>1283.0</td>\n",
              "      <td>1015.0</td>\n",
              "      <td>472.0</td>\n",
              "      <td>1.4936</td>\n",
              "      <td>66900.0</td>\n",
              "    </tr>\n",
              "    <tr>\n",
              "      <th>1</th>\n",
              "      <td>-114.47</td>\n",
              "      <td>34.40</td>\n",
              "      <td>19.0</td>\n",
              "      <td>7650.0</td>\n",
              "      <td>1901.0</td>\n",
              "      <td>1129.0</td>\n",
              "      <td>463.0</td>\n",
              "      <td>1.8200</td>\n",
              "      <td>80100.0</td>\n",
              "    </tr>\n",
              "    <tr>\n",
              "      <th>2</th>\n",
              "      <td>-114.56</td>\n",
              "      <td>33.69</td>\n",
              "      <td>17.0</td>\n",
              "      <td>720.0</td>\n",
              "      <td>174.0</td>\n",
              "      <td>333.0</td>\n",
              "      <td>117.0</td>\n",
              "      <td>1.6509</td>\n",
              "      <td>85700.0</td>\n",
              "    </tr>\n",
              "    <tr>\n",
              "      <th>3</th>\n",
              "      <td>-114.57</td>\n",
              "      <td>33.64</td>\n",
              "      <td>14.0</td>\n",
              "      <td>1501.0</td>\n",
              "      <td>337.0</td>\n",
              "      <td>515.0</td>\n",
              "      <td>226.0</td>\n",
              "      <td>3.1917</td>\n",
              "      <td>73400.0</td>\n",
              "    </tr>\n",
              "    <tr>\n",
              "      <th>4</th>\n",
              "      <td>-114.57</td>\n",
              "      <td>33.57</td>\n",
              "      <td>20.0</td>\n",
              "      <td>1454.0</td>\n",
              "      <td>326.0</td>\n",
              "      <td>624.0</td>\n",
              "      <td>262.0</td>\n",
              "      <td>1.9250</td>\n",
              "      <td>65500.0</td>\n",
              "    </tr>\n",
              "  </tbody>\n",
              "</table>\n",
              "</div>"
            ],
            "text/plain": [
              "   longitude  latitude  ...  median_income  median_house_value\n",
              "0    -114.31     34.19  ...         1.4936             66900.0\n",
              "1    -114.47     34.40  ...         1.8200             80100.0\n",
              "2    -114.56     33.69  ...         1.6509             85700.0\n",
              "3    -114.57     33.64  ...         3.1917             73400.0\n",
              "4    -114.57     33.57  ...         1.9250             65500.0\n",
              "\n",
              "[5 rows x 9 columns]"
            ]
          },
          "metadata": {
            "tags": []
          },
          "execution_count": 5
        }
      ]
    },
    {
      "cell_type": "markdown",
      "metadata": {
        "id": "2pTtyyZZ_4Yj"
      },
      "source": [
        "También se pueden convertir hojas de cálculo y otros tipo de archivos a DataFrame. Incluso se pueden crear DataFrames a partir de páginas web!!"
      ]
    },
    {
      "cell_type": "markdown",
      "metadata": {
        "id": "5OnhEyLBLmd6"
      },
      "source": [
        "### Indíces"
      ]
    },
    {
      "cell_type": "code",
      "metadata": {
        "id": "p7sGTGopL13v"
      },
      "source": [
        "# we can use the rename() function It takes a\n",
        "# parameter called columns, and we need to pass into a dictionary which the keys \n",
        "# are the old column name and the value is the corresponding new column name\n",
        "\n",
        "# Ejemplo:\n",
        "# new_df=df.rename(columns={'GRE Score':'GRE Score', 'TOEFL Score':'TOEFL Score',\n",
        "#                    'University Rating':'University Rating', \n",
        "#                    'SOP': 'Statement of Purpose','LOR': 'Letter of Recommendation',\n",
        "#                    'CGPA':'CGPA', 'Research':'Research',\n",
        "#                    'Chance of Admit':'Chance of Admit'})\n",
        "# new_df.head()"
      ],
      "execution_count": null,
      "outputs": []
    },
    {
      "cell_type": "code",
      "metadata": {
        "colab": {
          "base_uri": "https://localhost:8080/",
          "height": 204
        },
        "id": "tXkcD4p6M9HN",
        "outputId": "6a679391-8ea1-4fd0-f4e3-3553fef7a776"
      },
      "source": [
        "# A continuación vamos a cambiar a mayúsculas los índices de las columnas de\n",
        "# df_california_housing_train\n",
        "\n",
        "columnas = list(df_california_housing_train.columns)\n",
        "columnas = [x.upper() for x in columnas]\n",
        "df_california_housing_train.columns = columnas\n",
        "df_california_housing_train.head()"
      ],
      "execution_count": null,
      "outputs": [
        {
          "output_type": "execute_result",
          "data": {
            "text/html": [
              "<div>\n",
              "<style scoped>\n",
              "    .dataframe tbody tr th:only-of-type {\n",
              "        vertical-align: middle;\n",
              "    }\n",
              "\n",
              "    .dataframe tbody tr th {\n",
              "        vertical-align: top;\n",
              "    }\n",
              "\n",
              "    .dataframe thead th {\n",
              "        text-align: right;\n",
              "    }\n",
              "</style>\n",
              "<table border=\"1\" class=\"dataframe\">\n",
              "  <thead>\n",
              "    <tr style=\"text-align: right;\">\n",
              "      <th></th>\n",
              "      <th>LONGITUDE</th>\n",
              "      <th>LATITUDE</th>\n",
              "      <th>HOUSING_MEDIAN_AGE</th>\n",
              "      <th>TOTAL_ROOMS</th>\n",
              "      <th>TOTAL_BEDROOMS</th>\n",
              "      <th>POPULATION</th>\n",
              "      <th>HOUSEHOLDS</th>\n",
              "      <th>MEDIAN_INCOME</th>\n",
              "      <th>MEDIAN_HOUSE_VALUE</th>\n",
              "    </tr>\n",
              "  </thead>\n",
              "  <tbody>\n",
              "    <tr>\n",
              "      <th>0</th>\n",
              "      <td>-114.31</td>\n",
              "      <td>34.19</td>\n",
              "      <td>15.0</td>\n",
              "      <td>5612.0</td>\n",
              "      <td>1283.0</td>\n",
              "      <td>1015.0</td>\n",
              "      <td>472.0</td>\n",
              "      <td>1.4936</td>\n",
              "      <td>66900.0</td>\n",
              "    </tr>\n",
              "    <tr>\n",
              "      <th>1</th>\n",
              "      <td>-114.47</td>\n",
              "      <td>34.40</td>\n",
              "      <td>19.0</td>\n",
              "      <td>7650.0</td>\n",
              "      <td>1901.0</td>\n",
              "      <td>1129.0</td>\n",
              "      <td>463.0</td>\n",
              "      <td>1.8200</td>\n",
              "      <td>80100.0</td>\n",
              "    </tr>\n",
              "    <tr>\n",
              "      <th>2</th>\n",
              "      <td>-114.56</td>\n",
              "      <td>33.69</td>\n",
              "      <td>17.0</td>\n",
              "      <td>720.0</td>\n",
              "      <td>174.0</td>\n",
              "      <td>333.0</td>\n",
              "      <td>117.0</td>\n",
              "      <td>1.6509</td>\n",
              "      <td>85700.0</td>\n",
              "    </tr>\n",
              "    <tr>\n",
              "      <th>3</th>\n",
              "      <td>-114.57</td>\n",
              "      <td>33.64</td>\n",
              "      <td>14.0</td>\n",
              "      <td>1501.0</td>\n",
              "      <td>337.0</td>\n",
              "      <td>515.0</td>\n",
              "      <td>226.0</td>\n",
              "      <td>3.1917</td>\n",
              "      <td>73400.0</td>\n",
              "    </tr>\n",
              "    <tr>\n",
              "      <th>4</th>\n",
              "      <td>-114.57</td>\n",
              "      <td>33.57</td>\n",
              "      <td>20.0</td>\n",
              "      <td>1454.0</td>\n",
              "      <td>326.0</td>\n",
              "      <td>624.0</td>\n",
              "      <td>262.0</td>\n",
              "      <td>1.9250</td>\n",
              "      <td>65500.0</td>\n",
              "    </tr>\n",
              "  </tbody>\n",
              "</table>\n",
              "</div>"
            ],
            "text/plain": [
              "   LONGITUDE  LATITUDE  ...  MEDIAN_INCOME  MEDIAN_HOUSE_VALUE\n",
              "0    -114.31     34.19  ...         1.4936             66900.0\n",
              "1    -114.47     34.40  ...         1.8200             80100.0\n",
              "2    -114.56     33.69  ...         1.6509             85700.0\n",
              "3    -114.57     33.64  ...         3.1917             73400.0\n",
              "4    -114.57     33.57  ...         1.9250             65500.0\n",
              "\n",
              "[5 rows x 9 columns]"
            ]
          },
          "metadata": {
            "tags": []
          },
          "execution_count": 7
        }
      ]
    },
    {
      "cell_type": "code",
      "metadata": {
        "colab": {
          "base_uri": "https://localhost:8080/",
          "height": 235
        },
        "id": "YiqZx2J9QKJg",
        "outputId": "c03c10a9-c9a2-438b-ef40-38f384e797f2"
      },
      "source": [
        "df = df_california_housing_train.copy()\n",
        "df = df.set_index('HOUSING_MEDIAN_AGE')\n",
        "df.head()"
      ],
      "execution_count": null,
      "outputs": [
        {
          "output_type": "execute_result",
          "data": {
            "text/html": [
              "<div>\n",
              "<style scoped>\n",
              "    .dataframe tbody tr th:only-of-type {\n",
              "        vertical-align: middle;\n",
              "    }\n",
              "\n",
              "    .dataframe tbody tr th {\n",
              "        vertical-align: top;\n",
              "    }\n",
              "\n",
              "    .dataframe thead th {\n",
              "        text-align: right;\n",
              "    }\n",
              "</style>\n",
              "<table border=\"1\" class=\"dataframe\">\n",
              "  <thead>\n",
              "    <tr style=\"text-align: right;\">\n",
              "      <th></th>\n",
              "      <th>LONGITUDE</th>\n",
              "      <th>LATITUDE</th>\n",
              "      <th>TOTAL_ROOMS</th>\n",
              "      <th>TOTAL_BEDROOMS</th>\n",
              "      <th>POPULATION</th>\n",
              "      <th>HOUSEHOLDS</th>\n",
              "      <th>MEDIAN_INCOME</th>\n",
              "      <th>MEDIAN_HOUSE_VALUE</th>\n",
              "    </tr>\n",
              "    <tr>\n",
              "      <th>HOUSING_MEDIAN_AGE</th>\n",
              "      <th></th>\n",
              "      <th></th>\n",
              "      <th></th>\n",
              "      <th></th>\n",
              "      <th></th>\n",
              "      <th></th>\n",
              "      <th></th>\n",
              "      <th></th>\n",
              "    </tr>\n",
              "  </thead>\n",
              "  <tbody>\n",
              "    <tr>\n",
              "      <th>15.0</th>\n",
              "      <td>-114.31</td>\n",
              "      <td>34.19</td>\n",
              "      <td>5612.0</td>\n",
              "      <td>1283.0</td>\n",
              "      <td>1015.0</td>\n",
              "      <td>472.0</td>\n",
              "      <td>1.4936</td>\n",
              "      <td>66900.0</td>\n",
              "    </tr>\n",
              "    <tr>\n",
              "      <th>19.0</th>\n",
              "      <td>-114.47</td>\n",
              "      <td>34.40</td>\n",
              "      <td>7650.0</td>\n",
              "      <td>1901.0</td>\n",
              "      <td>1129.0</td>\n",
              "      <td>463.0</td>\n",
              "      <td>1.8200</td>\n",
              "      <td>80100.0</td>\n",
              "    </tr>\n",
              "    <tr>\n",
              "      <th>17.0</th>\n",
              "      <td>-114.56</td>\n",
              "      <td>33.69</td>\n",
              "      <td>720.0</td>\n",
              "      <td>174.0</td>\n",
              "      <td>333.0</td>\n",
              "      <td>117.0</td>\n",
              "      <td>1.6509</td>\n",
              "      <td>85700.0</td>\n",
              "    </tr>\n",
              "    <tr>\n",
              "      <th>14.0</th>\n",
              "      <td>-114.57</td>\n",
              "      <td>33.64</td>\n",
              "      <td>1501.0</td>\n",
              "      <td>337.0</td>\n",
              "      <td>515.0</td>\n",
              "      <td>226.0</td>\n",
              "      <td>3.1917</td>\n",
              "      <td>73400.0</td>\n",
              "    </tr>\n",
              "    <tr>\n",
              "      <th>20.0</th>\n",
              "      <td>-114.57</td>\n",
              "      <td>33.57</td>\n",
              "      <td>1454.0</td>\n",
              "      <td>326.0</td>\n",
              "      <td>624.0</td>\n",
              "      <td>262.0</td>\n",
              "      <td>1.9250</td>\n",
              "      <td>65500.0</td>\n",
              "    </tr>\n",
              "  </tbody>\n",
              "</table>\n",
              "</div>"
            ],
            "text/plain": [
              "                    LONGITUDE  LATITUDE  ...  MEDIAN_INCOME  MEDIAN_HOUSE_VALUE\n",
              "HOUSING_MEDIAN_AGE                       ...                                   \n",
              "15.0                  -114.31     34.19  ...         1.4936             66900.0\n",
              "19.0                  -114.47     34.40  ...         1.8200             80100.0\n",
              "17.0                  -114.56     33.69  ...         1.6509             85700.0\n",
              "14.0                  -114.57     33.64  ...         3.1917             73400.0\n",
              "20.0                  -114.57     33.57  ...         1.9250             65500.0\n",
              "\n",
              "[5 rows x 8 columns]"
            ]
          },
          "metadata": {
            "tags": []
          },
          "execution_count": 8
        }
      ]
    },
    {
      "cell_type": "code",
      "metadata": {
        "colab": {
          "base_uri": "https://localhost:8080/",
          "height": 204
        },
        "id": "F4_q6hQ8Qb96",
        "outputId": "c0a5cd8c-760b-484b-a820-32a33fe624b3"
      },
      "source": [
        "df = df.reset_index()\n",
        "df.head()"
      ],
      "execution_count": null,
      "outputs": [
        {
          "output_type": "execute_result",
          "data": {
            "text/html": [
              "<div>\n",
              "<style scoped>\n",
              "    .dataframe tbody tr th:only-of-type {\n",
              "        vertical-align: middle;\n",
              "    }\n",
              "\n",
              "    .dataframe tbody tr th {\n",
              "        vertical-align: top;\n",
              "    }\n",
              "\n",
              "    .dataframe thead th {\n",
              "        text-align: right;\n",
              "    }\n",
              "</style>\n",
              "<table border=\"1\" class=\"dataframe\">\n",
              "  <thead>\n",
              "    <tr style=\"text-align: right;\">\n",
              "      <th></th>\n",
              "      <th>HOUSING_MEDIAN_AGE</th>\n",
              "      <th>LONGITUDE</th>\n",
              "      <th>LATITUDE</th>\n",
              "      <th>TOTAL_ROOMS</th>\n",
              "      <th>TOTAL_BEDROOMS</th>\n",
              "      <th>POPULATION</th>\n",
              "      <th>HOUSEHOLDS</th>\n",
              "      <th>MEDIAN_INCOME</th>\n",
              "      <th>MEDIAN_HOUSE_VALUE</th>\n",
              "    </tr>\n",
              "  </thead>\n",
              "  <tbody>\n",
              "    <tr>\n",
              "      <th>0</th>\n",
              "      <td>15.0</td>\n",
              "      <td>-114.31</td>\n",
              "      <td>34.19</td>\n",
              "      <td>5612.0</td>\n",
              "      <td>1283.0</td>\n",
              "      <td>1015.0</td>\n",
              "      <td>472.0</td>\n",
              "      <td>1.4936</td>\n",
              "      <td>66900.0</td>\n",
              "    </tr>\n",
              "    <tr>\n",
              "      <th>1</th>\n",
              "      <td>19.0</td>\n",
              "      <td>-114.47</td>\n",
              "      <td>34.40</td>\n",
              "      <td>7650.0</td>\n",
              "      <td>1901.0</td>\n",
              "      <td>1129.0</td>\n",
              "      <td>463.0</td>\n",
              "      <td>1.8200</td>\n",
              "      <td>80100.0</td>\n",
              "    </tr>\n",
              "    <tr>\n",
              "      <th>2</th>\n",
              "      <td>17.0</td>\n",
              "      <td>-114.56</td>\n",
              "      <td>33.69</td>\n",
              "      <td>720.0</td>\n",
              "      <td>174.0</td>\n",
              "      <td>333.0</td>\n",
              "      <td>117.0</td>\n",
              "      <td>1.6509</td>\n",
              "      <td>85700.0</td>\n",
              "    </tr>\n",
              "    <tr>\n",
              "      <th>3</th>\n",
              "      <td>14.0</td>\n",
              "      <td>-114.57</td>\n",
              "      <td>33.64</td>\n",
              "      <td>1501.0</td>\n",
              "      <td>337.0</td>\n",
              "      <td>515.0</td>\n",
              "      <td>226.0</td>\n",
              "      <td>3.1917</td>\n",
              "      <td>73400.0</td>\n",
              "    </tr>\n",
              "    <tr>\n",
              "      <th>4</th>\n",
              "      <td>20.0</td>\n",
              "      <td>-114.57</td>\n",
              "      <td>33.57</td>\n",
              "      <td>1454.0</td>\n",
              "      <td>326.0</td>\n",
              "      <td>624.0</td>\n",
              "      <td>262.0</td>\n",
              "      <td>1.9250</td>\n",
              "      <td>65500.0</td>\n",
              "    </tr>\n",
              "  </tbody>\n",
              "</table>\n",
              "</div>"
            ],
            "text/plain": [
              "   HOUSING_MEDIAN_AGE  LONGITUDE  ...  MEDIAN_INCOME  MEDIAN_HOUSE_VALUE\n",
              "0                15.0    -114.31  ...         1.4936             66900.0\n",
              "1                19.0    -114.47  ...         1.8200             80100.0\n",
              "2                17.0    -114.56  ...         1.6509             85700.0\n",
              "3                14.0    -114.57  ...         3.1917             73400.0\n",
              "4                20.0    -114.57  ...         1.9250             65500.0\n",
              "\n",
              "[5 rows x 9 columns]"
            ]
          },
          "metadata": {
            "tags": []
          },
          "execution_count": 9
        }
      ]
    },
    {
      "cell_type": "markdown",
      "metadata": {
        "id": "CTheAnzOAWxY"
      },
      "source": [
        "### Consultas"
      ]
    },
    {
      "cell_type": "markdown",
      "metadata": {
        "id": "kbNQIvPGAfmQ"
      },
      "source": [
        "#### Por índice"
      ]
    },
    {
      "cell_type": "code",
      "metadata": {
        "colab": {
          "base_uri": "https://localhost:8080/"
        },
        "id": "-aGuWyjGAF9N",
        "outputId": "12ed5a73-4a2d-414d-b0f0-98e72d372b90"
      },
      "source": [
        "school_df.loc['school2']"
      ],
      "execution_count": null,
      "outputs": [
        {
          "output_type": "execute_result",
          "data": {
            "text/plain": [
              "Name          Jack\n",
              "Class    Chemistry\n",
              "Score           82\n",
              "Name: school2, dtype: object"
            ]
          },
          "metadata": {
            "tags": []
          },
          "execution_count": 10
        }
      ]
    },
    {
      "cell_type": "code",
      "metadata": {
        "colab": {
          "base_uri": "https://localhost:8080/"
        },
        "id": "MQq1UvBRA3uO",
        "outputId": "4867bd27-9193-4e8e-eab4-18e68ff84def"
      },
      "source": [
        "school_df.loc['school1']"
      ],
      "execution_count": null,
      "outputs": [
        {
          "output_type": "execute_result",
          "data": {
            "text/html": [
              "<div>\n",
              "<style scoped>\n",
              "    .dataframe tbody tr th:only-of-type {\n",
              "        vertical-align: middle;\n",
              "    }\n",
              "\n",
              "    .dataframe tbody tr th {\n",
              "        vertical-align: top;\n",
              "    }\n",
              "\n",
              "    .dataframe thead th {\n",
              "        text-align: right;\n",
              "    }\n",
              "</style>\n",
              "<table border=\"1\" class=\"dataframe\">\n",
              "  <thead>\n",
              "    <tr style=\"text-align: right;\">\n",
              "      <th></th>\n",
              "      <th>Name</th>\n",
              "      <th>Class</th>\n",
              "      <th>Score</th>\n",
              "    </tr>\n",
              "  </thead>\n",
              "  <tbody>\n",
              "    <tr>\n",
              "      <th>school1</th>\n",
              "      <td>Alice</td>\n",
              "      <td>Physics</td>\n",
              "      <td>85</td>\n",
              "    </tr>\n",
              "    <tr>\n",
              "      <th>school1</th>\n",
              "      <td>Helen</td>\n",
              "      <td>Biology</td>\n",
              "      <td>90</td>\n",
              "    </tr>\n",
              "  </tbody>\n",
              "</table>\n",
              "</div>"
            ],
            "text/plain": [
              "          Name    Class  Score\n",
              "school1  Alice  Physics     85\n",
              "school1  Helen  Biology     90"
            ]
          },
          "metadata": {
            "tags": []
          },
          "execution_count": 11
        }
      ]
    },
    {
      "cell_type": "markdown",
      "metadata": {
        "id": "gfQTlMK5BKVZ"
      },
      "source": [
        "#### Por columnas"
      ]
    },
    {
      "cell_type": "code",
      "metadata": {
        "colab": {
          "base_uri": "https://localhost:8080/"
        },
        "id": "tOzsSGqpBXpe",
        "outputId": "cb41b8ac-c15a-4461-ebb5-ab7b0bcdee06"
      },
      "source": [
        "# Panda reserves the indexing operator \n",
        "# directly on the DataFrame for column selection. In a Panda's DataFrame, columns always have a name. \n",
        "# So this selection is always label based, and is not as confusing as it was when using the square \n",
        "# bracket operator on the series objects. For those familiar with relational databases, this operator \n",
        "# is analogous to column projection.\n",
        "school_df['Name']"
      ],
      "execution_count": null,
      "outputs": [
        {
          "output_type": "execute_result",
          "data": {
            "text/plain": [
              "school1    Alice\n",
              "school2     Jack\n",
              "school1    Helen\n",
              "Name: Name, dtype: object"
            ]
          },
          "metadata": {
            "tags": []
          },
          "execution_count": 12
        }
      ]
    },
    {
      "cell_type": "markdown",
      "metadata": {
        "id": "x7VbIbxFCAbw"
      },
      "source": [
        "#### Por índice y columnas a la vez"
      ]
    },
    {
      "cell_type": "code",
      "metadata": {
        "colab": {
          "base_uri": "https://localhost:8080/"
        },
        "id": "41e67MBpBqau",
        "outputId": "40958aa2-514c-412c-b559-3dbf03a391af"
      },
      "source": [
        "school_df.loc['school1']['Name']"
      ],
      "execution_count": null,
      "outputs": [
        {
          "output_type": "execute_result",
          "data": {
            "text/plain": [
              "school1    Alice\n",
              "school1    Helen\n",
              "Name: Name, dtype: object"
            ]
          },
          "metadata": {
            "tags": []
          },
          "execution_count": 13
        }
      ]
    },
    {
      "cell_type": "markdown",
      "metadata": {
        "id": "ivWNo_SxRwvP"
      },
      "source": [
        "#### Por valor"
      ]
    },
    {
      "cell_type": "code",
      "metadata": {
        "colab": {
          "base_uri": "https://localhost:8080/"
        },
        "id": "pKt8lGXaR0HF",
        "outputId": "955329b4-478d-4438-fee7-d240eca60af4"
      },
      "source": [
        "school_df.where(school_df['Name'] == 'Alice')"
      ],
      "execution_count": null,
      "outputs": [
        {
          "output_type": "execute_result",
          "data": {
            "text/html": [
              "<div>\n",
              "<style scoped>\n",
              "    .dataframe tbody tr th:only-of-type {\n",
              "        vertical-align: middle;\n",
              "    }\n",
              "\n",
              "    .dataframe tbody tr th {\n",
              "        vertical-align: top;\n",
              "    }\n",
              "\n",
              "    .dataframe thead th {\n",
              "        text-align: right;\n",
              "    }\n",
              "</style>\n",
              "<table border=\"1\" class=\"dataframe\">\n",
              "  <thead>\n",
              "    <tr style=\"text-align: right;\">\n",
              "      <th></th>\n",
              "      <th>Name</th>\n",
              "      <th>Class</th>\n",
              "      <th>Score</th>\n",
              "    </tr>\n",
              "  </thead>\n",
              "  <tbody>\n",
              "    <tr>\n",
              "      <th>school1</th>\n",
              "      <td>Alice</td>\n",
              "      <td>Physics</td>\n",
              "      <td>85.0</td>\n",
              "    </tr>\n",
              "    <tr>\n",
              "      <th>school2</th>\n",
              "      <td>NaN</td>\n",
              "      <td>NaN</td>\n",
              "      <td>NaN</td>\n",
              "    </tr>\n",
              "    <tr>\n",
              "      <th>school1</th>\n",
              "      <td>NaN</td>\n",
              "      <td>NaN</td>\n",
              "      <td>NaN</td>\n",
              "    </tr>\n",
              "  </tbody>\n",
              "</table>\n",
              "</div>"
            ],
            "text/plain": [
              "          Name    Class  Score\n",
              "school1  Alice  Physics   85.0\n",
              "school2    NaN      NaN    NaN\n",
              "school1    NaN      NaN    NaN"
            ]
          },
          "metadata": {
            "tags": []
          },
          "execution_count": 14
        }
      ]
    },
    {
      "cell_type": "code",
      "metadata": {
        "colab": {
          "base_uri": "https://localhost:8080/"
        },
        "id": "d59-OaXJUa7z",
        "outputId": "b940c54e-2b46-43fc-ad4d-c9043e4cc95b"
      },
      "source": [
        "df = df_california_housing_train.copy()\n",
        "df.head()"
      ],
      "execution_count": null,
      "outputs": [
        {
          "output_type": "execute_result",
          "data": {
            "text/html": [
              "<div>\n",
              "<style scoped>\n",
              "    .dataframe tbody tr th:only-of-type {\n",
              "        vertical-align: middle;\n",
              "    }\n",
              "\n",
              "    .dataframe tbody tr th {\n",
              "        vertical-align: top;\n",
              "    }\n",
              "\n",
              "    .dataframe thead th {\n",
              "        text-align: right;\n",
              "    }\n",
              "</style>\n",
              "<table border=\"1\" class=\"dataframe\">\n",
              "  <thead>\n",
              "    <tr style=\"text-align: right;\">\n",
              "      <th></th>\n",
              "      <th>LONGITUDE</th>\n",
              "      <th>LATITUDE</th>\n",
              "      <th>HOUSING_MEDIAN_AGE</th>\n",
              "      <th>TOTAL_ROOMS</th>\n",
              "      <th>TOTAL_BEDROOMS</th>\n",
              "      <th>POPULATION</th>\n",
              "      <th>HOUSEHOLDS</th>\n",
              "      <th>MEDIAN_INCOME</th>\n",
              "      <th>MEDIAN_HOUSE_VALUE</th>\n",
              "    </tr>\n",
              "  </thead>\n",
              "  <tbody>\n",
              "    <tr>\n",
              "      <th>0</th>\n",
              "      <td>-114.31</td>\n",
              "      <td>34.19</td>\n",
              "      <td>15.0</td>\n",
              "      <td>5612.0</td>\n",
              "      <td>1283.0</td>\n",
              "      <td>1015.0</td>\n",
              "      <td>472.0</td>\n",
              "      <td>1.4936</td>\n",
              "      <td>66900.0</td>\n",
              "    </tr>\n",
              "    <tr>\n",
              "      <th>1</th>\n",
              "      <td>-114.47</td>\n",
              "      <td>34.40</td>\n",
              "      <td>19.0</td>\n",
              "      <td>7650.0</td>\n",
              "      <td>1901.0</td>\n",
              "      <td>1129.0</td>\n",
              "      <td>463.0</td>\n",
              "      <td>1.8200</td>\n",
              "      <td>80100.0</td>\n",
              "    </tr>\n",
              "    <tr>\n",
              "      <th>2</th>\n",
              "      <td>-114.56</td>\n",
              "      <td>33.69</td>\n",
              "      <td>17.0</td>\n",
              "      <td>720.0</td>\n",
              "      <td>174.0</td>\n",
              "      <td>333.0</td>\n",
              "      <td>117.0</td>\n",
              "      <td>1.6509</td>\n",
              "      <td>85700.0</td>\n",
              "    </tr>\n",
              "    <tr>\n",
              "      <th>3</th>\n",
              "      <td>-114.57</td>\n",
              "      <td>33.64</td>\n",
              "      <td>14.0</td>\n",
              "      <td>1501.0</td>\n",
              "      <td>337.0</td>\n",
              "      <td>515.0</td>\n",
              "      <td>226.0</td>\n",
              "      <td>3.1917</td>\n",
              "      <td>73400.0</td>\n",
              "    </tr>\n",
              "    <tr>\n",
              "      <th>4</th>\n",
              "      <td>-114.57</td>\n",
              "      <td>33.57</td>\n",
              "      <td>20.0</td>\n",
              "      <td>1454.0</td>\n",
              "      <td>326.0</td>\n",
              "      <td>624.0</td>\n",
              "      <td>262.0</td>\n",
              "      <td>1.9250</td>\n",
              "      <td>65500.0</td>\n",
              "    </tr>\n",
              "  </tbody>\n",
              "</table>\n",
              "</div>"
            ],
            "text/plain": [
              "   LONGITUDE  LATITUDE  ...  MEDIAN_INCOME  MEDIAN_HOUSE_VALUE\n",
              "0    -114.31     34.19  ...         1.4936             66900.0\n",
              "1    -114.47     34.40  ...         1.8200             80100.0\n",
              "2    -114.56     33.69  ...         1.6509             85700.0\n",
              "3    -114.57     33.64  ...         3.1917             73400.0\n",
              "4    -114.57     33.57  ...         1.9250             65500.0\n",
              "\n",
              "[5 rows x 9 columns]"
            ]
          },
          "metadata": {
            "tags": []
          },
          "execution_count": 15
        }
      ]
    },
    {
      "cell_type": "code",
      "metadata": {
        "colab": {
          "base_uri": "https://localhost:8080/"
        },
        "id": "TMObHLn1UjVU",
        "outputId": "7f022c92-cf9e-4225-834b-218384d5cf20"
      },
      "source": [
        "(df['HOUSING_MEDIAN_AGE'] > 14) & (df['MEDIAN_HOUSE_VALUE'] < 80_000)"
      ],
      "execution_count": null,
      "outputs": [
        {
          "output_type": "execute_result",
          "data": {
            "text/plain": [
              "0         True\n",
              "1        False\n",
              "2        False\n",
              "3        False\n",
              "4         True\n",
              "         ...  \n",
              "16995    False\n",
              "16996     True\n",
              "16997    False\n",
              "16998    False\n",
              "16999    False\n",
              "Length: 17000, dtype: bool"
            ]
          },
          "metadata": {
            "tags": []
          },
          "execution_count": 16
        }
      ]
    },
    {
      "cell_type": "code",
      "metadata": {
        "colab": {
          "base_uri": "https://localhost:8080/"
        },
        "id": "IQWwLd1zVIzQ",
        "outputId": "8201906d-aa80-4ba4-9059-9ae40a6171a4"
      },
      "source": [
        "# Sin los paréntesis daría error debido a cómo parsea python\n",
        "# Otra forma de hacerlo para evitar esos errores es:\n",
        "df['HOUSING_MEDIAN_AGE'].gt(14) & df['MEDIAN_HOUSE_VALUE'].lt(80_000)"
      ],
      "execution_count": null,
      "outputs": [
        {
          "output_type": "execute_result",
          "data": {
            "text/plain": [
              "0         True\n",
              "1        False\n",
              "2        False\n",
              "3        False\n",
              "4         True\n",
              "         ...  \n",
              "16995    False\n",
              "16996     True\n",
              "16997    False\n",
              "16998    False\n",
              "16999    False\n",
              "Length: 17000, dtype: bool"
            ]
          },
          "metadata": {
            "tags": []
          },
          "execution_count": 17
        }
      ]
    },
    {
      "cell_type": "markdown",
      "metadata": {
        "id": "IvFiyFmbCf43"
      },
      "source": [
        "### Eliminar datos"
      ]
    },
    {
      "cell_type": "markdown",
      "metadata": {
        "id": "uG2cYwXeDJqO"
      },
      "source": [
        "#### Drop()"
      ]
    },
    {
      "cell_type": "code",
      "metadata": {
        "colab": {
          "base_uri": "https://localhost:8080/"
        },
        "id": "HEQhjnVBCN8W",
        "outputId": "eba3e3fc-7c1a-4a94-f67e-cddc895bfdac"
      },
      "source": [
        "school_df.drop('school1')"
      ],
      "execution_count": null,
      "outputs": [
        {
          "output_type": "execute_result",
          "data": {
            "text/html": [
              "<div>\n",
              "<style scoped>\n",
              "    .dataframe tbody tr th:only-of-type {\n",
              "        vertical-align: middle;\n",
              "    }\n",
              "\n",
              "    .dataframe tbody tr th {\n",
              "        vertical-align: top;\n",
              "    }\n",
              "\n",
              "    .dataframe thead th {\n",
              "        text-align: right;\n",
              "    }\n",
              "</style>\n",
              "<table border=\"1\" class=\"dataframe\">\n",
              "  <thead>\n",
              "    <tr style=\"text-align: right;\">\n",
              "      <th></th>\n",
              "      <th>Name</th>\n",
              "      <th>Class</th>\n",
              "      <th>Score</th>\n",
              "    </tr>\n",
              "  </thead>\n",
              "  <tbody>\n",
              "    <tr>\n",
              "      <th>school2</th>\n",
              "      <td>Jack</td>\n",
              "      <td>Chemistry</td>\n",
              "      <td>82</td>\n",
              "    </tr>\n",
              "  </tbody>\n",
              "</table>\n",
              "</div>"
            ],
            "text/plain": [
              "         Name      Class  Score\n",
              "school2  Jack  Chemistry     82"
            ]
          },
          "metadata": {
            "tags": []
          },
          "execution_count": 18
        }
      ]
    },
    {
      "cell_type": "code",
      "metadata": {
        "colab": {
          "base_uri": "https://localhost:8080/"
        },
        "id": "DMT_vXFfC9Em",
        "outputId": "952668a9-cede-42eb-96b5-6ed649920a42"
      },
      "source": [
        "# No obstante, no ha modificado el df original\n",
        "copy_df = school_df.copy()\n",
        "\n",
        "# Parámetros opcionales:\n",
        "# inplace; si es True modifica el df en vez de devolver una copia\n",
        "# axis: 0 (por defecto), significa que te refieres a las filas\n",
        "#       1, para referirte a \n",
        "copy_df.drop(\"Name\", inplace=True, axis=1)\n",
        "copy_df"
      ],
      "execution_count": null,
      "outputs": [
        {
          "output_type": "execute_result",
          "data": {
            "text/html": [
              "<div>\n",
              "<style scoped>\n",
              "    .dataframe tbody tr th:only-of-type {\n",
              "        vertical-align: middle;\n",
              "    }\n",
              "\n",
              "    .dataframe tbody tr th {\n",
              "        vertical-align: top;\n",
              "    }\n",
              "\n",
              "    .dataframe thead th {\n",
              "        text-align: right;\n",
              "    }\n",
              "</style>\n",
              "<table border=\"1\" class=\"dataframe\">\n",
              "  <thead>\n",
              "    <tr style=\"text-align: right;\">\n",
              "      <th></th>\n",
              "      <th>Class</th>\n",
              "      <th>Score</th>\n",
              "    </tr>\n",
              "  </thead>\n",
              "  <tbody>\n",
              "    <tr>\n",
              "      <th>school1</th>\n",
              "      <td>Physics</td>\n",
              "      <td>85</td>\n",
              "    </tr>\n",
              "    <tr>\n",
              "      <th>school2</th>\n",
              "      <td>Chemistry</td>\n",
              "      <td>82</td>\n",
              "    </tr>\n",
              "    <tr>\n",
              "      <th>school1</th>\n",
              "      <td>Biology</td>\n",
              "      <td>90</td>\n",
              "    </tr>\n",
              "  </tbody>\n",
              "</table>\n",
              "</div>"
            ],
            "text/plain": [
              "             Class  Score\n",
              "school1    Physics     85\n",
              "school2  Chemistry     82\n",
              "school1    Biology     90"
            ]
          },
          "metadata": {
            "tags": []
          },
          "execution_count": 19
        }
      ]
    },
    {
      "cell_type": "code",
      "metadata": {
        "colab": {
          "base_uri": "https://localhost:8080/"
        },
        "id": "0Yh8ZObHLFkS",
        "outputId": "e6b0388f-a71e-4218-fbc5-0546a49eaf40"
      },
      "source": [
        "# This way of dropping data, however, takes immediate effect \n",
        "# on the DataFrame and does not return a view.\n",
        "del copy_df['Class']\n",
        "copy_df"
      ],
      "execution_count": null,
      "outputs": [
        {
          "output_type": "execute_result",
          "data": {
            "text/html": [
              "<div>\n",
              "<style scoped>\n",
              "    .dataframe tbody tr th:only-of-type {\n",
              "        vertical-align: middle;\n",
              "    }\n",
              "\n",
              "    .dataframe tbody tr th {\n",
              "        vertical-align: top;\n",
              "    }\n",
              "\n",
              "    .dataframe thead th {\n",
              "        text-align: right;\n",
              "    }\n",
              "</style>\n",
              "<table border=\"1\" class=\"dataframe\">\n",
              "  <thead>\n",
              "    <tr style=\"text-align: right;\">\n",
              "      <th></th>\n",
              "      <th>Score</th>\n",
              "    </tr>\n",
              "  </thead>\n",
              "  <tbody>\n",
              "    <tr>\n",
              "      <th>school1</th>\n",
              "      <td>85</td>\n",
              "    </tr>\n",
              "    <tr>\n",
              "      <th>school2</th>\n",
              "      <td>82</td>\n",
              "    </tr>\n",
              "    <tr>\n",
              "      <th>school1</th>\n",
              "      <td>90</td>\n",
              "    </tr>\n",
              "  </tbody>\n",
              "</table>\n",
              "</div>"
            ],
            "text/plain": [
              "         Score\n",
              "school1     85\n",
              "school2     82\n",
              "school1     90"
            ]
          },
          "metadata": {
            "tags": []
          },
          "execution_count": 20
        }
      ]
    },
    {
      "cell_type": "markdown",
      "metadata": {
        "id": "qKcR6Iq_Oc-b"
      },
      "source": [
        "#### Según una cierta condición"
      ]
    },
    {
      "cell_type": "markdown",
      "metadata": {
        "id": "pk9p6AUROs99"
      },
      "source": [
        "###### Method chaining (pandorable)"
      ]
    },
    {
      "cell_type": "markdown",
      "metadata": {
        "id": "nYJtPhT9O0OT"
      },
      "source": [
        "The general idea behind method chaining is that every method on an object \n",
        "returns a reference to that object. The beauty of this is that you can \n",
        "condense many different operations on a DataFrame, for instance, into one line \n",
        "or at least one statement of code."
      ]
    },
    {
      "cell_type": "code",
      "metadata": {
        "colab": {
          "base_uri": "https://localhost:8080/"
        },
        "id": "vzPFrnrlPQ2B",
        "outputId": "26d8e113-cd3e-45b4-eac4-3f5d83f0a3dc"
      },
      "source": [
        "# Borramos las filas que contienen una HOUSING_MEDIAN_AGE distinta a 14\n",
        " \n",
        "# In this code, there's no in place flag being used and you can see that when we \n",
        "# first run a where query, then a dropna, then a set_index, and then a rename. \n",
        "# You might wonder why the whole statement is enclosed in parentheses and that's \n",
        "# just to make the statement more readable.\n",
        "df_copy = df_california_housing_train.copy()\n",
        "\n",
        "(df_copy.where(df_copy['HOUSING_MEDIAN_AGE']==14)\n",
        "    .dropna()\n",
        "    .head())"
      ],
      "execution_count": null,
      "outputs": [
        {
          "output_type": "execute_result",
          "data": {
            "text/html": [
              "<div>\n",
              "<style scoped>\n",
              "    .dataframe tbody tr th:only-of-type {\n",
              "        vertical-align: middle;\n",
              "    }\n",
              "\n",
              "    .dataframe tbody tr th {\n",
              "        vertical-align: top;\n",
              "    }\n",
              "\n",
              "    .dataframe thead th {\n",
              "        text-align: right;\n",
              "    }\n",
              "</style>\n",
              "<table border=\"1\" class=\"dataframe\">\n",
              "  <thead>\n",
              "    <tr style=\"text-align: right;\">\n",
              "      <th></th>\n",
              "      <th>LONGITUDE</th>\n",
              "      <th>LATITUDE</th>\n",
              "      <th>HOUSING_MEDIAN_AGE</th>\n",
              "      <th>TOTAL_ROOMS</th>\n",
              "      <th>TOTAL_BEDROOMS</th>\n",
              "      <th>POPULATION</th>\n",
              "      <th>HOUSEHOLDS</th>\n",
              "      <th>MEDIAN_INCOME</th>\n",
              "      <th>MEDIAN_HOUSE_VALUE</th>\n",
              "    </tr>\n",
              "  </thead>\n",
              "  <tbody>\n",
              "    <tr>\n",
              "      <th>3</th>\n",
              "      <td>-114.57</td>\n",
              "      <td>33.64</td>\n",
              "      <td>14.0</td>\n",
              "      <td>1501.0</td>\n",
              "      <td>337.0</td>\n",
              "      <td>515.0</td>\n",
              "      <td>226.0</td>\n",
              "      <td>3.1917</td>\n",
              "      <td>73400.0</td>\n",
              "    </tr>\n",
              "    <tr>\n",
              "      <th>27</th>\n",
              "      <td>-115.37</td>\n",
              "      <td>32.82</td>\n",
              "      <td>14.0</td>\n",
              "      <td>1276.0</td>\n",
              "      <td>270.0</td>\n",
              "      <td>867.0</td>\n",
              "      <td>261.0</td>\n",
              "      <td>1.9375</td>\n",
              "      <td>80900.0</td>\n",
              "    </tr>\n",
              "    <tr>\n",
              "      <th>63</th>\n",
              "      <td>-115.53</td>\n",
              "      <td>32.73</td>\n",
              "      <td>14.0</td>\n",
              "      <td>1527.0</td>\n",
              "      <td>325.0</td>\n",
              "      <td>1453.0</td>\n",
              "      <td>332.0</td>\n",
              "      <td>1.7350</td>\n",
              "      <td>61200.0</td>\n",
              "    </tr>\n",
              "    <tr>\n",
              "      <th>97</th>\n",
              "      <td>-115.58</td>\n",
              "      <td>32.79</td>\n",
              "      <td>14.0</td>\n",
              "      <td>1687.0</td>\n",
              "      <td>507.0</td>\n",
              "      <td>762.0</td>\n",
              "      <td>451.0</td>\n",
              "      <td>1.6635</td>\n",
              "      <td>64400.0</td>\n",
              "    </tr>\n",
              "    <tr>\n",
              "      <th>157</th>\n",
              "      <td>-116.22</td>\n",
              "      <td>36.00</td>\n",
              "      <td>14.0</td>\n",
              "      <td>1372.0</td>\n",
              "      <td>386.0</td>\n",
              "      <td>436.0</td>\n",
              "      <td>213.0</td>\n",
              "      <td>1.1471</td>\n",
              "      <td>32900.0</td>\n",
              "    </tr>\n",
              "  </tbody>\n",
              "</table>\n",
              "</div>"
            ],
            "text/plain": [
              "     LONGITUDE  LATITUDE  ...  MEDIAN_INCOME  MEDIAN_HOUSE_VALUE\n",
              "3      -114.57     33.64  ...         3.1917             73400.0\n",
              "27     -115.37     32.82  ...         1.9375             80900.0\n",
              "63     -115.53     32.73  ...         1.7350             61200.0\n",
              "97     -115.58     32.79  ...         1.6635             64400.0\n",
              "157    -116.22     36.00  ...         1.1471             32900.0\n",
              "\n",
              "[5 rows x 9 columns]"
            ]
          },
          "metadata": {
            "tags": []
          },
          "execution_count": 21
        }
      ]
    },
    {
      "cell_type": "markdown",
      "metadata": {
        "id": "IiA07c12PAlf"
      },
      "source": [
        "###### Manera tradicional (más rápida)"
      ]
    },
    {
      "cell_type": "code",
      "metadata": {
        "colab": {
          "base_uri": "https://localhost:8080/"
        },
        "id": "uMyJn7U8QTnV",
        "outputId": "aaf3d58f-93e7-4bfa-9131-0231b8339e0d"
      },
      "source": [
        "df_copy = df_california_housing_train.copy()\n",
        "\n",
        "df_copy = df_copy[df_copy['HOUSING_MEDIAN_AGE']==14]\n",
        "df_copy.head()"
      ],
      "execution_count": null,
      "outputs": [
        {
          "output_type": "execute_result",
          "data": {
            "text/html": [
              "<div>\n",
              "<style scoped>\n",
              "    .dataframe tbody tr th:only-of-type {\n",
              "        vertical-align: middle;\n",
              "    }\n",
              "\n",
              "    .dataframe tbody tr th {\n",
              "        vertical-align: top;\n",
              "    }\n",
              "\n",
              "    .dataframe thead th {\n",
              "        text-align: right;\n",
              "    }\n",
              "</style>\n",
              "<table border=\"1\" class=\"dataframe\">\n",
              "  <thead>\n",
              "    <tr style=\"text-align: right;\">\n",
              "      <th></th>\n",
              "      <th>LONGITUDE</th>\n",
              "      <th>LATITUDE</th>\n",
              "      <th>HOUSING_MEDIAN_AGE</th>\n",
              "      <th>TOTAL_ROOMS</th>\n",
              "      <th>TOTAL_BEDROOMS</th>\n",
              "      <th>POPULATION</th>\n",
              "      <th>HOUSEHOLDS</th>\n",
              "      <th>MEDIAN_INCOME</th>\n",
              "      <th>MEDIAN_HOUSE_VALUE</th>\n",
              "    </tr>\n",
              "  </thead>\n",
              "  <tbody>\n",
              "    <tr>\n",
              "      <th>3</th>\n",
              "      <td>-114.57</td>\n",
              "      <td>33.64</td>\n",
              "      <td>14.0</td>\n",
              "      <td>1501.0</td>\n",
              "      <td>337.0</td>\n",
              "      <td>515.0</td>\n",
              "      <td>226.0</td>\n",
              "      <td>3.1917</td>\n",
              "      <td>73400.0</td>\n",
              "    </tr>\n",
              "    <tr>\n",
              "      <th>27</th>\n",
              "      <td>-115.37</td>\n",
              "      <td>32.82</td>\n",
              "      <td>14.0</td>\n",
              "      <td>1276.0</td>\n",
              "      <td>270.0</td>\n",
              "      <td>867.0</td>\n",
              "      <td>261.0</td>\n",
              "      <td>1.9375</td>\n",
              "      <td>80900.0</td>\n",
              "    </tr>\n",
              "    <tr>\n",
              "      <th>63</th>\n",
              "      <td>-115.53</td>\n",
              "      <td>32.73</td>\n",
              "      <td>14.0</td>\n",
              "      <td>1527.0</td>\n",
              "      <td>325.0</td>\n",
              "      <td>1453.0</td>\n",
              "      <td>332.0</td>\n",
              "      <td>1.7350</td>\n",
              "      <td>61200.0</td>\n",
              "    </tr>\n",
              "    <tr>\n",
              "      <th>97</th>\n",
              "      <td>-115.58</td>\n",
              "      <td>32.79</td>\n",
              "      <td>14.0</td>\n",
              "      <td>1687.0</td>\n",
              "      <td>507.0</td>\n",
              "      <td>762.0</td>\n",
              "      <td>451.0</td>\n",
              "      <td>1.6635</td>\n",
              "      <td>64400.0</td>\n",
              "    </tr>\n",
              "    <tr>\n",
              "      <th>157</th>\n",
              "      <td>-116.22</td>\n",
              "      <td>36.00</td>\n",
              "      <td>14.0</td>\n",
              "      <td>1372.0</td>\n",
              "      <td>386.0</td>\n",
              "      <td>436.0</td>\n",
              "      <td>213.0</td>\n",
              "      <td>1.1471</td>\n",
              "      <td>32900.0</td>\n",
              "    </tr>\n",
              "  </tbody>\n",
              "</table>\n",
              "</div>"
            ],
            "text/plain": [
              "     LONGITUDE  LATITUDE  ...  MEDIAN_INCOME  MEDIAN_HOUSE_VALUE\n",
              "3      -114.57     33.64  ...         3.1917             73400.0\n",
              "27     -115.37     32.82  ...         1.9375             80900.0\n",
              "63     -115.53     32.73  ...         1.7350             61200.0\n",
              "97     -115.58     32.79  ...         1.6635             64400.0\n",
              "157    -116.22     36.00  ...         1.1471             32900.0\n",
              "\n",
              "[5 rows x 9 columns]"
            ]
          },
          "metadata": {
            "tags": []
          },
          "execution_count": 22
        }
      ]
    },
    {
      "cell_type": "markdown",
      "metadata": {
        "id": "XRZm8o-RRNOW"
      },
      "source": [
        "#### Celdas vacías"
      ]
    },
    {
      "cell_type": "code",
      "metadata": {
        "colab": {
          "base_uri": "https://localhost:8080/"
        },
        "id": "RyEAiK7wRX1l",
        "outputId": "875e30f0-0f4a-4ee6-d2bc-c5646d1d9ee8"
      },
      "source": [
        "df = df_california_housing_train.copy()\n",
        "\n",
        "# Añadimos celdas vacías\n",
        "df['HOUSING_MEDIAN_AGE'] = (df['HOUSING_MEDIAN_AGE']\n",
        "                  .where(df['HOUSING_MEDIAN_AGE']!=14))\n",
        "df.head()"
      ],
      "execution_count": null,
      "outputs": [
        {
          "output_type": "execute_result",
          "data": {
            "text/html": [
              "<div>\n",
              "<style scoped>\n",
              "    .dataframe tbody tr th:only-of-type {\n",
              "        vertical-align: middle;\n",
              "    }\n",
              "\n",
              "    .dataframe tbody tr th {\n",
              "        vertical-align: top;\n",
              "    }\n",
              "\n",
              "    .dataframe thead th {\n",
              "        text-align: right;\n",
              "    }\n",
              "</style>\n",
              "<table border=\"1\" class=\"dataframe\">\n",
              "  <thead>\n",
              "    <tr style=\"text-align: right;\">\n",
              "      <th></th>\n",
              "      <th>LONGITUDE</th>\n",
              "      <th>LATITUDE</th>\n",
              "      <th>HOUSING_MEDIAN_AGE</th>\n",
              "      <th>TOTAL_ROOMS</th>\n",
              "      <th>TOTAL_BEDROOMS</th>\n",
              "      <th>POPULATION</th>\n",
              "      <th>HOUSEHOLDS</th>\n",
              "      <th>MEDIAN_INCOME</th>\n",
              "      <th>MEDIAN_HOUSE_VALUE</th>\n",
              "    </tr>\n",
              "  </thead>\n",
              "  <tbody>\n",
              "    <tr>\n",
              "      <th>0</th>\n",
              "      <td>-114.31</td>\n",
              "      <td>34.19</td>\n",
              "      <td>15.0</td>\n",
              "      <td>5612.0</td>\n",
              "      <td>1283.0</td>\n",
              "      <td>1015.0</td>\n",
              "      <td>472.0</td>\n",
              "      <td>1.4936</td>\n",
              "      <td>66900.0</td>\n",
              "    </tr>\n",
              "    <tr>\n",
              "      <th>1</th>\n",
              "      <td>-114.47</td>\n",
              "      <td>34.40</td>\n",
              "      <td>19.0</td>\n",
              "      <td>7650.0</td>\n",
              "      <td>1901.0</td>\n",
              "      <td>1129.0</td>\n",
              "      <td>463.0</td>\n",
              "      <td>1.8200</td>\n",
              "      <td>80100.0</td>\n",
              "    </tr>\n",
              "    <tr>\n",
              "      <th>2</th>\n",
              "      <td>-114.56</td>\n",
              "      <td>33.69</td>\n",
              "      <td>17.0</td>\n",
              "      <td>720.0</td>\n",
              "      <td>174.0</td>\n",
              "      <td>333.0</td>\n",
              "      <td>117.0</td>\n",
              "      <td>1.6509</td>\n",
              "      <td>85700.0</td>\n",
              "    </tr>\n",
              "    <tr>\n",
              "      <th>3</th>\n",
              "      <td>-114.57</td>\n",
              "      <td>33.64</td>\n",
              "      <td>NaN</td>\n",
              "      <td>1501.0</td>\n",
              "      <td>337.0</td>\n",
              "      <td>515.0</td>\n",
              "      <td>226.0</td>\n",
              "      <td>3.1917</td>\n",
              "      <td>73400.0</td>\n",
              "    </tr>\n",
              "    <tr>\n",
              "      <th>4</th>\n",
              "      <td>-114.57</td>\n",
              "      <td>33.57</td>\n",
              "      <td>20.0</td>\n",
              "      <td>1454.0</td>\n",
              "      <td>326.0</td>\n",
              "      <td>624.0</td>\n",
              "      <td>262.0</td>\n",
              "      <td>1.9250</td>\n",
              "      <td>65500.0</td>\n",
              "    </tr>\n",
              "  </tbody>\n",
              "</table>\n",
              "</div>"
            ],
            "text/plain": [
              "   LONGITUDE  LATITUDE  ...  MEDIAN_INCOME  MEDIAN_HOUSE_VALUE\n",
              "0    -114.31     34.19  ...         1.4936             66900.0\n",
              "1    -114.47     34.40  ...         1.8200             80100.0\n",
              "2    -114.56     33.69  ...         1.6509             85700.0\n",
              "3    -114.57     33.64  ...         3.1917             73400.0\n",
              "4    -114.57     33.57  ...         1.9250             65500.0\n",
              "\n",
              "[5 rows x 9 columns]"
            ]
          },
          "metadata": {
            "tags": []
          },
          "execution_count": 23
        }
      ]
    },
    {
      "cell_type": "code",
      "metadata": {
        "colab": {
          "base_uri": "https://localhost:8080/"
        },
        "id": "r0ZTkV1WSCC-",
        "outputId": "5966ad88-d6c3-4f8b-8e61-0df66cc19727"
      },
      "source": [
        "mask = df.isnull()\n",
        "mask.head()"
      ],
      "execution_count": null,
      "outputs": [
        {
          "output_type": "execute_result",
          "data": {
            "text/html": [
              "<div>\n",
              "<style scoped>\n",
              "    .dataframe tbody tr th:only-of-type {\n",
              "        vertical-align: middle;\n",
              "    }\n",
              "\n",
              "    .dataframe tbody tr th {\n",
              "        vertical-align: top;\n",
              "    }\n",
              "\n",
              "    .dataframe thead th {\n",
              "        text-align: right;\n",
              "    }\n",
              "</style>\n",
              "<table border=\"1\" class=\"dataframe\">\n",
              "  <thead>\n",
              "    <tr style=\"text-align: right;\">\n",
              "      <th></th>\n",
              "      <th>LONGITUDE</th>\n",
              "      <th>LATITUDE</th>\n",
              "      <th>HOUSING_MEDIAN_AGE</th>\n",
              "      <th>TOTAL_ROOMS</th>\n",
              "      <th>TOTAL_BEDROOMS</th>\n",
              "      <th>POPULATION</th>\n",
              "      <th>HOUSEHOLDS</th>\n",
              "      <th>MEDIAN_INCOME</th>\n",
              "      <th>MEDIAN_HOUSE_VALUE</th>\n",
              "    </tr>\n",
              "  </thead>\n",
              "  <tbody>\n",
              "    <tr>\n",
              "      <th>0</th>\n",
              "      <td>False</td>\n",
              "      <td>False</td>\n",
              "      <td>False</td>\n",
              "      <td>False</td>\n",
              "      <td>False</td>\n",
              "      <td>False</td>\n",
              "      <td>False</td>\n",
              "      <td>False</td>\n",
              "      <td>False</td>\n",
              "    </tr>\n",
              "    <tr>\n",
              "      <th>1</th>\n",
              "      <td>False</td>\n",
              "      <td>False</td>\n",
              "      <td>False</td>\n",
              "      <td>False</td>\n",
              "      <td>False</td>\n",
              "      <td>False</td>\n",
              "      <td>False</td>\n",
              "      <td>False</td>\n",
              "      <td>False</td>\n",
              "    </tr>\n",
              "    <tr>\n",
              "      <th>2</th>\n",
              "      <td>False</td>\n",
              "      <td>False</td>\n",
              "      <td>False</td>\n",
              "      <td>False</td>\n",
              "      <td>False</td>\n",
              "      <td>False</td>\n",
              "      <td>False</td>\n",
              "      <td>False</td>\n",
              "      <td>False</td>\n",
              "    </tr>\n",
              "    <tr>\n",
              "      <th>3</th>\n",
              "      <td>False</td>\n",
              "      <td>False</td>\n",
              "      <td>True</td>\n",
              "      <td>False</td>\n",
              "      <td>False</td>\n",
              "      <td>False</td>\n",
              "      <td>False</td>\n",
              "      <td>False</td>\n",
              "      <td>False</td>\n",
              "    </tr>\n",
              "    <tr>\n",
              "      <th>4</th>\n",
              "      <td>False</td>\n",
              "      <td>False</td>\n",
              "      <td>False</td>\n",
              "      <td>False</td>\n",
              "      <td>False</td>\n",
              "      <td>False</td>\n",
              "      <td>False</td>\n",
              "      <td>False</td>\n",
              "      <td>False</td>\n",
              "    </tr>\n",
              "  </tbody>\n",
              "</table>\n",
              "</div>"
            ],
            "text/plain": [
              "   LONGITUDE  LATITUDE  ...  MEDIAN_INCOME  MEDIAN_HOUSE_VALUE\n",
              "0      False     False  ...          False               False\n",
              "1      False     False  ...          False               False\n",
              "2      False     False  ...          False               False\n",
              "3      False     False  ...          False               False\n",
              "4      False     False  ...          False               False\n",
              "\n",
              "[5 rows x 9 columns]"
            ]
          },
          "metadata": {
            "tags": []
          },
          "execution_count": 24
        }
      ]
    },
    {
      "cell_type": "code",
      "metadata": {
        "colab": {
          "base_uri": "https://localhost:8080/"
        },
        "id": "o57xMLS5S2nT",
        "outputId": "eef0145d-d8cf-4937-f23e-83fa82f5f8cd"
      },
      "source": [
        "df = df.dropna()\n",
        "df.head()"
      ],
      "execution_count": null,
      "outputs": [
        {
          "output_type": "execute_result",
          "data": {
            "text/html": [
              "<div>\n",
              "<style scoped>\n",
              "    .dataframe tbody tr th:only-of-type {\n",
              "        vertical-align: middle;\n",
              "    }\n",
              "\n",
              "    .dataframe tbody tr th {\n",
              "        vertical-align: top;\n",
              "    }\n",
              "\n",
              "    .dataframe thead th {\n",
              "        text-align: right;\n",
              "    }\n",
              "</style>\n",
              "<table border=\"1\" class=\"dataframe\">\n",
              "  <thead>\n",
              "    <tr style=\"text-align: right;\">\n",
              "      <th></th>\n",
              "      <th>LONGITUDE</th>\n",
              "      <th>LATITUDE</th>\n",
              "      <th>HOUSING_MEDIAN_AGE</th>\n",
              "      <th>TOTAL_ROOMS</th>\n",
              "      <th>TOTAL_BEDROOMS</th>\n",
              "      <th>POPULATION</th>\n",
              "      <th>HOUSEHOLDS</th>\n",
              "      <th>MEDIAN_INCOME</th>\n",
              "      <th>MEDIAN_HOUSE_VALUE</th>\n",
              "    </tr>\n",
              "  </thead>\n",
              "  <tbody>\n",
              "    <tr>\n",
              "      <th>0</th>\n",
              "      <td>-114.31</td>\n",
              "      <td>34.19</td>\n",
              "      <td>15.0</td>\n",
              "      <td>5612.0</td>\n",
              "      <td>1283.0</td>\n",
              "      <td>1015.0</td>\n",
              "      <td>472.0</td>\n",
              "      <td>1.4936</td>\n",
              "      <td>66900.0</td>\n",
              "    </tr>\n",
              "    <tr>\n",
              "      <th>1</th>\n",
              "      <td>-114.47</td>\n",
              "      <td>34.40</td>\n",
              "      <td>19.0</td>\n",
              "      <td>7650.0</td>\n",
              "      <td>1901.0</td>\n",
              "      <td>1129.0</td>\n",
              "      <td>463.0</td>\n",
              "      <td>1.8200</td>\n",
              "      <td>80100.0</td>\n",
              "    </tr>\n",
              "    <tr>\n",
              "      <th>2</th>\n",
              "      <td>-114.56</td>\n",
              "      <td>33.69</td>\n",
              "      <td>17.0</td>\n",
              "      <td>720.0</td>\n",
              "      <td>174.0</td>\n",
              "      <td>333.0</td>\n",
              "      <td>117.0</td>\n",
              "      <td>1.6509</td>\n",
              "      <td>85700.0</td>\n",
              "    </tr>\n",
              "    <tr>\n",
              "      <th>4</th>\n",
              "      <td>-114.57</td>\n",
              "      <td>33.57</td>\n",
              "      <td>20.0</td>\n",
              "      <td>1454.0</td>\n",
              "      <td>326.0</td>\n",
              "      <td>624.0</td>\n",
              "      <td>262.0</td>\n",
              "      <td>1.9250</td>\n",
              "      <td>65500.0</td>\n",
              "    </tr>\n",
              "    <tr>\n",
              "      <th>5</th>\n",
              "      <td>-114.58</td>\n",
              "      <td>33.63</td>\n",
              "      <td>29.0</td>\n",
              "      <td>1387.0</td>\n",
              "      <td>236.0</td>\n",
              "      <td>671.0</td>\n",
              "      <td>239.0</td>\n",
              "      <td>3.3438</td>\n",
              "      <td>74000.0</td>\n",
              "    </tr>\n",
              "  </tbody>\n",
              "</table>\n",
              "</div>"
            ],
            "text/plain": [
              "   LONGITUDE  LATITUDE  ...  MEDIAN_INCOME  MEDIAN_HOUSE_VALUE\n",
              "0    -114.31     34.19  ...         1.4936             66900.0\n",
              "1    -114.47     34.40  ...         1.8200             80100.0\n",
              "2    -114.56     33.69  ...         1.6509             85700.0\n",
              "4    -114.57     33.57  ...         1.9250             65500.0\n",
              "5    -114.58     33.63  ...         3.3438             74000.0\n",
              "\n",
              "[5 rows x 9 columns]"
            ]
          },
          "metadata": {
            "tags": []
          },
          "execution_count": 25
        }
      ]
    },
    {
      "cell_type": "markdown",
      "metadata": {
        "id": "kD_XL8QitWYi"
      },
      "source": [
        "#### Eliminar columnas"
      ]
    },
    {
      "cell_type": "code",
      "metadata": {
        "colab": {
          "base_uri": "https://localhost:8080/"
        },
        "id": "SEa4AzfFtjds",
        "outputId": "0315ee66-367b-4dc7-d719-8d195ebc212a"
      },
      "source": [
        "df.drop([\"TOTAL_BEDROOMS\"], axis=1)"
      ],
      "execution_count": null,
      "outputs": [
        {
          "output_type": "execute_result",
          "data": {
            "text/html": [
              "<div>\n",
              "<style scoped>\n",
              "    .dataframe tbody tr th:only-of-type {\n",
              "        vertical-align: middle;\n",
              "    }\n",
              "\n",
              "    .dataframe tbody tr th {\n",
              "        vertical-align: top;\n",
              "    }\n",
              "\n",
              "    .dataframe thead th {\n",
              "        text-align: right;\n",
              "    }\n",
              "</style>\n",
              "<table border=\"1\" class=\"dataframe\">\n",
              "  <thead>\n",
              "    <tr style=\"text-align: right;\">\n",
              "      <th></th>\n",
              "      <th>LONGITUDE</th>\n",
              "      <th>LATITUDE</th>\n",
              "      <th>HOUSING_MEDIAN_AGE</th>\n",
              "      <th>TOTAL_ROOMS</th>\n",
              "      <th>POPULATION</th>\n",
              "      <th>HOUSEHOLDS</th>\n",
              "      <th>MEDIAN_INCOME</th>\n",
              "      <th>MEDIAN_HOUSE_VALUE</th>\n",
              "    </tr>\n",
              "  </thead>\n",
              "  <tbody>\n",
              "    <tr>\n",
              "      <th>0</th>\n",
              "      <td>-114.31</td>\n",
              "      <td>34.19</td>\n",
              "      <td>15.0</td>\n",
              "      <td>5612.0</td>\n",
              "      <td>1015.0</td>\n",
              "      <td>472.0</td>\n",
              "      <td>1.4936</td>\n",
              "      <td>66900.0</td>\n",
              "    </tr>\n",
              "    <tr>\n",
              "      <th>1</th>\n",
              "      <td>-114.47</td>\n",
              "      <td>34.40</td>\n",
              "      <td>19.0</td>\n",
              "      <td>7650.0</td>\n",
              "      <td>1129.0</td>\n",
              "      <td>463.0</td>\n",
              "      <td>1.8200</td>\n",
              "      <td>80100.0</td>\n",
              "    </tr>\n",
              "    <tr>\n",
              "      <th>2</th>\n",
              "      <td>-114.56</td>\n",
              "      <td>33.69</td>\n",
              "      <td>17.0</td>\n",
              "      <td>720.0</td>\n",
              "      <td>333.0</td>\n",
              "      <td>117.0</td>\n",
              "      <td>1.6509</td>\n",
              "      <td>85700.0</td>\n",
              "    </tr>\n",
              "    <tr>\n",
              "      <th>4</th>\n",
              "      <td>-114.57</td>\n",
              "      <td>33.57</td>\n",
              "      <td>20.0</td>\n",
              "      <td>1454.0</td>\n",
              "      <td>624.0</td>\n",
              "      <td>262.0</td>\n",
              "      <td>1.9250</td>\n",
              "      <td>65500.0</td>\n",
              "    </tr>\n",
              "    <tr>\n",
              "      <th>5</th>\n",
              "      <td>-114.58</td>\n",
              "      <td>33.63</td>\n",
              "      <td>29.0</td>\n",
              "      <td>1387.0</td>\n",
              "      <td>671.0</td>\n",
              "      <td>239.0</td>\n",
              "      <td>3.3438</td>\n",
              "      <td>74000.0</td>\n",
              "    </tr>\n",
              "    <tr>\n",
              "      <th>...</th>\n",
              "      <td>...</td>\n",
              "      <td>...</td>\n",
              "      <td>...</td>\n",
              "      <td>...</td>\n",
              "      <td>...</td>\n",
              "      <td>...</td>\n",
              "      <td>...</td>\n",
              "      <td>...</td>\n",
              "    </tr>\n",
              "    <tr>\n",
              "      <th>16995</th>\n",
              "      <td>-124.26</td>\n",
              "      <td>40.58</td>\n",
              "      <td>52.0</td>\n",
              "      <td>2217.0</td>\n",
              "      <td>907.0</td>\n",
              "      <td>369.0</td>\n",
              "      <td>2.3571</td>\n",
              "      <td>111400.0</td>\n",
              "    </tr>\n",
              "    <tr>\n",
              "      <th>16996</th>\n",
              "      <td>-124.27</td>\n",
              "      <td>40.69</td>\n",
              "      <td>36.0</td>\n",
              "      <td>2349.0</td>\n",
              "      <td>1194.0</td>\n",
              "      <td>465.0</td>\n",
              "      <td>2.5179</td>\n",
              "      <td>79000.0</td>\n",
              "    </tr>\n",
              "    <tr>\n",
              "      <th>16997</th>\n",
              "      <td>-124.30</td>\n",
              "      <td>41.84</td>\n",
              "      <td>17.0</td>\n",
              "      <td>2677.0</td>\n",
              "      <td>1244.0</td>\n",
              "      <td>456.0</td>\n",
              "      <td>3.0313</td>\n",
              "      <td>103600.0</td>\n",
              "    </tr>\n",
              "    <tr>\n",
              "      <th>16998</th>\n",
              "      <td>-124.30</td>\n",
              "      <td>41.80</td>\n",
              "      <td>19.0</td>\n",
              "      <td>2672.0</td>\n",
              "      <td>1298.0</td>\n",
              "      <td>478.0</td>\n",
              "      <td>1.9797</td>\n",
              "      <td>85800.0</td>\n",
              "    </tr>\n",
              "    <tr>\n",
              "      <th>16999</th>\n",
              "      <td>-124.35</td>\n",
              "      <td>40.54</td>\n",
              "      <td>52.0</td>\n",
              "      <td>1820.0</td>\n",
              "      <td>806.0</td>\n",
              "      <td>270.0</td>\n",
              "      <td>3.0147</td>\n",
              "      <td>94600.0</td>\n",
              "    </tr>\n",
              "  </tbody>\n",
              "</table>\n",
              "<p>16653 rows × 8 columns</p>\n",
              "</div>"
            ],
            "text/plain": [
              "       LONGITUDE  LATITUDE  ...  MEDIAN_INCOME  MEDIAN_HOUSE_VALUE\n",
              "0        -114.31     34.19  ...         1.4936             66900.0\n",
              "1        -114.47     34.40  ...         1.8200             80100.0\n",
              "2        -114.56     33.69  ...         1.6509             85700.0\n",
              "4        -114.57     33.57  ...         1.9250             65500.0\n",
              "5        -114.58     33.63  ...         3.3438             74000.0\n",
              "...          ...       ...  ...            ...                 ...\n",
              "16995    -124.26     40.58  ...         2.3571            111400.0\n",
              "16996    -124.27     40.69  ...         2.5179             79000.0\n",
              "16997    -124.30     41.84  ...         3.0313            103600.0\n",
              "16998    -124.30     41.80  ...         1.9797             85800.0\n",
              "16999    -124.35     40.54  ...         3.0147             94600.0\n",
              "\n",
              "[16653 rows x 8 columns]"
            ]
          },
          "metadata": {
            "tags": []
          },
          "execution_count": 26
        }
      ]
    },
    {
      "cell_type": "markdown",
      "metadata": {
        "id": "NJHlUfHFKgeB"
      },
      "source": [
        "### Añadir datos"
      ]
    },
    {
      "cell_type": "code",
      "metadata": {
        "colab": {
          "base_uri": "https://localhost:8080/",
          "height": 142
        },
        "id": "upqSMk82KxUI",
        "outputId": "1b6ef25e-e83f-499c-fa16-ff96fae065c3"
      },
      "source": [
        "school_df['ClassRanking'] = None\n",
        "school_df"
      ],
      "execution_count": null,
      "outputs": [
        {
          "output_type": "execute_result",
          "data": {
            "text/html": [
              "<div>\n",
              "<style scoped>\n",
              "    .dataframe tbody tr th:only-of-type {\n",
              "        vertical-align: middle;\n",
              "    }\n",
              "\n",
              "    .dataframe tbody tr th {\n",
              "        vertical-align: top;\n",
              "    }\n",
              "\n",
              "    .dataframe thead th {\n",
              "        text-align: right;\n",
              "    }\n",
              "</style>\n",
              "<table border=\"1\" class=\"dataframe\">\n",
              "  <thead>\n",
              "    <tr style=\"text-align: right;\">\n",
              "      <th></th>\n",
              "      <th>Name</th>\n",
              "      <th>Class</th>\n",
              "      <th>Score</th>\n",
              "      <th>ClassRanking</th>\n",
              "    </tr>\n",
              "  </thead>\n",
              "  <tbody>\n",
              "    <tr>\n",
              "      <th>school1</th>\n",
              "      <td>Alice</td>\n",
              "      <td>Physics</td>\n",
              "      <td>85</td>\n",
              "      <td>None</td>\n",
              "    </tr>\n",
              "    <tr>\n",
              "      <th>school2</th>\n",
              "      <td>Jack</td>\n",
              "      <td>Chemistry</td>\n",
              "      <td>82</td>\n",
              "      <td>None</td>\n",
              "    </tr>\n",
              "    <tr>\n",
              "      <th>school1</th>\n",
              "      <td>Helen</td>\n",
              "      <td>Biology</td>\n",
              "      <td>90</td>\n",
              "      <td>None</td>\n",
              "    </tr>\n",
              "  </tbody>\n",
              "</table>\n",
              "</div>"
            ],
            "text/plain": [
              "          Name      Class  Score ClassRanking\n",
              "school1  Alice    Physics     85         None\n",
              "school2   Jack  Chemistry     82         None\n",
              "school1  Helen    Biology     90         None"
            ]
          },
          "metadata": {
            "tags": []
          },
          "execution_count": 27
        }
      ]
    },
    {
      "cell_type": "code",
      "metadata": {
        "colab": {
          "base_uri": "https://localhost:8080/",
          "height": 204
        },
        "id": "uDHU3QGTsDB9",
        "outputId": "1fa308ee-6568-4d60-d7b4-dd37e8062646"
      },
      "source": [
        "df_copy = df_california_housing_train.copy()\n",
        "df_copy.head()"
      ],
      "execution_count": null,
      "outputs": [
        {
          "output_type": "execute_result",
          "data": {
            "text/html": [
              "<div>\n",
              "<style scoped>\n",
              "    .dataframe tbody tr th:only-of-type {\n",
              "        vertical-align: middle;\n",
              "    }\n",
              "\n",
              "    .dataframe tbody tr th {\n",
              "        vertical-align: top;\n",
              "    }\n",
              "\n",
              "    .dataframe thead th {\n",
              "        text-align: right;\n",
              "    }\n",
              "</style>\n",
              "<table border=\"1\" class=\"dataframe\">\n",
              "  <thead>\n",
              "    <tr style=\"text-align: right;\">\n",
              "      <th></th>\n",
              "      <th>LONGITUDE</th>\n",
              "      <th>LATITUDE</th>\n",
              "      <th>HOUSING_MEDIAN_AGE</th>\n",
              "      <th>TOTAL_ROOMS</th>\n",
              "      <th>TOTAL_BEDROOMS</th>\n",
              "      <th>POPULATION</th>\n",
              "      <th>HOUSEHOLDS</th>\n",
              "      <th>MEDIAN_INCOME</th>\n",
              "      <th>MEDIAN_HOUSE_VALUE</th>\n",
              "    </tr>\n",
              "  </thead>\n",
              "  <tbody>\n",
              "    <tr>\n",
              "      <th>0</th>\n",
              "      <td>-114.31</td>\n",
              "      <td>34.19</td>\n",
              "      <td>15.0</td>\n",
              "      <td>5612.0</td>\n",
              "      <td>1283.0</td>\n",
              "      <td>1015.0</td>\n",
              "      <td>472.0</td>\n",
              "      <td>1.4936</td>\n",
              "      <td>66900.0</td>\n",
              "    </tr>\n",
              "    <tr>\n",
              "      <th>1</th>\n",
              "      <td>-114.47</td>\n",
              "      <td>34.40</td>\n",
              "      <td>19.0</td>\n",
              "      <td>7650.0</td>\n",
              "      <td>1901.0</td>\n",
              "      <td>1129.0</td>\n",
              "      <td>463.0</td>\n",
              "      <td>1.8200</td>\n",
              "      <td>80100.0</td>\n",
              "    </tr>\n",
              "    <tr>\n",
              "      <th>2</th>\n",
              "      <td>-114.56</td>\n",
              "      <td>33.69</td>\n",
              "      <td>17.0</td>\n",
              "      <td>720.0</td>\n",
              "      <td>174.0</td>\n",
              "      <td>333.0</td>\n",
              "      <td>117.0</td>\n",
              "      <td>1.6509</td>\n",
              "      <td>85700.0</td>\n",
              "    </tr>\n",
              "    <tr>\n",
              "      <th>3</th>\n",
              "      <td>-114.57</td>\n",
              "      <td>33.64</td>\n",
              "      <td>14.0</td>\n",
              "      <td>1501.0</td>\n",
              "      <td>337.0</td>\n",
              "      <td>515.0</td>\n",
              "      <td>226.0</td>\n",
              "      <td>3.1917</td>\n",
              "      <td>73400.0</td>\n",
              "    </tr>\n",
              "    <tr>\n",
              "      <th>4</th>\n",
              "      <td>-114.57</td>\n",
              "      <td>33.57</td>\n",
              "      <td>20.0</td>\n",
              "      <td>1454.0</td>\n",
              "      <td>326.0</td>\n",
              "      <td>624.0</td>\n",
              "      <td>262.0</td>\n",
              "      <td>1.9250</td>\n",
              "      <td>65500.0</td>\n",
              "    </tr>\n",
              "  </tbody>\n",
              "</table>\n",
              "</div>"
            ],
            "text/plain": [
              "   LONGITUDE  LATITUDE  ...  MEDIAN_INCOME  MEDIAN_HOUSE_VALUE\n",
              "0    -114.31     34.19  ...         1.4936             66900.0\n",
              "1    -114.47     34.40  ...         1.8200             80100.0\n",
              "2    -114.56     33.69  ...         1.6509             85700.0\n",
              "3    -114.57     33.64  ...         3.1917             73400.0\n",
              "4    -114.57     33.57  ...         1.9250             65500.0\n",
              "\n",
              "[5 rows x 9 columns]"
            ]
          },
          "metadata": {
            "tags": []
          },
          "execution_count": 28
        }
      ]
    },
    {
      "cell_type": "code",
      "metadata": {
        "id": "Lc3JbptCsJdS"
      },
      "source": [
        ""
      ],
      "execution_count": null,
      "outputs": []
    },
    {
      "cell_type": "markdown",
      "metadata": {
        "id": "vpDAdD_NTB24"
      },
      "source": [
        "### Aplicar funciones a las celdas (Apply)\n"
      ]
    },
    {
      "cell_type": "code",
      "metadata": {
        "colab": {
          "base_uri": "https://localhost:8080/",
          "height": 204
        },
        "id": "ER58r9xpTqrn",
        "outputId": "592b88ef-01b7-4077-e4f1-0703cfcfd508"
      },
      "source": [
        "df_copy = df_california_housing_train.copy()\n",
        "df_copy.head()"
      ],
      "execution_count": null,
      "outputs": [
        {
          "output_type": "execute_result",
          "data": {
            "text/html": [
              "<div>\n",
              "<style scoped>\n",
              "    .dataframe tbody tr th:only-of-type {\n",
              "        vertical-align: middle;\n",
              "    }\n",
              "\n",
              "    .dataframe tbody tr th {\n",
              "        vertical-align: top;\n",
              "    }\n",
              "\n",
              "    .dataframe thead th {\n",
              "        text-align: right;\n",
              "    }\n",
              "</style>\n",
              "<table border=\"1\" class=\"dataframe\">\n",
              "  <thead>\n",
              "    <tr style=\"text-align: right;\">\n",
              "      <th></th>\n",
              "      <th>LONGITUDE</th>\n",
              "      <th>LATITUDE</th>\n",
              "      <th>HOUSING_MEDIAN_AGE</th>\n",
              "      <th>TOTAL_ROOMS</th>\n",
              "      <th>TOTAL_BEDROOMS</th>\n",
              "      <th>POPULATION</th>\n",
              "      <th>HOUSEHOLDS</th>\n",
              "      <th>MEDIAN_INCOME</th>\n",
              "      <th>MEDIAN_HOUSE_VALUE</th>\n",
              "    </tr>\n",
              "  </thead>\n",
              "  <tbody>\n",
              "    <tr>\n",
              "      <th>0</th>\n",
              "      <td>-114.31</td>\n",
              "      <td>34.19</td>\n",
              "      <td>15.0</td>\n",
              "      <td>5612.0</td>\n",
              "      <td>1283.0</td>\n",
              "      <td>1015.0</td>\n",
              "      <td>472.0</td>\n",
              "      <td>1.4936</td>\n",
              "      <td>66900.0</td>\n",
              "    </tr>\n",
              "    <tr>\n",
              "      <th>1</th>\n",
              "      <td>-114.47</td>\n",
              "      <td>34.40</td>\n",
              "      <td>19.0</td>\n",
              "      <td>7650.0</td>\n",
              "      <td>1901.0</td>\n",
              "      <td>1129.0</td>\n",
              "      <td>463.0</td>\n",
              "      <td>1.8200</td>\n",
              "      <td>80100.0</td>\n",
              "    </tr>\n",
              "    <tr>\n",
              "      <th>2</th>\n",
              "      <td>-114.56</td>\n",
              "      <td>33.69</td>\n",
              "      <td>17.0</td>\n",
              "      <td>720.0</td>\n",
              "      <td>174.0</td>\n",
              "      <td>333.0</td>\n",
              "      <td>117.0</td>\n",
              "      <td>1.6509</td>\n",
              "      <td>85700.0</td>\n",
              "    </tr>\n",
              "    <tr>\n",
              "      <th>3</th>\n",
              "      <td>-114.57</td>\n",
              "      <td>33.64</td>\n",
              "      <td>14.0</td>\n",
              "      <td>1501.0</td>\n",
              "      <td>337.0</td>\n",
              "      <td>515.0</td>\n",
              "      <td>226.0</td>\n",
              "      <td>3.1917</td>\n",
              "      <td>73400.0</td>\n",
              "    </tr>\n",
              "    <tr>\n",
              "      <th>4</th>\n",
              "      <td>-114.57</td>\n",
              "      <td>33.57</td>\n",
              "      <td>20.0</td>\n",
              "      <td>1454.0</td>\n",
              "      <td>326.0</td>\n",
              "      <td>624.0</td>\n",
              "      <td>262.0</td>\n",
              "      <td>1.9250</td>\n",
              "      <td>65500.0</td>\n",
              "    </tr>\n",
              "  </tbody>\n",
              "</table>\n",
              "</div>"
            ],
            "text/plain": [
              "   LONGITUDE  LATITUDE  ...  MEDIAN_INCOME  MEDIAN_HOUSE_VALUE\n",
              "0    -114.31     34.19  ...         1.4936             66900.0\n",
              "1    -114.47     34.40  ...         1.8200             80100.0\n",
              "2    -114.56     33.69  ...         1.6509             85700.0\n",
              "3    -114.57     33.64  ...         3.1917             73400.0\n",
              "4    -114.57     33.57  ...         1.9250             65500.0\n",
              "\n",
              "[5 rows x 9 columns]"
            ]
          },
          "metadata": {
            "tags": []
          },
          "execution_count": 29
        }
      ]
    },
    {
      "cell_type": "code",
      "metadata": {
        "colab": {
          "base_uri": "https://localhost:8080/",
          "height": 419
        },
        "id": "U3o9CuHeLRQ3",
        "outputId": "7c3f510d-72f3-4364-fec1-2849fd25f94a"
      },
      "source": [
        "# Queremos añadir una columna que nos diga si \n",
        "# hay un barrio está al norte o no\n",
        "\n",
        "rows = ['TOTAL_BEDROOMS', 'POPULATION']\n",
        "df_copy['LONGITUDE_INT'] = df_copy['LONGITUDE'].apply(lambda x: int(x))\n",
        "df_copy"
      ],
      "execution_count": null,
      "outputs": [
        {
          "output_type": "execute_result",
          "data": {
            "text/html": [
              "<div>\n",
              "<style scoped>\n",
              "    .dataframe tbody tr th:only-of-type {\n",
              "        vertical-align: middle;\n",
              "    }\n",
              "\n",
              "    .dataframe tbody tr th {\n",
              "        vertical-align: top;\n",
              "    }\n",
              "\n",
              "    .dataframe thead th {\n",
              "        text-align: right;\n",
              "    }\n",
              "</style>\n",
              "<table border=\"1\" class=\"dataframe\">\n",
              "  <thead>\n",
              "    <tr style=\"text-align: right;\">\n",
              "      <th></th>\n",
              "      <th>LONGITUDE</th>\n",
              "      <th>LATITUDE</th>\n",
              "      <th>HOUSING_MEDIAN_AGE</th>\n",
              "      <th>TOTAL_ROOMS</th>\n",
              "      <th>TOTAL_BEDROOMS</th>\n",
              "      <th>POPULATION</th>\n",
              "      <th>HOUSEHOLDS</th>\n",
              "      <th>MEDIAN_INCOME</th>\n",
              "      <th>MEDIAN_HOUSE_VALUE</th>\n",
              "      <th>LONGITUDE_INT</th>\n",
              "    </tr>\n",
              "  </thead>\n",
              "  <tbody>\n",
              "    <tr>\n",
              "      <th>0</th>\n",
              "      <td>-114.31</td>\n",
              "      <td>34.19</td>\n",
              "      <td>15.0</td>\n",
              "      <td>5612.0</td>\n",
              "      <td>1283.0</td>\n",
              "      <td>1015.0</td>\n",
              "      <td>472.0</td>\n",
              "      <td>1.4936</td>\n",
              "      <td>66900.0</td>\n",
              "      <td>-114</td>\n",
              "    </tr>\n",
              "    <tr>\n",
              "      <th>1</th>\n",
              "      <td>-114.47</td>\n",
              "      <td>34.40</td>\n",
              "      <td>19.0</td>\n",
              "      <td>7650.0</td>\n",
              "      <td>1901.0</td>\n",
              "      <td>1129.0</td>\n",
              "      <td>463.0</td>\n",
              "      <td>1.8200</td>\n",
              "      <td>80100.0</td>\n",
              "      <td>-114</td>\n",
              "    </tr>\n",
              "    <tr>\n",
              "      <th>2</th>\n",
              "      <td>-114.56</td>\n",
              "      <td>33.69</td>\n",
              "      <td>17.0</td>\n",
              "      <td>720.0</td>\n",
              "      <td>174.0</td>\n",
              "      <td>333.0</td>\n",
              "      <td>117.0</td>\n",
              "      <td>1.6509</td>\n",
              "      <td>85700.0</td>\n",
              "      <td>-114</td>\n",
              "    </tr>\n",
              "    <tr>\n",
              "      <th>3</th>\n",
              "      <td>-114.57</td>\n",
              "      <td>33.64</td>\n",
              "      <td>14.0</td>\n",
              "      <td>1501.0</td>\n",
              "      <td>337.0</td>\n",
              "      <td>515.0</td>\n",
              "      <td>226.0</td>\n",
              "      <td>3.1917</td>\n",
              "      <td>73400.0</td>\n",
              "      <td>-114</td>\n",
              "    </tr>\n",
              "    <tr>\n",
              "      <th>4</th>\n",
              "      <td>-114.57</td>\n",
              "      <td>33.57</td>\n",
              "      <td>20.0</td>\n",
              "      <td>1454.0</td>\n",
              "      <td>326.0</td>\n",
              "      <td>624.0</td>\n",
              "      <td>262.0</td>\n",
              "      <td>1.9250</td>\n",
              "      <td>65500.0</td>\n",
              "      <td>-114</td>\n",
              "    </tr>\n",
              "    <tr>\n",
              "      <th>...</th>\n",
              "      <td>...</td>\n",
              "      <td>...</td>\n",
              "      <td>...</td>\n",
              "      <td>...</td>\n",
              "      <td>...</td>\n",
              "      <td>...</td>\n",
              "      <td>...</td>\n",
              "      <td>...</td>\n",
              "      <td>...</td>\n",
              "      <td>...</td>\n",
              "    </tr>\n",
              "    <tr>\n",
              "      <th>16995</th>\n",
              "      <td>-124.26</td>\n",
              "      <td>40.58</td>\n",
              "      <td>52.0</td>\n",
              "      <td>2217.0</td>\n",
              "      <td>394.0</td>\n",
              "      <td>907.0</td>\n",
              "      <td>369.0</td>\n",
              "      <td>2.3571</td>\n",
              "      <td>111400.0</td>\n",
              "      <td>-124</td>\n",
              "    </tr>\n",
              "    <tr>\n",
              "      <th>16996</th>\n",
              "      <td>-124.27</td>\n",
              "      <td>40.69</td>\n",
              "      <td>36.0</td>\n",
              "      <td>2349.0</td>\n",
              "      <td>528.0</td>\n",
              "      <td>1194.0</td>\n",
              "      <td>465.0</td>\n",
              "      <td>2.5179</td>\n",
              "      <td>79000.0</td>\n",
              "      <td>-124</td>\n",
              "    </tr>\n",
              "    <tr>\n",
              "      <th>16997</th>\n",
              "      <td>-124.30</td>\n",
              "      <td>41.84</td>\n",
              "      <td>17.0</td>\n",
              "      <td>2677.0</td>\n",
              "      <td>531.0</td>\n",
              "      <td>1244.0</td>\n",
              "      <td>456.0</td>\n",
              "      <td>3.0313</td>\n",
              "      <td>103600.0</td>\n",
              "      <td>-124</td>\n",
              "    </tr>\n",
              "    <tr>\n",
              "      <th>16998</th>\n",
              "      <td>-124.30</td>\n",
              "      <td>41.80</td>\n",
              "      <td>19.0</td>\n",
              "      <td>2672.0</td>\n",
              "      <td>552.0</td>\n",
              "      <td>1298.0</td>\n",
              "      <td>478.0</td>\n",
              "      <td>1.9797</td>\n",
              "      <td>85800.0</td>\n",
              "      <td>-124</td>\n",
              "    </tr>\n",
              "    <tr>\n",
              "      <th>16999</th>\n",
              "      <td>-124.35</td>\n",
              "      <td>40.54</td>\n",
              "      <td>52.0</td>\n",
              "      <td>1820.0</td>\n",
              "      <td>300.0</td>\n",
              "      <td>806.0</td>\n",
              "      <td>270.0</td>\n",
              "      <td>3.0147</td>\n",
              "      <td>94600.0</td>\n",
              "      <td>-124</td>\n",
              "    </tr>\n",
              "  </tbody>\n",
              "</table>\n",
              "<p>17000 rows × 10 columns</p>\n",
              "</div>"
            ],
            "text/plain": [
              "       LONGITUDE  LATITUDE  ...  MEDIAN_HOUSE_VALUE  LONGITUDE_INT\n",
              "0        -114.31     34.19  ...             66900.0           -114\n",
              "1        -114.47     34.40  ...             80100.0           -114\n",
              "2        -114.56     33.69  ...             85700.0           -114\n",
              "3        -114.57     33.64  ...             73400.0           -114\n",
              "4        -114.57     33.57  ...             65500.0           -114\n",
              "...          ...       ...  ...                 ...            ...\n",
              "16995    -124.26     40.58  ...            111400.0           -124\n",
              "16996    -124.27     40.69  ...             79000.0           -124\n",
              "16997    -124.30     41.84  ...            103600.0           -124\n",
              "16998    -124.30     41.80  ...             85800.0           -124\n",
              "16999    -124.35     40.54  ...             94600.0           -124\n",
              "\n",
              "[17000 rows x 10 columns]"
            ]
          },
          "metadata": {
            "tags": []
          },
          "execution_count": 30
        }
      ]
    },
    {
      "cell_type": "markdown",
      "metadata": {
        "id": "7jIsoBhBSXx1"
      },
      "source": [
        "#### Sustituir datos vacíos por otros"
      ]
    },
    {
      "cell_type": "code",
      "metadata": {
        "colab": {
          "base_uri": "https://localhost:8080/"
        },
        "id": "ALN8CbKISVRu",
        "outputId": "99a0ea81-14db-4817-ee1b-ebffe9b9f6d0"
      },
      "source": [
        "# Añadimos celdas vacías\n",
        "df['HOUSING_MEDIAN_AGE'] = (df['HOUSING_MEDIAN_AGE']\n",
        "                  .where(df['HOUSING_MEDIAN_AGE']!=14))\n",
        "df.head()"
      ],
      "execution_count": null,
      "outputs": [
        {
          "output_type": "execute_result",
          "data": {
            "text/html": [
              "<div>\n",
              "<style scoped>\n",
              "    .dataframe tbody tr th:only-of-type {\n",
              "        vertical-align: middle;\n",
              "    }\n",
              "\n",
              "    .dataframe tbody tr th {\n",
              "        vertical-align: top;\n",
              "    }\n",
              "\n",
              "    .dataframe thead th {\n",
              "        text-align: right;\n",
              "    }\n",
              "</style>\n",
              "<table border=\"1\" class=\"dataframe\">\n",
              "  <thead>\n",
              "    <tr style=\"text-align: right;\">\n",
              "      <th></th>\n",
              "      <th>LONGITUDE</th>\n",
              "      <th>LATITUDE</th>\n",
              "      <th>HOUSING_MEDIAN_AGE</th>\n",
              "      <th>TOTAL_ROOMS</th>\n",
              "      <th>TOTAL_BEDROOMS</th>\n",
              "      <th>POPULATION</th>\n",
              "      <th>HOUSEHOLDS</th>\n",
              "      <th>MEDIAN_INCOME</th>\n",
              "      <th>MEDIAN_HOUSE_VALUE</th>\n",
              "    </tr>\n",
              "  </thead>\n",
              "  <tbody>\n",
              "    <tr>\n",
              "      <th>0</th>\n",
              "      <td>-114.31</td>\n",
              "      <td>34.19</td>\n",
              "      <td>15.0</td>\n",
              "      <td>5612.0</td>\n",
              "      <td>1283.0</td>\n",
              "      <td>1015.0</td>\n",
              "      <td>472.0</td>\n",
              "      <td>1.4936</td>\n",
              "      <td>66900.0</td>\n",
              "    </tr>\n",
              "    <tr>\n",
              "      <th>1</th>\n",
              "      <td>-114.47</td>\n",
              "      <td>34.40</td>\n",
              "      <td>19.0</td>\n",
              "      <td>7650.0</td>\n",
              "      <td>1901.0</td>\n",
              "      <td>1129.0</td>\n",
              "      <td>463.0</td>\n",
              "      <td>1.8200</td>\n",
              "      <td>80100.0</td>\n",
              "    </tr>\n",
              "    <tr>\n",
              "      <th>2</th>\n",
              "      <td>-114.56</td>\n",
              "      <td>33.69</td>\n",
              "      <td>17.0</td>\n",
              "      <td>720.0</td>\n",
              "      <td>174.0</td>\n",
              "      <td>333.0</td>\n",
              "      <td>117.0</td>\n",
              "      <td>1.6509</td>\n",
              "      <td>85700.0</td>\n",
              "    </tr>\n",
              "    <tr>\n",
              "      <th>4</th>\n",
              "      <td>-114.57</td>\n",
              "      <td>33.57</td>\n",
              "      <td>20.0</td>\n",
              "      <td>1454.0</td>\n",
              "      <td>326.0</td>\n",
              "      <td>624.0</td>\n",
              "      <td>262.0</td>\n",
              "      <td>1.9250</td>\n",
              "      <td>65500.0</td>\n",
              "    </tr>\n",
              "    <tr>\n",
              "      <th>5</th>\n",
              "      <td>-114.58</td>\n",
              "      <td>33.63</td>\n",
              "      <td>29.0</td>\n",
              "      <td>1387.0</td>\n",
              "      <td>236.0</td>\n",
              "      <td>671.0</td>\n",
              "      <td>239.0</td>\n",
              "      <td>3.3438</td>\n",
              "      <td>74000.0</td>\n",
              "    </tr>\n",
              "  </tbody>\n",
              "</table>\n",
              "</div>"
            ],
            "text/plain": [
              "   LONGITUDE  LATITUDE  ...  MEDIAN_INCOME  MEDIAN_HOUSE_VALUE\n",
              "0    -114.31     34.19  ...         1.4936             66900.0\n",
              "1    -114.47     34.40  ...         1.8200             80100.0\n",
              "2    -114.56     33.69  ...         1.6509             85700.0\n",
              "4    -114.57     33.57  ...         1.9250             65500.0\n",
              "5    -114.58     33.63  ...         3.3438             74000.0\n",
              "\n",
              "[5 rows x 9 columns]"
            ]
          },
          "metadata": {
            "tags": []
          },
          "execution_count": 31
        }
      ]
    },
    {
      "cell_type": "markdown",
      "metadata": {
        "id": "QSbLbZOat3ZL"
      },
      "source": [
        "### Group By "
      ]
    },
    {
      "cell_type": "code",
      "metadata": {
        "colab": {
          "base_uri": "https://localhost:8080/",
          "height": 204
        },
        "id": "DGBonPoASqEM",
        "outputId": "32180313-1e3f-42bd-c186-c8747bbbedbf"
      },
      "source": [
        "df.fillna(0, inplace=True)\n",
        "df_copy.head()"
      ],
      "execution_count": null,
      "outputs": [
        {
          "output_type": "execute_result",
          "data": {
            "text/html": [
              "<div>\n",
              "<style scoped>\n",
              "    .dataframe tbody tr th:only-of-type {\n",
              "        vertical-align: middle;\n",
              "    }\n",
              "\n",
              "    .dataframe tbody tr th {\n",
              "        vertical-align: top;\n",
              "    }\n",
              "\n",
              "    .dataframe thead th {\n",
              "        text-align: right;\n",
              "    }\n",
              "</style>\n",
              "<table border=\"1\" class=\"dataframe\">\n",
              "  <thead>\n",
              "    <tr style=\"text-align: right;\">\n",
              "      <th></th>\n",
              "      <th>LONGITUDE</th>\n",
              "      <th>LATITUDE</th>\n",
              "      <th>HOUSING_MEDIAN_AGE</th>\n",
              "      <th>TOTAL_ROOMS</th>\n",
              "      <th>TOTAL_BEDROOMS</th>\n",
              "      <th>POPULATION</th>\n",
              "      <th>HOUSEHOLDS</th>\n",
              "      <th>MEDIAN_INCOME</th>\n",
              "      <th>MEDIAN_HOUSE_VALUE</th>\n",
              "      <th>LONGITUDE_INT</th>\n",
              "    </tr>\n",
              "  </thead>\n",
              "  <tbody>\n",
              "    <tr>\n",
              "      <th>0</th>\n",
              "      <td>-114.31</td>\n",
              "      <td>34.19</td>\n",
              "      <td>15.0</td>\n",
              "      <td>5612.0</td>\n",
              "      <td>1283.0</td>\n",
              "      <td>1015.0</td>\n",
              "      <td>472.0</td>\n",
              "      <td>1.4936</td>\n",
              "      <td>66900.0</td>\n",
              "      <td>-114</td>\n",
              "    </tr>\n",
              "    <tr>\n",
              "      <th>1</th>\n",
              "      <td>-114.47</td>\n",
              "      <td>34.40</td>\n",
              "      <td>19.0</td>\n",
              "      <td>7650.0</td>\n",
              "      <td>1901.0</td>\n",
              "      <td>1129.0</td>\n",
              "      <td>463.0</td>\n",
              "      <td>1.8200</td>\n",
              "      <td>80100.0</td>\n",
              "      <td>-114</td>\n",
              "    </tr>\n",
              "    <tr>\n",
              "      <th>2</th>\n",
              "      <td>-114.56</td>\n",
              "      <td>33.69</td>\n",
              "      <td>17.0</td>\n",
              "      <td>720.0</td>\n",
              "      <td>174.0</td>\n",
              "      <td>333.0</td>\n",
              "      <td>117.0</td>\n",
              "      <td>1.6509</td>\n",
              "      <td>85700.0</td>\n",
              "      <td>-114</td>\n",
              "    </tr>\n",
              "    <tr>\n",
              "      <th>3</th>\n",
              "      <td>-114.57</td>\n",
              "      <td>33.64</td>\n",
              "      <td>14.0</td>\n",
              "      <td>1501.0</td>\n",
              "      <td>337.0</td>\n",
              "      <td>515.0</td>\n",
              "      <td>226.0</td>\n",
              "      <td>3.1917</td>\n",
              "      <td>73400.0</td>\n",
              "      <td>-114</td>\n",
              "    </tr>\n",
              "    <tr>\n",
              "      <th>4</th>\n",
              "      <td>-114.57</td>\n",
              "      <td>33.57</td>\n",
              "      <td>20.0</td>\n",
              "      <td>1454.0</td>\n",
              "      <td>326.0</td>\n",
              "      <td>624.0</td>\n",
              "      <td>262.0</td>\n",
              "      <td>1.9250</td>\n",
              "      <td>65500.0</td>\n",
              "      <td>-114</td>\n",
              "    </tr>\n",
              "  </tbody>\n",
              "</table>\n",
              "</div>"
            ],
            "text/plain": [
              "   LONGITUDE  LATITUDE  ...  MEDIAN_HOUSE_VALUE  LONGITUDE_INT\n",
              "0    -114.31     34.19  ...             66900.0           -114\n",
              "1    -114.47     34.40  ...             80100.0           -114\n",
              "2    -114.56     33.69  ...             85700.0           -114\n",
              "3    -114.57     33.64  ...             73400.0           -114\n",
              "4    -114.57     33.57  ...             65500.0           -114\n",
              "\n",
              "[5 rows x 10 columns]"
            ]
          },
          "metadata": {
            "tags": []
          },
          "execution_count": 32
        }
      ]
    },
    {
      "cell_type": "code",
      "metadata": {
        "colab": {
          "base_uri": "https://localhost:8080/",
          "height": 421
        },
        "id": "KJv97G39upZA",
        "outputId": "4d004bcd-85bf-4f68-82eb-b2d8d457d53a"
      },
      "source": [
        "df_copy.groupby(\"LONGITUDE_INT\").mean()"
      ],
      "execution_count": null,
      "outputs": [
        {
          "output_type": "execute_result",
          "data": {
            "text/html": [
              "<div>\n",
              "<style scoped>\n",
              "    .dataframe tbody tr th:only-of-type {\n",
              "        vertical-align: middle;\n",
              "    }\n",
              "\n",
              "    .dataframe tbody tr th {\n",
              "        vertical-align: top;\n",
              "    }\n",
              "\n",
              "    .dataframe thead th {\n",
              "        text-align: right;\n",
              "    }\n",
              "</style>\n",
              "<table border=\"1\" class=\"dataframe\">\n",
              "  <thead>\n",
              "    <tr style=\"text-align: right;\">\n",
              "      <th></th>\n",
              "      <th>LONGITUDE</th>\n",
              "      <th>LATITUDE</th>\n",
              "      <th>HOUSING_MEDIAN_AGE</th>\n",
              "      <th>TOTAL_ROOMS</th>\n",
              "      <th>TOTAL_BEDROOMS</th>\n",
              "      <th>POPULATION</th>\n",
              "      <th>HOUSEHOLDS</th>\n",
              "      <th>MEDIAN_INCOME</th>\n",
              "      <th>MEDIAN_HOUSE_VALUE</th>\n",
              "    </tr>\n",
              "    <tr>\n",
              "      <th>LONGITUDE_INT</th>\n",
              "      <th></th>\n",
              "      <th></th>\n",
              "      <th></th>\n",
              "      <th></th>\n",
              "      <th></th>\n",
              "      <th></th>\n",
              "      <th></th>\n",
              "      <th></th>\n",
              "      <th></th>\n",
              "    </tr>\n",
              "  </thead>\n",
              "  <tbody>\n",
              "    <tr>\n",
              "      <th>-124</th>\n",
              "      <td>-124.137850</td>\n",
              "      <td>40.867850</td>\n",
              "      <td>31.383178</td>\n",
              "      <td>2023.523364</td>\n",
              "      <td>418.859813</td>\n",
              "      <td>1015.635514</td>\n",
              "      <td>387.887850</td>\n",
              "      <td>2.500128</td>\n",
              "      <td>89160.747664</td>\n",
              "    </tr>\n",
              "    <tr>\n",
              "      <th>-123</th>\n",
              "      <td>-123.384576</td>\n",
              "      <td>39.608559</td>\n",
              "      <td>25.440678</td>\n",
              "      <td>1928.669492</td>\n",
              "      <td>412.186441</td>\n",
              "      <td>880.449153</td>\n",
              "      <td>337.483051</td>\n",
              "      <td>2.621447</td>\n",
              "      <td>116822.025424</td>\n",
              "    </tr>\n",
              "    <tr>\n",
              "      <th>-122</th>\n",
              "      <td>-122.306209</td>\n",
              "      <td>37.982152</td>\n",
              "      <td>34.291287</td>\n",
              "      <td>2508.449935</td>\n",
              "      <td>503.608583</td>\n",
              "      <td>1222.722692</td>\n",
              "      <td>475.251951</td>\n",
              "      <td>4.262448</td>\n",
              "      <td>256152.038036</td>\n",
              "    </tr>\n",
              "    <tr>\n",
              "      <th>-121</th>\n",
              "      <td>-121.572862</td>\n",
              "      <td>38.030561</td>\n",
              "      <td>25.479447</td>\n",
              "      <td>2778.809835</td>\n",
              "      <td>539.003842</td>\n",
              "      <td>1456.060315</td>\n",
              "      <td>510.065309</td>\n",
              "      <td>3.806865</td>\n",
              "      <td>176821.369574</td>\n",
              "    </tr>\n",
              "    <tr>\n",
              "      <th>-120</th>\n",
              "      <td>-120.561533</td>\n",
              "      <td>37.216982</td>\n",
              "      <td>21.535329</td>\n",
              "      <td>2363.947305</td>\n",
              "      <td>466.867066</td>\n",
              "      <td>1166.014371</td>\n",
              "      <td>399.373653</td>\n",
              "      <td>3.022577</td>\n",
              "      <td>136085.034731</td>\n",
              "    </tr>\n",
              "    <tr>\n",
              "      <th>-119</th>\n",
              "      <td>-119.482466</td>\n",
              "      <td>35.882398</td>\n",
              "      <td>25.634812</td>\n",
              "      <td>2371.386519</td>\n",
              "      <td>476.966724</td>\n",
              "      <td>1332.155290</td>\n",
              "      <td>444.114334</td>\n",
              "      <td>3.197257</td>\n",
              "      <td>135925.958191</td>\n",
              "    </tr>\n",
              "    <tr>\n",
              "      <th>-118</th>\n",
              "      <td>-118.302445</td>\n",
              "      <td>34.087092</td>\n",
              "      <td>33.469828</td>\n",
              "      <td>2430.268678</td>\n",
              "      <td>541.318144</td>\n",
              "      <td>1477.280788</td>\n",
              "      <td>508.961823</td>\n",
              "      <td>3.927993</td>\n",
              "      <td>240611.282430</td>\n",
              "    </tr>\n",
              "    <tr>\n",
              "      <th>-117</th>\n",
              "      <td>-117.514023</td>\n",
              "      <td>33.591611</td>\n",
              "      <td>23.451473</td>\n",
              "      <td>3020.812652</td>\n",
              "      <td>587.225737</td>\n",
              "      <td>1620.078940</td>\n",
              "      <td>547.862936</td>\n",
              "      <td>4.156972</td>\n",
              "      <td>200755.020276</td>\n",
              "    </tr>\n",
              "    <tr>\n",
              "      <th>-116</th>\n",
              "      <td>-116.704860</td>\n",
              "      <td>33.464835</td>\n",
              "      <td>18.389313</td>\n",
              "      <td>4041.122137</td>\n",
              "      <td>820.442748</td>\n",
              "      <td>1768.455471</td>\n",
              "      <td>644.615776</td>\n",
              "      <td>3.381351</td>\n",
              "      <td>141999.750636</td>\n",
              "    </tr>\n",
              "    <tr>\n",
              "      <th>-115</th>\n",
              "      <td>-115.577723</td>\n",
              "      <td>32.999109</td>\n",
              "      <td>21.990099</td>\n",
              "      <td>1436.287129</td>\n",
              "      <td>322.138614</td>\n",
              "      <td>970.336634</td>\n",
              "      <td>283.485149</td>\n",
              "      <td>2.590327</td>\n",
              "      <td>74520.792079</td>\n",
              "    </tr>\n",
              "    <tr>\n",
              "      <th>-114</th>\n",
              "      <td>-114.628333</td>\n",
              "      <td>33.870000</td>\n",
              "      <td>23.750000</td>\n",
              "      <td>2013.291667</td>\n",
              "      <td>464.250000</td>\n",
              "      <td>878.000000</td>\n",
              "      <td>321.625000</td>\n",
              "      <td>2.003083</td>\n",
              "      <td>61704.166667</td>\n",
              "    </tr>\n",
              "  </tbody>\n",
              "</table>\n",
              "</div>"
            ],
            "text/plain": [
              "                LONGITUDE   LATITUDE  ...  MEDIAN_INCOME  MEDIAN_HOUSE_VALUE\n",
              "LONGITUDE_INT                         ...                                   \n",
              "-124          -124.137850  40.867850  ...       2.500128        89160.747664\n",
              "-123          -123.384576  39.608559  ...       2.621447       116822.025424\n",
              "-122          -122.306209  37.982152  ...       4.262448       256152.038036\n",
              "-121          -121.572862  38.030561  ...       3.806865       176821.369574\n",
              "-120          -120.561533  37.216982  ...       3.022577       136085.034731\n",
              "-119          -119.482466  35.882398  ...       3.197257       135925.958191\n",
              "-118          -118.302445  34.087092  ...       3.927993       240611.282430\n",
              "-117          -117.514023  33.591611  ...       4.156972       200755.020276\n",
              "-116          -116.704860  33.464835  ...       3.381351       141999.750636\n",
              "-115          -115.577723  32.999109  ...       2.590327        74520.792079\n",
              "-114          -114.628333  33.870000  ...       2.003083        61704.166667\n",
              "\n",
              "[11 rows x 9 columns]"
            ]
          },
          "metadata": {
            "tags": []
          },
          "execution_count": 33
        }
      ]
    },
    {
      "cell_type": "code",
      "metadata": {
        "colab": {
          "base_uri": "https://localhost:8080/"
        },
        "id": "O7hZ9dXlnm6U",
        "outputId": "c5b3fcb7-723e-4807-ae7b-cbbee99d1b69"
      },
      "source": [
        "df_copy[\"LONGITUDE_INT\"].unique()"
      ],
      "execution_count": null,
      "outputs": [
        {
          "output_type": "execute_result",
          "data": {
            "text/plain": [
              "array([-114, -115, -116, -117, -118, -119, -120, -121, -122, -123, -124])"
            ]
          },
          "metadata": {
            "tags": []
          },
          "execution_count": 34
        }
      ]
    },
    {
      "cell_type": "markdown",
      "metadata": {
        "id": "EVRyZGtvom57"
      },
      "source": [
        "##### Agrupar mediante funciones"
      ]
    },
    {
      "cell_type": "code",
      "metadata": {
        "id": "lWegaiK1osut"
      },
      "source": [
        "def valorar_precio(precio):\n",
        "\n",
        "  if precio < 100_000:\n",
        "    return \"baratas\"\n",
        "  elif precio < 200_000:\n",
        "    return \"con precio medio\"\n",
        "  else:\n",
        "    return \"caras\"\n",
        "\n",
        "df_copy = df_copy.set_index(\"MEDIAN_HOUSE_VALUE\")"
      ],
      "execution_count": null,
      "outputs": []
    },
    {
      "cell_type": "code",
      "metadata": {
        "colab": {
          "base_uri": "https://localhost:8080/"
        },
        "id": "2Phvey5Sshn0",
        "outputId": "55082c1d-8e5f-45cd-b048-5f158533890a"
      },
      "source": [
        "grupo_precio = df_copy.groupby(valorar_precio)\n",
        "for grupo, frame in grupo_precio:\n",
        "  print(f\"Número de casas {grupo}: {len(frame)}\")"
      ],
      "execution_count": null,
      "outputs": [
        {
          "output_type": "stream",
          "text": [
            "Número de casas baratas: 2969\n",
            "Número de casas caras: 7227\n",
            "Número de casas con precio medio: 6804\n"
          ],
          "name": "stdout"
        }
      ]
    },
    {
      "cell_type": "code",
      "metadata": {
        "colab": {
          "base_uri": "https://localhost:8080/",
          "height": 142
        },
        "id": "I9Dq7dHzVb8Q",
        "outputId": "4bd2135b-40a9-4357-89b8-57799dc1d9bb"
      },
      "source": [
        "grupo_precio.mean()"
      ],
      "execution_count": null,
      "outputs": [
        {
          "output_type": "execute_result",
          "data": {
            "text/html": [
              "<div>\n",
              "<style scoped>\n",
              "    .dataframe tbody tr th:only-of-type {\n",
              "        vertical-align: middle;\n",
              "    }\n",
              "\n",
              "    .dataframe tbody tr th {\n",
              "        vertical-align: top;\n",
              "    }\n",
              "\n",
              "    .dataframe thead th {\n",
              "        text-align: right;\n",
              "    }\n",
              "</style>\n",
              "<table border=\"1\" class=\"dataframe\">\n",
              "  <thead>\n",
              "    <tr style=\"text-align: right;\">\n",
              "      <th></th>\n",
              "      <th>LONGITUDE</th>\n",
              "      <th>LATITUDE</th>\n",
              "      <th>HOUSING_MEDIAN_AGE</th>\n",
              "      <th>TOTAL_ROOMS</th>\n",
              "      <th>TOTAL_BEDROOMS</th>\n",
              "      <th>POPULATION</th>\n",
              "      <th>HOUSEHOLDS</th>\n",
              "      <th>MEDIAN_INCOME</th>\n",
              "      <th>LONGITUDE_INT</th>\n",
              "    </tr>\n",
              "  </thead>\n",
              "  <tbody>\n",
              "    <tr>\n",
              "      <th>baratas</th>\n",
              "      <td>-119.789872</td>\n",
              "      <td>36.672604</td>\n",
              "      <td>28.708656</td>\n",
              "      <td>2044.094981</td>\n",
              "      <td>450.809363</td>\n",
              "      <td>1217.553048</td>\n",
              "      <td>406.592455</td>\n",
              "      <td>2.295339</td>\n",
              "      <td>-119.361401</td>\n",
              "    </tr>\n",
              "    <tr>\n",
              "      <th>caras</th>\n",
              "      <td>-119.713488</td>\n",
              "      <td>35.354936</td>\n",
              "      <td>29.776532</td>\n",
              "      <td>2964.917947</td>\n",
              "      <td>567.383838</td>\n",
              "      <td>1410.711499</td>\n",
              "      <td>534.452885</td>\n",
              "      <td>5.079685</td>\n",
              "      <td>-119.264287</td>\n",
              "    </tr>\n",
              "    <tr>\n",
              "      <th>con precio medio</th>\n",
              "      <td>-119.301930</td>\n",
              "      <td>35.455282</td>\n",
              "      <td>27.276308</td>\n",
              "      <td>2564.067460</td>\n",
              "      <td>548.360964</td>\n",
              "      <td>1542.126690</td>\n",
              "      <td>507.217666</td>\n",
              "      <td>3.306155</td>\n",
              "      <td>-118.900059</td>\n",
              "    </tr>\n",
              "  </tbody>\n",
              "</table>\n",
              "</div>"
            ],
            "text/plain": [
              "                   LONGITUDE   LATITUDE  ...  MEDIAN_INCOME  LONGITUDE_INT\n",
              "baratas          -119.789872  36.672604  ...       2.295339    -119.361401\n",
              "caras            -119.713488  35.354936  ...       5.079685    -119.264287\n",
              "con precio medio -119.301930  35.455282  ...       3.306155    -118.900059\n",
              "\n",
              "[3 rows x 9 columns]"
            ]
          },
          "metadata": {
            "tags": []
          },
          "execution_count": 37
        }
      ]
    },
    {
      "cell_type": "code",
      "metadata": {
        "colab": {
          "base_uri": "https://localhost:8080/"
        },
        "id": "xfaX4Yt3WnER",
        "outputId": "f7b06bc9-1e61-45d5-e9e2-2940ef5cd814"
      },
      "source": [
        "grupo_precio.median()"
      ],
      "execution_count": null,
      "outputs": [
        {
          "output_type": "execute_result",
          "data": {
            "text/html": [
              "<div>\n",
              "<style scoped>\n",
              "    .dataframe tbody tr th:only-of-type {\n",
              "        vertical-align: middle;\n",
              "    }\n",
              "\n",
              "    .dataframe tbody tr th {\n",
              "        vertical-align: top;\n",
              "    }\n",
              "\n",
              "    .dataframe thead th {\n",
              "        text-align: right;\n",
              "    }\n",
              "</style>\n",
              "<table border=\"1\" class=\"dataframe\">\n",
              "  <thead>\n",
              "    <tr style=\"text-align: right;\">\n",
              "      <th></th>\n",
              "      <th>LONGITUDE</th>\n",
              "      <th>LATITUDE</th>\n",
              "      <th>HOUSING_MEDIAN_AGE</th>\n",
              "      <th>TOTAL_ROOMS</th>\n",
              "      <th>TOTAL_BEDROOMS</th>\n",
              "      <th>POPULATION</th>\n",
              "      <th>HOUSEHOLDS</th>\n",
              "      <th>MEDIAN_INCOME</th>\n",
              "      <th>LONGITUDE_INT</th>\n",
              "    </tr>\n",
              "  </thead>\n",
              "  <tbody>\n",
              "    <tr>\n",
              "      <th>baratas</th>\n",
              "      <td>-119.79</td>\n",
              "      <td>36.75</td>\n",
              "      <td>29.0</td>\n",
              "      <td>1741.0</td>\n",
              "      <td>384.0</td>\n",
              "      <td>1059.0</td>\n",
              "      <td>353.0</td>\n",
              "      <td>2.1898</td>\n",
              "      <td>-119</td>\n",
              "    </tr>\n",
              "    <tr>\n",
              "      <th>caras</th>\n",
              "      <td>-118.47</td>\n",
              "      <td>34.18</td>\n",
              "      <td>30.0</td>\n",
              "      <td>2411.0</td>\n",
              "      <td>454.0</td>\n",
              "      <td>1146.0</td>\n",
              "      <td>430.0</td>\n",
              "      <td>4.7500</td>\n",
              "      <td>-118</td>\n",
              "    </tr>\n",
              "    <tr>\n",
              "      <th>con precio medio</th>\n",
              "      <td>-118.29</td>\n",
              "      <td>34.11</td>\n",
              "      <td>28.0</td>\n",
              "      <td>2029.0</td>\n",
              "      <td>440.0</td>\n",
              "      <td>1245.0</td>\n",
              "      <td>410.0</td>\n",
              "      <td>3.2188</td>\n",
              "      <td>-118</td>\n",
              "    </tr>\n",
              "  </tbody>\n",
              "</table>\n",
              "</div>"
            ],
            "text/plain": [
              "                  LONGITUDE  LATITUDE  ...  MEDIAN_INCOME  LONGITUDE_INT\n",
              "baratas             -119.79     36.75  ...         2.1898           -119\n",
              "caras               -118.47     34.18  ...         4.7500           -118\n",
              "con precio medio    -118.29     34.11  ...         3.2188           -118\n",
              "\n",
              "[3 rows x 9 columns]"
            ]
          },
          "metadata": {
            "tags": []
          },
          "execution_count": 38
        }
      ]
    },
    {
      "cell_type": "code",
      "metadata": {
        "colab": {
          "base_uri": "https://localhost:8080/"
        },
        "id": "vXcOsfgnWJLx",
        "outputId": "3ff79453-ce1c-4905-e83d-ab7e2c9c4145"
      },
      "source": [
        "grupo_precio[\"HOUSING_MEDIAN_AGE\"].value_counts(normalize=True).loc[\"baratas\"].head()"
      ],
      "execution_count": null,
      "outputs": [
        {
          "output_type": "execute_result",
          "data": {
            "text/plain": [
              "HOUSING_MEDIAN_AGE\n",
              "35.0    0.037050\n",
              "52.0    0.037050\n",
              "17.0    0.035702\n",
              "18.0    0.035702\n",
              "26.0    0.034355\n",
              "Name: HOUSING_MEDIAN_AGE, dtype: float64"
            ]
          },
          "metadata": {
            "tags": []
          },
          "execution_count": 39
        }
      ]
    },
    {
      "cell_type": "markdown",
      "metadata": {
        "id": "toE2m9mpXAM0"
      },
      "source": [
        "#### Aggregation"
      ]
    },
    {
      "cell_type": "code",
      "metadata": {
        "colab": {
          "base_uri": "https://localhost:8080/"
        },
        "id": "k61HjdwyXKds",
        "outputId": "96189a7b-5222-4021-e8da-4e8cddc4873f"
      },
      "source": [
        "grupo_precio.agg([\"median\", \"mean\"])"
      ],
      "execution_count": null,
      "outputs": [
        {
          "output_type": "execute_result",
          "data": {
            "text/html": [
              "<div>\n",
              "<style scoped>\n",
              "    .dataframe tbody tr th:only-of-type {\n",
              "        vertical-align: middle;\n",
              "    }\n",
              "\n",
              "    .dataframe tbody tr th {\n",
              "        vertical-align: top;\n",
              "    }\n",
              "\n",
              "    .dataframe thead tr th {\n",
              "        text-align: left;\n",
              "    }\n",
              "</style>\n",
              "<table border=\"1\" class=\"dataframe\">\n",
              "  <thead>\n",
              "    <tr>\n",
              "      <th></th>\n",
              "      <th colspan=\"2\" halign=\"left\">LONGITUDE</th>\n",
              "      <th colspan=\"2\" halign=\"left\">LATITUDE</th>\n",
              "      <th colspan=\"2\" halign=\"left\">HOUSING_MEDIAN_AGE</th>\n",
              "      <th colspan=\"2\" halign=\"left\">TOTAL_ROOMS</th>\n",
              "      <th colspan=\"2\" halign=\"left\">TOTAL_BEDROOMS</th>\n",
              "      <th colspan=\"2\" halign=\"left\">POPULATION</th>\n",
              "      <th colspan=\"2\" halign=\"left\">HOUSEHOLDS</th>\n",
              "      <th colspan=\"2\" halign=\"left\">MEDIAN_INCOME</th>\n",
              "      <th colspan=\"2\" halign=\"left\">LONGITUDE_INT</th>\n",
              "    </tr>\n",
              "    <tr>\n",
              "      <th></th>\n",
              "      <th>median</th>\n",
              "      <th>mean</th>\n",
              "      <th>median</th>\n",
              "      <th>mean</th>\n",
              "      <th>median</th>\n",
              "      <th>mean</th>\n",
              "      <th>median</th>\n",
              "      <th>mean</th>\n",
              "      <th>median</th>\n",
              "      <th>mean</th>\n",
              "      <th>median</th>\n",
              "      <th>mean</th>\n",
              "      <th>median</th>\n",
              "      <th>mean</th>\n",
              "      <th>median</th>\n",
              "      <th>mean</th>\n",
              "      <th>median</th>\n",
              "      <th>mean</th>\n",
              "    </tr>\n",
              "  </thead>\n",
              "  <tbody>\n",
              "    <tr>\n",
              "      <th>baratas</th>\n",
              "      <td>-119.79</td>\n",
              "      <td>-119.789872</td>\n",
              "      <td>36.75</td>\n",
              "      <td>36.672604</td>\n",
              "      <td>29.0</td>\n",
              "      <td>28.708656</td>\n",
              "      <td>1741.0</td>\n",
              "      <td>2044.094981</td>\n",
              "      <td>384.0</td>\n",
              "      <td>450.809363</td>\n",
              "      <td>1059.0</td>\n",
              "      <td>1217.553048</td>\n",
              "      <td>353.0</td>\n",
              "      <td>406.592455</td>\n",
              "      <td>2.1898</td>\n",
              "      <td>2.295339</td>\n",
              "      <td>-119</td>\n",
              "      <td>-119.361401</td>\n",
              "    </tr>\n",
              "    <tr>\n",
              "      <th>caras</th>\n",
              "      <td>-118.47</td>\n",
              "      <td>-119.713488</td>\n",
              "      <td>34.18</td>\n",
              "      <td>35.354936</td>\n",
              "      <td>30.0</td>\n",
              "      <td>29.776532</td>\n",
              "      <td>2411.0</td>\n",
              "      <td>2964.917947</td>\n",
              "      <td>454.0</td>\n",
              "      <td>567.383838</td>\n",
              "      <td>1146.0</td>\n",
              "      <td>1410.711499</td>\n",
              "      <td>430.0</td>\n",
              "      <td>534.452885</td>\n",
              "      <td>4.7500</td>\n",
              "      <td>5.079685</td>\n",
              "      <td>-118</td>\n",
              "      <td>-119.264287</td>\n",
              "    </tr>\n",
              "    <tr>\n",
              "      <th>con precio medio</th>\n",
              "      <td>-118.29</td>\n",
              "      <td>-119.301930</td>\n",
              "      <td>34.11</td>\n",
              "      <td>35.455282</td>\n",
              "      <td>28.0</td>\n",
              "      <td>27.276308</td>\n",
              "      <td>2029.0</td>\n",
              "      <td>2564.067460</td>\n",
              "      <td>440.0</td>\n",
              "      <td>548.360964</td>\n",
              "      <td>1245.0</td>\n",
              "      <td>1542.126690</td>\n",
              "      <td>410.0</td>\n",
              "      <td>507.217666</td>\n",
              "      <td>3.2188</td>\n",
              "      <td>3.306155</td>\n",
              "      <td>-118</td>\n",
              "      <td>-118.900059</td>\n",
              "    </tr>\n",
              "  </tbody>\n",
              "</table>\n",
              "</div>"
            ],
            "text/plain": [
              "                 LONGITUDE              ... LONGITUDE_INT            \n",
              "                    median        mean  ...        median        mean\n",
              "baratas            -119.79 -119.789872  ...          -119 -119.361401\n",
              "caras              -118.47 -119.713488  ...          -118 -119.264287\n",
              "con precio medio   -118.29 -119.301930  ...          -118 -118.900059\n",
              "\n",
              "[3 rows x 18 columns]"
            ]
          },
          "metadata": {
            "tags": []
          },
          "execution_count": 40
        }
      ]
    },
    {
      "cell_type": "code",
      "metadata": {
        "colab": {
          "base_uri": "https://localhost:8080/"
        },
        "id": "Wn6hXy7XXc4E",
        "outputId": "8139beb7-dacb-4bd6-e567-5186217d1743"
      },
      "source": [
        "cols = [\"TOTAL_ROOMS\", \"TOTAL_BEDROOMS\"]\n",
        "grupo_precio[cols].agg([\"median\", \"mean\", np.average])"
      ],
      "execution_count": null,
      "outputs": [
        {
          "output_type": "execute_result",
          "data": {
            "text/html": [
              "<div>\n",
              "<style scoped>\n",
              "    .dataframe tbody tr th:only-of-type {\n",
              "        vertical-align: middle;\n",
              "    }\n",
              "\n",
              "    .dataframe tbody tr th {\n",
              "        vertical-align: top;\n",
              "    }\n",
              "\n",
              "    .dataframe thead tr th {\n",
              "        text-align: left;\n",
              "    }\n",
              "</style>\n",
              "<table border=\"1\" class=\"dataframe\">\n",
              "  <thead>\n",
              "    <tr>\n",
              "      <th></th>\n",
              "      <th colspan=\"3\" halign=\"left\">TOTAL_ROOMS</th>\n",
              "      <th colspan=\"3\" halign=\"left\">TOTAL_BEDROOMS</th>\n",
              "    </tr>\n",
              "    <tr>\n",
              "      <th></th>\n",
              "      <th>median</th>\n",
              "      <th>mean</th>\n",
              "      <th>average</th>\n",
              "      <th>median</th>\n",
              "      <th>mean</th>\n",
              "      <th>average</th>\n",
              "    </tr>\n",
              "  </thead>\n",
              "  <tbody>\n",
              "    <tr>\n",
              "      <th>baratas</th>\n",
              "      <td>1741.0</td>\n",
              "      <td>2044.094981</td>\n",
              "      <td>2044.094981</td>\n",
              "      <td>384.0</td>\n",
              "      <td>450.809363</td>\n",
              "      <td>450.809363</td>\n",
              "    </tr>\n",
              "    <tr>\n",
              "      <th>caras</th>\n",
              "      <td>2411.0</td>\n",
              "      <td>2964.917947</td>\n",
              "      <td>2964.917947</td>\n",
              "      <td>454.0</td>\n",
              "      <td>567.383838</td>\n",
              "      <td>567.383838</td>\n",
              "    </tr>\n",
              "    <tr>\n",
              "      <th>con precio medio</th>\n",
              "      <td>2029.0</td>\n",
              "      <td>2564.067460</td>\n",
              "      <td>2564.067460</td>\n",
              "      <td>440.0</td>\n",
              "      <td>548.360964</td>\n",
              "      <td>548.360964</td>\n",
              "    </tr>\n",
              "  </tbody>\n",
              "</table>\n",
              "</div>"
            ],
            "text/plain": [
              "                 TOTAL_ROOMS               ... TOTAL_BEDROOMS            \n",
              "                      median         mean  ...           mean     average\n",
              "baratas               1741.0  2044.094981  ...     450.809363  450.809363\n",
              "caras                 2411.0  2964.917947  ...     567.383838  567.383838\n",
              "con precio medio      2029.0  2564.067460  ...     548.360964  548.360964\n",
              "\n",
              "[3 rows x 6 columns]"
            ]
          },
          "metadata": {
            "tags": []
          },
          "execution_count": 41
        }
      ]
    },
    {
      "cell_type": "code",
      "metadata": {
        "id": "iUPYAwZpvBm-",
        "colab": {
          "base_uri": "https://localhost:8080/",
          "height": 173
        },
        "outputId": "af360f34-bcea-4e99-87f7-cf279676651a"
      },
      "source": [
        "grupo_precio.agg({\"TOTAL_ROOMS\": [\"median\", \"mean\"], \n",
        "                  \"TOTAL_BEDROOMS\": [np.median, np.average]})"
      ],
      "execution_count": null,
      "outputs": [
        {
          "output_type": "execute_result",
          "data": {
            "text/html": [
              "<div>\n",
              "<style scoped>\n",
              "    .dataframe tbody tr th:only-of-type {\n",
              "        vertical-align: middle;\n",
              "    }\n",
              "\n",
              "    .dataframe tbody tr th {\n",
              "        vertical-align: top;\n",
              "    }\n",
              "\n",
              "    .dataframe thead tr th {\n",
              "        text-align: left;\n",
              "    }\n",
              "</style>\n",
              "<table border=\"1\" class=\"dataframe\">\n",
              "  <thead>\n",
              "    <tr>\n",
              "      <th></th>\n",
              "      <th colspan=\"2\" halign=\"left\">TOTAL_ROOMS</th>\n",
              "      <th colspan=\"2\" halign=\"left\">TOTAL_BEDROOMS</th>\n",
              "    </tr>\n",
              "    <tr>\n",
              "      <th></th>\n",
              "      <th>median</th>\n",
              "      <th>mean</th>\n",
              "      <th>median</th>\n",
              "      <th>average</th>\n",
              "    </tr>\n",
              "  </thead>\n",
              "  <tbody>\n",
              "    <tr>\n",
              "      <th>baratas</th>\n",
              "      <td>1741.0</td>\n",
              "      <td>2044.094981</td>\n",
              "      <td>384.0</td>\n",
              "      <td>450.809363</td>\n",
              "    </tr>\n",
              "    <tr>\n",
              "      <th>caras</th>\n",
              "      <td>2411.0</td>\n",
              "      <td>2964.917947</td>\n",
              "      <td>454.0</td>\n",
              "      <td>567.383838</td>\n",
              "    </tr>\n",
              "    <tr>\n",
              "      <th>con precio medio</th>\n",
              "      <td>2029.0</td>\n",
              "      <td>2564.067460</td>\n",
              "      <td>440.0</td>\n",
              "      <td>548.360964</td>\n",
              "    </tr>\n",
              "  </tbody>\n",
              "</table>\n",
              "</div>"
            ],
            "text/plain": [
              "                 TOTAL_ROOMS              TOTAL_BEDROOMS            \n",
              "                      median         mean         median     average\n",
              "baratas               1741.0  2044.094981          384.0  450.809363\n",
              "caras                 2411.0  2964.917947          454.0  567.383838\n",
              "con precio medio      2029.0  2564.067460          440.0  548.360964"
            ]
          },
          "metadata": {
            "tags": []
          },
          "execution_count": 42
        }
      ]
    },
    {
      "cell_type": "markdown",
      "metadata": {
        "id": "6kqPI2E9750j"
      },
      "source": [
        "#### Transformation"
      ]
    },
    {
      "cell_type": "code",
      "metadata": {
        "id": "4fz1sXtk8SEu"
      },
      "source": [
        "df_copy.reset_index(inplace=True)"
      ],
      "execution_count": null,
      "outputs": []
    },
    {
      "cell_type": "code",
      "metadata": {
        "colab": {
          "base_uri": "https://localhost:8080/",
          "height": 111
        },
        "id": "0wNtanIN8fD7",
        "outputId": "6ff063eb-9aa5-4dcf-ecb3-4b1866c16034"
      },
      "source": [
        "df_copy.head(2)"
      ],
      "execution_count": null,
      "outputs": [
        {
          "output_type": "execute_result",
          "data": {
            "text/html": [
              "<div>\n",
              "<style scoped>\n",
              "    .dataframe tbody tr th:only-of-type {\n",
              "        vertical-align: middle;\n",
              "    }\n",
              "\n",
              "    .dataframe tbody tr th {\n",
              "        vertical-align: top;\n",
              "    }\n",
              "\n",
              "    .dataframe thead th {\n",
              "        text-align: right;\n",
              "    }\n",
              "</style>\n",
              "<table border=\"1\" class=\"dataframe\">\n",
              "  <thead>\n",
              "    <tr style=\"text-align: right;\">\n",
              "      <th></th>\n",
              "      <th>MEDIAN_HOUSE_VALUE</th>\n",
              "      <th>LONGITUDE</th>\n",
              "      <th>LATITUDE</th>\n",
              "      <th>HOUSING_MEDIAN_AGE</th>\n",
              "      <th>TOTAL_ROOMS</th>\n",
              "      <th>TOTAL_BEDROOMS</th>\n",
              "      <th>POPULATION</th>\n",
              "      <th>HOUSEHOLDS</th>\n",
              "      <th>MEDIAN_INCOME</th>\n",
              "      <th>LONGITUDE_INT</th>\n",
              "    </tr>\n",
              "  </thead>\n",
              "  <tbody>\n",
              "    <tr>\n",
              "      <th>0</th>\n",
              "      <td>66900.0</td>\n",
              "      <td>-114.31</td>\n",
              "      <td>34.19</td>\n",
              "      <td>15.0</td>\n",
              "      <td>5612.0</td>\n",
              "      <td>1283.0</td>\n",
              "      <td>1015.0</td>\n",
              "      <td>472.0</td>\n",
              "      <td>1.4936</td>\n",
              "      <td>-114</td>\n",
              "    </tr>\n",
              "    <tr>\n",
              "      <th>1</th>\n",
              "      <td>80100.0</td>\n",
              "      <td>-114.47</td>\n",
              "      <td>34.40</td>\n",
              "      <td>19.0</td>\n",
              "      <td>7650.0</td>\n",
              "      <td>1901.0</td>\n",
              "      <td>1129.0</td>\n",
              "      <td>463.0</td>\n",
              "      <td>1.8200</td>\n",
              "      <td>-114</td>\n",
              "    </tr>\n",
              "  </tbody>\n",
              "</table>\n",
              "</div>"
            ],
            "text/plain": [
              "   MEDIAN_HOUSE_VALUE  LONGITUDE  ...  MEDIAN_INCOME  LONGITUDE_INT\n",
              "0             66900.0    -114.31  ...         1.4936           -114\n",
              "1             80100.0    -114.47  ...         1.8200           -114\n",
              "\n",
              "[2 rows x 10 columns]"
            ]
          },
          "metadata": {
            "tags": []
          },
          "execution_count": 44
        }
      ]
    },
    {
      "cell_type": "code",
      "metadata": {
        "colab": {
          "base_uri": "https://localhost:8080/",
          "height": 419
        },
        "id": "_JDIh3op74-K",
        "outputId": "0c23d3ac-bf80-4d00-d66b-87a4286e7f65"
      },
      "source": [
        "cols = [\"LONGITUDE_INT\", \"TOTAL_ROOMS\", \"TOTAL_BEDROOMS\"]\n",
        "transform_df = df_copy[cols].groupby(\"LONGITUDE_INT\").transform(np.average)\n",
        "transform_df"
      ],
      "execution_count": null,
      "outputs": [
        {
          "output_type": "execute_result",
          "data": {
            "text/html": [
              "<div>\n",
              "<style scoped>\n",
              "    .dataframe tbody tr th:only-of-type {\n",
              "        vertical-align: middle;\n",
              "    }\n",
              "\n",
              "    .dataframe tbody tr th {\n",
              "        vertical-align: top;\n",
              "    }\n",
              "\n",
              "    .dataframe thead th {\n",
              "        text-align: right;\n",
              "    }\n",
              "</style>\n",
              "<table border=\"1\" class=\"dataframe\">\n",
              "  <thead>\n",
              "    <tr style=\"text-align: right;\">\n",
              "      <th></th>\n",
              "      <th>TOTAL_ROOMS</th>\n",
              "      <th>TOTAL_BEDROOMS</th>\n",
              "    </tr>\n",
              "  </thead>\n",
              "  <tbody>\n",
              "    <tr>\n",
              "      <th>0</th>\n",
              "      <td>2013.291667</td>\n",
              "      <td>464.250000</td>\n",
              "    </tr>\n",
              "    <tr>\n",
              "      <th>1</th>\n",
              "      <td>2013.291667</td>\n",
              "      <td>464.250000</td>\n",
              "    </tr>\n",
              "    <tr>\n",
              "      <th>2</th>\n",
              "      <td>2013.291667</td>\n",
              "      <td>464.250000</td>\n",
              "    </tr>\n",
              "    <tr>\n",
              "      <th>3</th>\n",
              "      <td>2013.291667</td>\n",
              "      <td>464.250000</td>\n",
              "    </tr>\n",
              "    <tr>\n",
              "      <th>4</th>\n",
              "      <td>2013.291667</td>\n",
              "      <td>464.250000</td>\n",
              "    </tr>\n",
              "    <tr>\n",
              "      <th>...</th>\n",
              "      <td>...</td>\n",
              "      <td>...</td>\n",
              "    </tr>\n",
              "    <tr>\n",
              "      <th>16995</th>\n",
              "      <td>2023.523364</td>\n",
              "      <td>418.859813</td>\n",
              "    </tr>\n",
              "    <tr>\n",
              "      <th>16996</th>\n",
              "      <td>2023.523364</td>\n",
              "      <td>418.859813</td>\n",
              "    </tr>\n",
              "    <tr>\n",
              "      <th>16997</th>\n",
              "      <td>2023.523364</td>\n",
              "      <td>418.859813</td>\n",
              "    </tr>\n",
              "    <tr>\n",
              "      <th>16998</th>\n",
              "      <td>2023.523364</td>\n",
              "      <td>418.859813</td>\n",
              "    </tr>\n",
              "    <tr>\n",
              "      <th>16999</th>\n",
              "      <td>2023.523364</td>\n",
              "      <td>418.859813</td>\n",
              "    </tr>\n",
              "  </tbody>\n",
              "</table>\n",
              "<p>17000 rows × 2 columns</p>\n",
              "</div>"
            ],
            "text/plain": [
              "       TOTAL_ROOMS  TOTAL_BEDROOMS\n",
              "0      2013.291667      464.250000\n",
              "1      2013.291667      464.250000\n",
              "2      2013.291667      464.250000\n",
              "3      2013.291667      464.250000\n",
              "4      2013.291667      464.250000\n",
              "...            ...             ...\n",
              "16995  2023.523364      418.859813\n",
              "16996  2023.523364      418.859813\n",
              "16997  2023.523364      418.859813\n",
              "16998  2023.523364      418.859813\n",
              "16999  2023.523364      418.859813\n",
              "\n",
              "[17000 rows x 2 columns]"
            ]
          },
          "metadata": {
            "tags": []
          },
          "execution_count": 45
        }
      ]
    },
    {
      "cell_type": "code",
      "metadata": {
        "colab": {
          "base_uri": "https://localhost:8080/",
          "height": 204
        },
        "id": "1lCpSdVR9Ub3",
        "outputId": "ae920acc-3418-491d-a8a5-9c627fc8e1fa"
      },
      "source": [
        "new_names = {\"TOTAL_ROOMS\": \"TOTAL_ROOMS_MEAN\", \n",
        "             \"TOTAL_BEDROOMS\": \"TOTAL_BEDROOMS_MEAN\"}\n",
        "transform_df.rename(new_names, axis=\"columns\", inplace=True)\n",
        "df_copy = df_copy.merge(transform_df, left_index=True, right_index=True)\n",
        "df_copy.head()"
      ],
      "execution_count": null,
      "outputs": [
        {
          "output_type": "execute_result",
          "data": {
            "text/html": [
              "<div>\n",
              "<style scoped>\n",
              "    .dataframe tbody tr th:only-of-type {\n",
              "        vertical-align: middle;\n",
              "    }\n",
              "\n",
              "    .dataframe tbody tr th {\n",
              "        vertical-align: top;\n",
              "    }\n",
              "\n",
              "    .dataframe thead th {\n",
              "        text-align: right;\n",
              "    }\n",
              "</style>\n",
              "<table border=\"1\" class=\"dataframe\">\n",
              "  <thead>\n",
              "    <tr style=\"text-align: right;\">\n",
              "      <th></th>\n",
              "      <th>MEDIAN_HOUSE_VALUE</th>\n",
              "      <th>LONGITUDE</th>\n",
              "      <th>LATITUDE</th>\n",
              "      <th>HOUSING_MEDIAN_AGE</th>\n",
              "      <th>TOTAL_ROOMS</th>\n",
              "      <th>TOTAL_BEDROOMS</th>\n",
              "      <th>POPULATION</th>\n",
              "      <th>HOUSEHOLDS</th>\n",
              "      <th>MEDIAN_INCOME</th>\n",
              "      <th>LONGITUDE_INT</th>\n",
              "      <th>TOTAL_ROOMS_MEAN</th>\n",
              "      <th>TOTAL_BEDROOMS_MEAN</th>\n",
              "    </tr>\n",
              "  </thead>\n",
              "  <tbody>\n",
              "    <tr>\n",
              "      <th>0</th>\n",
              "      <td>66900.0</td>\n",
              "      <td>-114.31</td>\n",
              "      <td>34.19</td>\n",
              "      <td>15.0</td>\n",
              "      <td>5612.0</td>\n",
              "      <td>1283.0</td>\n",
              "      <td>1015.0</td>\n",
              "      <td>472.0</td>\n",
              "      <td>1.4936</td>\n",
              "      <td>-114</td>\n",
              "      <td>2013.291667</td>\n",
              "      <td>464.25</td>\n",
              "    </tr>\n",
              "    <tr>\n",
              "      <th>1</th>\n",
              "      <td>80100.0</td>\n",
              "      <td>-114.47</td>\n",
              "      <td>34.40</td>\n",
              "      <td>19.0</td>\n",
              "      <td>7650.0</td>\n",
              "      <td>1901.0</td>\n",
              "      <td>1129.0</td>\n",
              "      <td>463.0</td>\n",
              "      <td>1.8200</td>\n",
              "      <td>-114</td>\n",
              "      <td>2013.291667</td>\n",
              "      <td>464.25</td>\n",
              "    </tr>\n",
              "    <tr>\n",
              "      <th>2</th>\n",
              "      <td>85700.0</td>\n",
              "      <td>-114.56</td>\n",
              "      <td>33.69</td>\n",
              "      <td>17.0</td>\n",
              "      <td>720.0</td>\n",
              "      <td>174.0</td>\n",
              "      <td>333.0</td>\n",
              "      <td>117.0</td>\n",
              "      <td>1.6509</td>\n",
              "      <td>-114</td>\n",
              "      <td>2013.291667</td>\n",
              "      <td>464.25</td>\n",
              "    </tr>\n",
              "    <tr>\n",
              "      <th>3</th>\n",
              "      <td>73400.0</td>\n",
              "      <td>-114.57</td>\n",
              "      <td>33.64</td>\n",
              "      <td>14.0</td>\n",
              "      <td>1501.0</td>\n",
              "      <td>337.0</td>\n",
              "      <td>515.0</td>\n",
              "      <td>226.0</td>\n",
              "      <td>3.1917</td>\n",
              "      <td>-114</td>\n",
              "      <td>2013.291667</td>\n",
              "      <td>464.25</td>\n",
              "    </tr>\n",
              "    <tr>\n",
              "      <th>4</th>\n",
              "      <td>65500.0</td>\n",
              "      <td>-114.57</td>\n",
              "      <td>33.57</td>\n",
              "      <td>20.0</td>\n",
              "      <td>1454.0</td>\n",
              "      <td>326.0</td>\n",
              "      <td>624.0</td>\n",
              "      <td>262.0</td>\n",
              "      <td>1.9250</td>\n",
              "      <td>-114</td>\n",
              "      <td>2013.291667</td>\n",
              "      <td>464.25</td>\n",
              "    </tr>\n",
              "  </tbody>\n",
              "</table>\n",
              "</div>"
            ],
            "text/plain": [
              "   MEDIAN_HOUSE_VALUE  LONGITUDE  ...  TOTAL_ROOMS_MEAN  TOTAL_BEDROOMS_MEAN\n",
              "0             66900.0    -114.31  ...       2013.291667               464.25\n",
              "1             80100.0    -114.47  ...       2013.291667               464.25\n",
              "2             85700.0    -114.56  ...       2013.291667               464.25\n",
              "3             73400.0    -114.57  ...       2013.291667               464.25\n",
              "4             65500.0    -114.57  ...       2013.291667               464.25\n",
              "\n",
              "[5 rows x 12 columns]"
            ]
          },
          "metadata": {
            "tags": []
          },
          "execution_count": 46
        }
      ]
    },
    {
      "cell_type": "code",
      "metadata": {
        "colab": {
          "base_uri": "https://localhost:8080/",
          "height": 224
        },
        "id": "tGjwvsf5-0d3",
        "outputId": "843cda59-2560-4f0e-df35-a7e57ad1ac12"
      },
      "source": [
        "df_copy[\"ROOMS_DIFFER\"] = df_copy[\"TOTAL_ROOMS\"] - df_copy[\"TOTAL_ROOMS_MEAN\"]\n",
        "df_copy[\"BEDROOMS_DIFFER\"] = df_copy[\"TOTAL_BEDROOMS\"] - df_copy[\"TOTAL_BEDROOMS_MEAN\"]\n",
        "df_copy.head()"
      ],
      "execution_count": null,
      "outputs": [
        {
          "output_type": "execute_result",
          "data": {
            "text/html": [
              "<div>\n",
              "<style scoped>\n",
              "    .dataframe tbody tr th:only-of-type {\n",
              "        vertical-align: middle;\n",
              "    }\n",
              "\n",
              "    .dataframe tbody tr th {\n",
              "        vertical-align: top;\n",
              "    }\n",
              "\n",
              "    .dataframe thead th {\n",
              "        text-align: right;\n",
              "    }\n",
              "</style>\n",
              "<table border=\"1\" class=\"dataframe\">\n",
              "  <thead>\n",
              "    <tr style=\"text-align: right;\">\n",
              "      <th></th>\n",
              "      <th>MEDIAN_HOUSE_VALUE</th>\n",
              "      <th>LONGITUDE</th>\n",
              "      <th>LATITUDE</th>\n",
              "      <th>HOUSING_MEDIAN_AGE</th>\n",
              "      <th>TOTAL_ROOMS</th>\n",
              "      <th>TOTAL_BEDROOMS</th>\n",
              "      <th>POPULATION</th>\n",
              "      <th>HOUSEHOLDS</th>\n",
              "      <th>MEDIAN_INCOME</th>\n",
              "      <th>LONGITUDE_INT</th>\n",
              "      <th>TOTAL_ROOMS_MEAN</th>\n",
              "      <th>TOTAL_BEDROOMS_MEAN</th>\n",
              "      <th>ROOMS_DIFFER</th>\n",
              "      <th>BEDROOMS_DIFFER</th>\n",
              "    </tr>\n",
              "  </thead>\n",
              "  <tbody>\n",
              "    <tr>\n",
              "      <th>0</th>\n",
              "      <td>66900.0</td>\n",
              "      <td>-114.31</td>\n",
              "      <td>34.19</td>\n",
              "      <td>15.0</td>\n",
              "      <td>5612.0</td>\n",
              "      <td>1283.0</td>\n",
              "      <td>1015.0</td>\n",
              "      <td>472.0</td>\n",
              "      <td>1.4936</td>\n",
              "      <td>-114</td>\n",
              "      <td>2013.291667</td>\n",
              "      <td>464.25</td>\n",
              "      <td>3598.708333</td>\n",
              "      <td>818.75</td>\n",
              "    </tr>\n",
              "    <tr>\n",
              "      <th>1</th>\n",
              "      <td>80100.0</td>\n",
              "      <td>-114.47</td>\n",
              "      <td>34.40</td>\n",
              "      <td>19.0</td>\n",
              "      <td>7650.0</td>\n",
              "      <td>1901.0</td>\n",
              "      <td>1129.0</td>\n",
              "      <td>463.0</td>\n",
              "      <td>1.8200</td>\n",
              "      <td>-114</td>\n",
              "      <td>2013.291667</td>\n",
              "      <td>464.25</td>\n",
              "      <td>5636.708333</td>\n",
              "      <td>1436.75</td>\n",
              "    </tr>\n",
              "    <tr>\n",
              "      <th>2</th>\n",
              "      <td>85700.0</td>\n",
              "      <td>-114.56</td>\n",
              "      <td>33.69</td>\n",
              "      <td>17.0</td>\n",
              "      <td>720.0</td>\n",
              "      <td>174.0</td>\n",
              "      <td>333.0</td>\n",
              "      <td>117.0</td>\n",
              "      <td>1.6509</td>\n",
              "      <td>-114</td>\n",
              "      <td>2013.291667</td>\n",
              "      <td>464.25</td>\n",
              "      <td>-1293.291667</td>\n",
              "      <td>-290.25</td>\n",
              "    </tr>\n",
              "    <tr>\n",
              "      <th>3</th>\n",
              "      <td>73400.0</td>\n",
              "      <td>-114.57</td>\n",
              "      <td>33.64</td>\n",
              "      <td>14.0</td>\n",
              "      <td>1501.0</td>\n",
              "      <td>337.0</td>\n",
              "      <td>515.0</td>\n",
              "      <td>226.0</td>\n",
              "      <td>3.1917</td>\n",
              "      <td>-114</td>\n",
              "      <td>2013.291667</td>\n",
              "      <td>464.25</td>\n",
              "      <td>-512.291667</td>\n",
              "      <td>-127.25</td>\n",
              "    </tr>\n",
              "    <tr>\n",
              "      <th>4</th>\n",
              "      <td>65500.0</td>\n",
              "      <td>-114.57</td>\n",
              "      <td>33.57</td>\n",
              "      <td>20.0</td>\n",
              "      <td>1454.0</td>\n",
              "      <td>326.0</td>\n",
              "      <td>624.0</td>\n",
              "      <td>262.0</td>\n",
              "      <td>1.9250</td>\n",
              "      <td>-114</td>\n",
              "      <td>2013.291667</td>\n",
              "      <td>464.25</td>\n",
              "      <td>-559.291667</td>\n",
              "      <td>-138.25</td>\n",
              "    </tr>\n",
              "  </tbody>\n",
              "</table>\n",
              "</div>"
            ],
            "text/plain": [
              "   MEDIAN_HOUSE_VALUE  LONGITUDE  ...  ROOMS_DIFFER  BEDROOMS_DIFFER\n",
              "0             66900.0    -114.31  ...   3598.708333           818.75\n",
              "1             80100.0    -114.47  ...   5636.708333          1436.75\n",
              "2             85700.0    -114.56  ...  -1293.291667          -290.25\n",
              "3             73400.0    -114.57  ...   -512.291667          -127.25\n",
              "4             65500.0    -114.57  ...   -559.291667          -138.25\n",
              "\n",
              "[5 rows x 14 columns]"
            ]
          },
          "metadata": {
            "tags": []
          },
          "execution_count": 47
        }
      ]
    },
    {
      "cell_type": "markdown",
      "metadata": {
        "id": "lwaxpOiwA8u2"
      },
      "source": [
        "#### Apply"
      ]
    },
    {
      "cell_type": "code",
      "metadata": {
        "id": "S-TeBpEWBN_U"
      },
      "source": [
        "def calc_mean_HOUSING_MEDIAN_AGE(grupo):\n",
        "  # grupo es un df de un grupo (en este caso los grupos son los valores de \n",
        "  # LONGITUDE_INT)\n",
        "\n",
        "  avg = np.average(grupo[\"HOUSING_MEDIAN_AGE\"])\n",
        "  grupo[\"HOUSING_MEDIAN_AGE_DIFFER\"] = grupo[\"HOUSING_MEDIAN_AGE\"] - avg\n",
        "  return grupo"
      ],
      "execution_count": null,
      "outputs": []
    },
    {
      "cell_type": "code",
      "metadata": {
        "colab": {
          "base_uri": "https://localhost:8080/",
          "height": 224
        },
        "id": "nzo492ocHWgA",
        "outputId": "76ff3a6e-29e7-4a80-e9d7-b8cc47674945"
      },
      "source": [
        "df_copy.groupby(\"LONGITUDE_INT\").apply(calc_mean_HOUSING_MEDIAN_AGE).head()"
      ],
      "execution_count": null,
      "outputs": [
        {
          "output_type": "execute_result",
          "data": {
            "text/html": [
              "<div>\n",
              "<style scoped>\n",
              "    .dataframe tbody tr th:only-of-type {\n",
              "        vertical-align: middle;\n",
              "    }\n",
              "\n",
              "    .dataframe tbody tr th {\n",
              "        vertical-align: top;\n",
              "    }\n",
              "\n",
              "    .dataframe thead th {\n",
              "        text-align: right;\n",
              "    }\n",
              "</style>\n",
              "<table border=\"1\" class=\"dataframe\">\n",
              "  <thead>\n",
              "    <tr style=\"text-align: right;\">\n",
              "      <th></th>\n",
              "      <th>MEDIAN_HOUSE_VALUE</th>\n",
              "      <th>LONGITUDE</th>\n",
              "      <th>LATITUDE</th>\n",
              "      <th>HOUSING_MEDIAN_AGE</th>\n",
              "      <th>TOTAL_ROOMS</th>\n",
              "      <th>TOTAL_BEDROOMS</th>\n",
              "      <th>POPULATION</th>\n",
              "      <th>HOUSEHOLDS</th>\n",
              "      <th>MEDIAN_INCOME</th>\n",
              "      <th>LONGITUDE_INT</th>\n",
              "      <th>TOTAL_ROOMS_MEAN</th>\n",
              "      <th>TOTAL_BEDROOMS_MEAN</th>\n",
              "      <th>ROOMS_DIFFER</th>\n",
              "      <th>BEDROOMS_DIFFER</th>\n",
              "      <th>HOUSING_MEDIAN_AGE_DIFFER</th>\n",
              "    </tr>\n",
              "  </thead>\n",
              "  <tbody>\n",
              "    <tr>\n",
              "      <th>0</th>\n",
              "      <td>66900.0</td>\n",
              "      <td>-114.31</td>\n",
              "      <td>34.19</td>\n",
              "      <td>15.0</td>\n",
              "      <td>5612.0</td>\n",
              "      <td>1283.0</td>\n",
              "      <td>1015.0</td>\n",
              "      <td>472.0</td>\n",
              "      <td>1.4936</td>\n",
              "      <td>-114</td>\n",
              "      <td>2013.291667</td>\n",
              "      <td>464.25</td>\n",
              "      <td>3598.708333</td>\n",
              "      <td>818.75</td>\n",
              "      <td>-8.75</td>\n",
              "    </tr>\n",
              "    <tr>\n",
              "      <th>1</th>\n",
              "      <td>80100.0</td>\n",
              "      <td>-114.47</td>\n",
              "      <td>34.40</td>\n",
              "      <td>19.0</td>\n",
              "      <td>7650.0</td>\n",
              "      <td>1901.0</td>\n",
              "      <td>1129.0</td>\n",
              "      <td>463.0</td>\n",
              "      <td>1.8200</td>\n",
              "      <td>-114</td>\n",
              "      <td>2013.291667</td>\n",
              "      <td>464.25</td>\n",
              "      <td>5636.708333</td>\n",
              "      <td>1436.75</td>\n",
              "      <td>-4.75</td>\n",
              "    </tr>\n",
              "    <tr>\n",
              "      <th>2</th>\n",
              "      <td>85700.0</td>\n",
              "      <td>-114.56</td>\n",
              "      <td>33.69</td>\n",
              "      <td>17.0</td>\n",
              "      <td>720.0</td>\n",
              "      <td>174.0</td>\n",
              "      <td>333.0</td>\n",
              "      <td>117.0</td>\n",
              "      <td>1.6509</td>\n",
              "      <td>-114</td>\n",
              "      <td>2013.291667</td>\n",
              "      <td>464.25</td>\n",
              "      <td>-1293.291667</td>\n",
              "      <td>-290.25</td>\n",
              "      <td>-6.75</td>\n",
              "    </tr>\n",
              "    <tr>\n",
              "      <th>3</th>\n",
              "      <td>73400.0</td>\n",
              "      <td>-114.57</td>\n",
              "      <td>33.64</td>\n",
              "      <td>14.0</td>\n",
              "      <td>1501.0</td>\n",
              "      <td>337.0</td>\n",
              "      <td>515.0</td>\n",
              "      <td>226.0</td>\n",
              "      <td>3.1917</td>\n",
              "      <td>-114</td>\n",
              "      <td>2013.291667</td>\n",
              "      <td>464.25</td>\n",
              "      <td>-512.291667</td>\n",
              "      <td>-127.25</td>\n",
              "      <td>-9.75</td>\n",
              "    </tr>\n",
              "    <tr>\n",
              "      <th>4</th>\n",
              "      <td>65500.0</td>\n",
              "      <td>-114.57</td>\n",
              "      <td>33.57</td>\n",
              "      <td>20.0</td>\n",
              "      <td>1454.0</td>\n",
              "      <td>326.0</td>\n",
              "      <td>624.0</td>\n",
              "      <td>262.0</td>\n",
              "      <td>1.9250</td>\n",
              "      <td>-114</td>\n",
              "      <td>2013.291667</td>\n",
              "      <td>464.25</td>\n",
              "      <td>-559.291667</td>\n",
              "      <td>-138.25</td>\n",
              "      <td>-3.75</td>\n",
              "    </tr>\n",
              "  </tbody>\n",
              "</table>\n",
              "</div>"
            ],
            "text/plain": [
              "   MEDIAN_HOUSE_VALUE  LONGITUDE  ...  BEDROOMS_DIFFER  HOUSING_MEDIAN_AGE_DIFFER\n",
              "0             66900.0    -114.31  ...           818.75                      -8.75\n",
              "1             80100.0    -114.47  ...          1436.75                      -4.75\n",
              "2             85700.0    -114.56  ...          -290.25                      -6.75\n",
              "3             73400.0    -114.57  ...          -127.25                      -9.75\n",
              "4             65500.0    -114.57  ...          -138.25                      -3.75\n",
              "\n",
              "[5 rows x 15 columns]"
            ]
          },
          "metadata": {
            "tags": []
          },
          "execution_count": 49
        }
      ]
    },
    {
      "cell_type": "code",
      "metadata": {
        "colab": {
          "base_uri": "https://localhost:8080/"
        },
        "id": "UpUrfFBC2krq",
        "outputId": "5ba8d95f-4460-40df-f329-86839c6fb895"
      },
      "source": [
        "# Queremos dividir las casas en caras o baratas según si están por encima de la\n",
        "# media o no con respecto a LONGITUDE_INT\n",
        "\n",
        "media = np.average(df_copy[\"MEDIAN_HOUSE_VALUE\"])\n",
        "\n",
        "def etiquetar_precio(precio):\n",
        "\n",
        "  if precio < media:\n",
        "    return \"CHEAP\"\n",
        "  else:\n",
        "    return \"EXPENSIVE\"\n",
        "\n",
        "df_copy[\"PRICE LABEL\"] = \\\n",
        "df_copy[\"MEDIAN_HOUSE_VALUE\"].apply(etiquetar_precio)\n",
        "\n",
        "df_copy[\"PRICE LABEL\"].value_counts()"
      ],
      "execution_count": null,
      "outputs": [
        {
          "output_type": "execute_result",
          "data": {
            "text/plain": [
              "CHEAP        10109\n",
              "EXPENSIVE     6891\n",
              "Name: PRICE LABEL, dtype: int64"
            ]
          },
          "metadata": {
            "tags": []
          },
          "execution_count": 50
        }
      ]
    },
    {
      "cell_type": "code",
      "metadata": {
        "id": "q6buCdox5p9l"
      },
      "source": [
        ""
      ],
      "execution_count": null,
      "outputs": []
    },
    {
      "cell_type": "markdown",
      "metadata": {
        "id": "0uuihzXf9yr3"
      },
      "source": [
        "### Scale"
      ]
    },
    {
      "cell_type": "code",
      "metadata": {
        "colab": {
          "base_uri": "https://localhost:8080/",
          "height": 390
        },
        "id": "U7uPxMeu911l",
        "outputId": "fbdf859d-a161-4542-f540-5145ce2dbfde"
      },
      "source": [
        "df_notas = pd.DataFrame(['A+', 'A', 'A-', 'B+', 'B', 'B-', 'C+', 'C', 'C-', 'D+', 'D'],\n",
        "                index=['excellent', 'excellent', 'excellent', 'good', 'good', 'good', \n",
        "                       'ok', 'ok', 'ok', 'poor', 'poor'],\n",
        "               columns=[\"Grades\"])\n",
        "\n",
        "df_notas"
      ],
      "execution_count": null,
      "outputs": [
        {
          "output_type": "execute_result",
          "data": {
            "text/html": [
              "<div>\n",
              "<style scoped>\n",
              "    .dataframe tbody tr th:only-of-type {\n",
              "        vertical-align: middle;\n",
              "    }\n",
              "\n",
              "    .dataframe tbody tr th {\n",
              "        vertical-align: top;\n",
              "    }\n",
              "\n",
              "    .dataframe thead th {\n",
              "        text-align: right;\n",
              "    }\n",
              "</style>\n",
              "<table border=\"1\" class=\"dataframe\">\n",
              "  <thead>\n",
              "    <tr style=\"text-align: right;\">\n",
              "      <th></th>\n",
              "      <th>Grades</th>\n",
              "    </tr>\n",
              "  </thead>\n",
              "  <tbody>\n",
              "    <tr>\n",
              "      <th>excellent</th>\n",
              "      <td>A+</td>\n",
              "    </tr>\n",
              "    <tr>\n",
              "      <th>excellent</th>\n",
              "      <td>A</td>\n",
              "    </tr>\n",
              "    <tr>\n",
              "      <th>excellent</th>\n",
              "      <td>A-</td>\n",
              "    </tr>\n",
              "    <tr>\n",
              "      <th>good</th>\n",
              "      <td>B+</td>\n",
              "    </tr>\n",
              "    <tr>\n",
              "      <th>good</th>\n",
              "      <td>B</td>\n",
              "    </tr>\n",
              "    <tr>\n",
              "      <th>good</th>\n",
              "      <td>B-</td>\n",
              "    </tr>\n",
              "    <tr>\n",
              "      <th>ok</th>\n",
              "      <td>C+</td>\n",
              "    </tr>\n",
              "    <tr>\n",
              "      <th>ok</th>\n",
              "      <td>C</td>\n",
              "    </tr>\n",
              "    <tr>\n",
              "      <th>ok</th>\n",
              "      <td>C-</td>\n",
              "    </tr>\n",
              "    <tr>\n",
              "      <th>poor</th>\n",
              "      <td>D+</td>\n",
              "    </tr>\n",
              "    <tr>\n",
              "      <th>poor</th>\n",
              "      <td>D</td>\n",
              "    </tr>\n",
              "  </tbody>\n",
              "</table>\n",
              "</div>"
            ],
            "text/plain": [
              "          Grades\n",
              "excellent     A+\n",
              "excellent      A\n",
              "excellent     A-\n",
              "good          B+\n",
              "good           B\n",
              "good          B-\n",
              "ok            C+\n",
              "ok             C\n",
              "ok            C-\n",
              "poor          D+\n",
              "poor           D"
            ]
          },
          "metadata": {
            "tags": []
          },
          "execution_count": 51
        }
      ]
    },
    {
      "cell_type": "code",
      "metadata": {
        "colab": {
          "base_uri": "https://localhost:8080/"
        },
        "id": "YHd3tUcg-A1u",
        "outputId": "cd121b84-0804-4e57-f2b9-9fa7d1a9e2e7"
      },
      "source": [
        "# Now, if we check the datatype of this column, we see that it's just an object, \n",
        "# since we set string values\n",
        "df_notas.dtypes"
      ],
      "execution_count": null,
      "outputs": [
        {
          "output_type": "execute_result",
          "data": {
            "text/plain": [
              "Grades    object\n",
              "dtype: object"
            ]
          },
          "metadata": {
            "tags": []
          },
          "execution_count": 52
        }
      ]
    },
    {
      "cell_type": "code",
      "metadata": {
        "colab": {
          "base_uri": "https://localhost:8080/"
        },
        "id": "ZeNhn-qt-HIm",
        "outputId": "ff8de573-f065-4169-bac7-611332b911e1"
      },
      "source": [
        "df_notas[\"Grades\"].astype(\"category\").head()"
      ],
      "execution_count": null,
      "outputs": [
        {
          "output_type": "execute_result",
          "data": {
            "text/plain": [
              "excellent    A+\n",
              "excellent     A\n",
              "excellent    A-\n",
              "good         B+\n",
              "good          B\n",
              "Name: Grades, dtype: category\n",
              "Categories (11, object): ['A', 'A+', 'A-', 'B', ..., 'C+', 'C-', 'D', 'D+']"
            ]
          },
          "metadata": {
            "tags": []
          },
          "execution_count": 53
        }
      ]
    },
    {
      "cell_type": "code",
      "metadata": {
        "colab": {
          "base_uri": "https://localhost:8080/"
        },
        "id": "guYPo-Pg-SQF",
        "outputId": "c689c610-d138-4921-ffa3-664ff2f6b0c1"
      },
      "source": [
        "ordered_categories = ['D', 'D+', 'C-', 'C', 'C+', \n",
        "                      'B-', 'B', 'B+', 'A-', 'A', 'A+']\n",
        "my_categories=pd.CategoricalDtype(categories= ordered_categories, \n",
        "                           ordered=True)\n",
        "grades = df_notas[\"Grades\"].astype(my_categories)\n",
        "grades.head()"
      ],
      "execution_count": null,
      "outputs": [
        {
          "output_type": "execute_result",
          "data": {
            "text/plain": [
              "excellent    A+\n",
              "excellent     A\n",
              "excellent    A-\n",
              "good         B+\n",
              "good          B\n",
              "Name: Grades, dtype: category\n",
              "Categories (11, object): ['D' < 'D+' < 'C-' < 'C' ... 'B+' < 'A-' < 'A' < 'A+']"
            ]
          },
          "metadata": {
            "tags": []
          },
          "execution_count": 54
        }
      ]
    },
    {
      "cell_type": "code",
      "metadata": {
        "colab": {
          "base_uri": "https://localhost:8080/",
          "height": 173
        },
        "id": "C1FjZvju-rpL",
        "outputId": "5ab2fa43-0200-4dbf-8aee-cabb4d942954"
      },
      "source": [
        "# Esto no funciona como queremos, ordena por orden alfabético\n",
        "# porque no habíamos puesto un orden todavía:\n",
        "df_notas[df_notas[\"Grades\"]>\"C\"]"
      ],
      "execution_count": null,
      "outputs": [
        {
          "output_type": "execute_result",
          "data": {
            "text/html": [
              "<div>\n",
              "<style scoped>\n",
              "    .dataframe tbody tr th:only-of-type {\n",
              "        vertical-align: middle;\n",
              "    }\n",
              "\n",
              "    .dataframe tbody tr th {\n",
              "        vertical-align: top;\n",
              "    }\n",
              "\n",
              "    .dataframe thead th {\n",
              "        text-align: right;\n",
              "    }\n",
              "</style>\n",
              "<table border=\"1\" class=\"dataframe\">\n",
              "  <thead>\n",
              "    <tr style=\"text-align: right;\">\n",
              "      <th></th>\n",
              "      <th>Grades</th>\n",
              "    </tr>\n",
              "  </thead>\n",
              "  <tbody>\n",
              "    <tr>\n",
              "      <th>ok</th>\n",
              "      <td>C+</td>\n",
              "    </tr>\n",
              "    <tr>\n",
              "      <th>ok</th>\n",
              "      <td>C-</td>\n",
              "    </tr>\n",
              "    <tr>\n",
              "      <th>poor</th>\n",
              "      <td>D+</td>\n",
              "    </tr>\n",
              "    <tr>\n",
              "      <th>poor</th>\n",
              "      <td>D</td>\n",
              "    </tr>\n",
              "  </tbody>\n",
              "</table>\n",
              "</div>"
            ],
            "text/plain": [
              "     Grades\n",
              "ok       C+\n",
              "ok       C-\n",
              "poor     D+\n",
              "poor      D"
            ]
          },
          "metadata": {
            "tags": []
          },
          "execution_count": 55
        }
      ]
    },
    {
      "cell_type": "code",
      "metadata": {
        "colab": {
          "base_uri": "https://localhost:8080/"
        },
        "id": "pZ7sJDnU-1Gy",
        "outputId": "17b4b5eb-e45e-4664-9bdd-64fbbf2e7e7c"
      },
      "source": [
        "# esto sí:\n",
        "grades[grades > \"C\"]"
      ],
      "execution_count": null,
      "outputs": [
        {
          "output_type": "execute_result",
          "data": {
            "text/plain": [
              "excellent    A+\n",
              "excellent     A\n",
              "excellent    A-\n",
              "good         B+\n",
              "good          B\n",
              "good         B-\n",
              "ok           C+\n",
              "Name: Grades, dtype: category\n",
              "Categories (11, object): ['D' < 'D+' < 'C-' < 'C' ... 'B+' < 'A-' < 'A' < 'A+']"
            ]
          },
          "metadata": {
            "tags": []
          },
          "execution_count": 56
        }
      ]
    },
    {
      "cell_type": "markdown",
      "metadata": {
        "id": "6K-EuNTP_Ldb"
      },
      "source": [
        "#### cuts"
      ]
    },
    {
      "cell_type": "code",
      "metadata": {
        "colab": {
          "base_uri": "https://localhost:8080/",
          "height": 204
        },
        "id": "AR_f29MNACLI",
        "outputId": "8d401bd9-7aa5-4091-9701-eac02cc4284e"
      },
      "source": [
        "df_copy2 = df.copy()\n",
        "df_copy2.head()"
      ],
      "execution_count": null,
      "outputs": [
        {
          "output_type": "execute_result",
          "data": {
            "text/html": [
              "<div>\n",
              "<style scoped>\n",
              "    .dataframe tbody tr th:only-of-type {\n",
              "        vertical-align: middle;\n",
              "    }\n",
              "\n",
              "    .dataframe tbody tr th {\n",
              "        vertical-align: top;\n",
              "    }\n",
              "\n",
              "    .dataframe thead th {\n",
              "        text-align: right;\n",
              "    }\n",
              "</style>\n",
              "<table border=\"1\" class=\"dataframe\">\n",
              "  <thead>\n",
              "    <tr style=\"text-align: right;\">\n",
              "      <th></th>\n",
              "      <th>LONGITUDE</th>\n",
              "      <th>LATITUDE</th>\n",
              "      <th>HOUSING_MEDIAN_AGE</th>\n",
              "      <th>TOTAL_ROOMS</th>\n",
              "      <th>TOTAL_BEDROOMS</th>\n",
              "      <th>POPULATION</th>\n",
              "      <th>HOUSEHOLDS</th>\n",
              "      <th>MEDIAN_INCOME</th>\n",
              "      <th>MEDIAN_HOUSE_VALUE</th>\n",
              "    </tr>\n",
              "  </thead>\n",
              "  <tbody>\n",
              "    <tr>\n",
              "      <th>0</th>\n",
              "      <td>-114.31</td>\n",
              "      <td>34.19</td>\n",
              "      <td>15.0</td>\n",
              "      <td>5612.0</td>\n",
              "      <td>1283.0</td>\n",
              "      <td>1015.0</td>\n",
              "      <td>472.0</td>\n",
              "      <td>1.4936</td>\n",
              "      <td>66900.0</td>\n",
              "    </tr>\n",
              "    <tr>\n",
              "      <th>1</th>\n",
              "      <td>-114.47</td>\n",
              "      <td>34.40</td>\n",
              "      <td>19.0</td>\n",
              "      <td>7650.0</td>\n",
              "      <td>1901.0</td>\n",
              "      <td>1129.0</td>\n",
              "      <td>463.0</td>\n",
              "      <td>1.8200</td>\n",
              "      <td>80100.0</td>\n",
              "    </tr>\n",
              "    <tr>\n",
              "      <th>2</th>\n",
              "      <td>-114.56</td>\n",
              "      <td>33.69</td>\n",
              "      <td>17.0</td>\n",
              "      <td>720.0</td>\n",
              "      <td>174.0</td>\n",
              "      <td>333.0</td>\n",
              "      <td>117.0</td>\n",
              "      <td>1.6509</td>\n",
              "      <td>85700.0</td>\n",
              "    </tr>\n",
              "    <tr>\n",
              "      <th>4</th>\n",
              "      <td>-114.57</td>\n",
              "      <td>33.57</td>\n",
              "      <td>20.0</td>\n",
              "      <td>1454.0</td>\n",
              "      <td>326.0</td>\n",
              "      <td>624.0</td>\n",
              "      <td>262.0</td>\n",
              "      <td>1.9250</td>\n",
              "      <td>65500.0</td>\n",
              "    </tr>\n",
              "    <tr>\n",
              "      <th>5</th>\n",
              "      <td>-114.58</td>\n",
              "      <td>33.63</td>\n",
              "      <td>29.0</td>\n",
              "      <td>1387.0</td>\n",
              "      <td>236.0</td>\n",
              "      <td>671.0</td>\n",
              "      <td>239.0</td>\n",
              "      <td>3.3438</td>\n",
              "      <td>74000.0</td>\n",
              "    </tr>\n",
              "  </tbody>\n",
              "</table>\n",
              "</div>"
            ],
            "text/plain": [
              "   LONGITUDE  LATITUDE  ...  MEDIAN_INCOME  MEDIAN_HOUSE_VALUE\n",
              "0    -114.31     34.19  ...         1.4936             66900.0\n",
              "1    -114.47     34.40  ...         1.8200             80100.0\n",
              "2    -114.56     33.69  ...         1.6509             85700.0\n",
              "4    -114.57     33.57  ...         1.9250             65500.0\n",
              "5    -114.58     33.63  ...         3.3438             74000.0\n",
              "\n",
              "[5 rows x 9 columns]"
            ]
          },
          "metadata": {
            "tags": []
          },
          "execution_count": 57
        }
      ]
    },
    {
      "cell_type": "code",
      "metadata": {
        "colab": {
          "base_uri": "https://localhost:8080/"
        },
        "id": "2pX7_waK_n9s",
        "outputId": "2671d66b-3ee7-47ab-8d67-a2a0ad7bd0f1"
      },
      "source": [
        "df_copy2[\"HOUSE_VALUE_CATEGORIZED\"] = pd.cut(df_copy2[\"MEDIAN_HOUSE_VALUE\"], 5)\n",
        "df_copy2[\"HOUSE_VALUE_CATEGORIZED\"].value_counts(normalize=True)"
      ],
      "execution_count": null,
      "outputs": [
        {
          "output_type": "execute_result",
          "data": {
            "text/plain": [
              "(111999.4, 208999.8]     0.380472\n",
              "(208999.8, 306000.2]     0.218279\n",
              "(14513.998, 111999.4]    0.217318\n",
              "(306000.2, 403000.6]     0.098241\n",
              "(403000.6, 500001.0]     0.085690\n",
              "Name: HOUSE_VALUE_CATEGORIZED, dtype: float64"
            ]
          },
          "metadata": {
            "tags": []
          },
          "execution_count": 58
        }
      ]
    },
    {
      "cell_type": "markdown",
      "metadata": {
        "id": "_mdn4yWbVx4E"
      },
      "source": [
        "### Unir dos DataFrames"
      ]
    },
    {
      "cell_type": "code",
      "metadata": {
        "colab": {
          "base_uri": "https://localhost:8080/",
          "height": 173
        },
        "id": "WhEOypzmV1aD",
        "outputId": "d135abcd-31b5-4eac-98e5-bc8a17289e93"
      },
      "source": [
        "\n",
        "staff_df = pd.DataFrame([{'Name': 'Kelly', 'Role': 'Director of HR'},\n",
        "                         {'Name': 'Sally', 'Role': 'Course liasion'},\n",
        "                         {'Name': 'James', 'Role': 'Grader'}])\n",
        "\n",
        "staff_df = staff_df.set_index('Name')\n",
        "\n",
        "student_df = pd.DataFrame([{'Name': 'James', 'School': 'Business'},\n",
        "                           {'Name': 'Mike', 'School': 'Law'},\n",
        "                           {'Name': 'Sally', 'School': 'Engineering'}])\n",
        "\n",
        "student_df = student_df.set_index('Name')\n",
        "staff_df"
      ],
      "execution_count": null,
      "outputs": [
        {
          "output_type": "execute_result",
          "data": {
            "text/html": [
              "<div>\n",
              "<style scoped>\n",
              "    .dataframe tbody tr th:only-of-type {\n",
              "        vertical-align: middle;\n",
              "    }\n",
              "\n",
              "    .dataframe tbody tr th {\n",
              "        vertical-align: top;\n",
              "    }\n",
              "\n",
              "    .dataframe thead th {\n",
              "        text-align: right;\n",
              "    }\n",
              "</style>\n",
              "<table border=\"1\" class=\"dataframe\">\n",
              "  <thead>\n",
              "    <tr style=\"text-align: right;\">\n",
              "      <th></th>\n",
              "      <th>Role</th>\n",
              "    </tr>\n",
              "    <tr>\n",
              "      <th>Name</th>\n",
              "      <th></th>\n",
              "    </tr>\n",
              "  </thead>\n",
              "  <tbody>\n",
              "    <tr>\n",
              "      <th>Kelly</th>\n",
              "      <td>Director of HR</td>\n",
              "    </tr>\n",
              "    <tr>\n",
              "      <th>Sally</th>\n",
              "      <td>Course liasion</td>\n",
              "    </tr>\n",
              "    <tr>\n",
              "      <th>James</th>\n",
              "      <td>Grader</td>\n",
              "    </tr>\n",
              "  </tbody>\n",
              "</table>\n",
              "</div>"
            ],
            "text/plain": [
              "                 Role\n",
              "Name                 \n",
              "Kelly  Director of HR\n",
              "Sally  Course liasion\n",
              "James          Grader"
            ]
          },
          "metadata": {
            "tags": []
          },
          "execution_count": 59
        }
      ]
    },
    {
      "cell_type": "code",
      "metadata": {
        "colab": {
          "base_uri": "https://localhost:8080/",
          "height": 173
        },
        "id": "WjGQYjHqWjvf",
        "outputId": "da95e99f-c8ca-4f1a-b13b-724cb98495eb"
      },
      "source": [
        "student_df"
      ],
      "execution_count": null,
      "outputs": [
        {
          "output_type": "execute_result",
          "data": {
            "text/html": [
              "<div>\n",
              "<style scoped>\n",
              "    .dataframe tbody tr th:only-of-type {\n",
              "        vertical-align: middle;\n",
              "    }\n",
              "\n",
              "    .dataframe tbody tr th {\n",
              "        vertical-align: top;\n",
              "    }\n",
              "\n",
              "    .dataframe thead th {\n",
              "        text-align: right;\n",
              "    }\n",
              "</style>\n",
              "<table border=\"1\" class=\"dataframe\">\n",
              "  <thead>\n",
              "    <tr style=\"text-align: right;\">\n",
              "      <th></th>\n",
              "      <th>School</th>\n",
              "    </tr>\n",
              "    <tr>\n",
              "      <th>Name</th>\n",
              "      <th></th>\n",
              "    </tr>\n",
              "  </thead>\n",
              "  <tbody>\n",
              "    <tr>\n",
              "      <th>James</th>\n",
              "      <td>Business</td>\n",
              "    </tr>\n",
              "    <tr>\n",
              "      <th>Mike</th>\n",
              "      <td>Law</td>\n",
              "    </tr>\n",
              "    <tr>\n",
              "      <th>Sally</th>\n",
              "      <td>Engineering</td>\n",
              "    </tr>\n",
              "  </tbody>\n",
              "</table>\n",
              "</div>"
            ],
            "text/plain": [
              "            School\n",
              "Name              \n",
              "James     Business\n",
              "Mike           Law\n",
              "Sally  Engineering"
            ]
          },
          "metadata": {
            "tags": []
          },
          "execution_count": 60
        }
      ]
    },
    {
      "cell_type": "markdown",
      "metadata": {
        "id": "XwHs_VarWPBs"
      },
      "source": [
        "There's some overlap in these DataFrames in that James and Sally are both \n",
        "students and staff, but Mike and\n",
        "Kelly are not. Importantly, both DataFrames are indexed along the value we want \n",
        "to merge them on, which is called Name.\n",
        "\n",
        "If we want the union of these, we would call merge() passing in the DataFrame on the left and the DataFrame on the right and telling merge that we want it to use an outer join. We want to use the left and right indices as the joining columns."
      ]
    },
    {
      "cell_type": "code",
      "metadata": {
        "colab": {
          "base_uri": "https://localhost:8080/",
          "height": 204
        },
        "id": "AiUNsGEVWPgN",
        "outputId": "c4bfa124-a060-4840-fb02-63f6203e1a58"
      },
      "source": [
        "# Outer = Unión\n",
        "pd.merge(staff_df, student_df, how='outer', left_index=True, right_index=True,)"
      ],
      "execution_count": null,
      "outputs": [
        {
          "output_type": "execute_result",
          "data": {
            "text/html": [
              "<div>\n",
              "<style scoped>\n",
              "    .dataframe tbody tr th:only-of-type {\n",
              "        vertical-align: middle;\n",
              "    }\n",
              "\n",
              "    .dataframe tbody tr th {\n",
              "        vertical-align: top;\n",
              "    }\n",
              "\n",
              "    .dataframe thead th {\n",
              "        text-align: right;\n",
              "    }\n",
              "</style>\n",
              "<table border=\"1\" class=\"dataframe\">\n",
              "  <thead>\n",
              "    <tr style=\"text-align: right;\">\n",
              "      <th></th>\n",
              "      <th>Role</th>\n",
              "      <th>School</th>\n",
              "    </tr>\n",
              "    <tr>\n",
              "      <th>Name</th>\n",
              "      <th></th>\n",
              "      <th></th>\n",
              "    </tr>\n",
              "  </thead>\n",
              "  <tbody>\n",
              "    <tr>\n",
              "      <th>James</th>\n",
              "      <td>Grader</td>\n",
              "      <td>Business</td>\n",
              "    </tr>\n",
              "    <tr>\n",
              "      <th>Kelly</th>\n",
              "      <td>Director of HR</td>\n",
              "      <td>NaN</td>\n",
              "    </tr>\n",
              "    <tr>\n",
              "      <th>Mike</th>\n",
              "      <td>NaN</td>\n",
              "      <td>Law</td>\n",
              "    </tr>\n",
              "    <tr>\n",
              "      <th>Sally</th>\n",
              "      <td>Course liasion</td>\n",
              "      <td>Engineering</td>\n",
              "    </tr>\n",
              "  </tbody>\n",
              "</table>\n",
              "</div>"
            ],
            "text/plain": [
              "                 Role       School\n",
              "Name                              \n",
              "James          Grader     Business\n",
              "Kelly  Director of HR          NaN\n",
              "Mike              NaN          Law\n",
              "Sally  Course liasion  Engineering"
            ]
          },
          "metadata": {
            "tags": []
          },
          "execution_count": 61
        }
      ]
    },
    {
      "cell_type": "code",
      "metadata": {
        "id": "ErkwsJB_Wdl1",
        "colab": {
          "base_uri": "https://localhost:8080/",
          "height": 142
        },
        "outputId": "3563a6c2-c9af-4f7f-8441-51e9a58c60a1"
      },
      "source": [
        "# Inner = Intersección\n",
        "pd.merge(staff_df, student_df, how='inner', left_index=True, right_index=True)"
      ],
      "execution_count": null,
      "outputs": [
        {
          "output_type": "execute_result",
          "data": {
            "text/html": [
              "<div>\n",
              "<style scoped>\n",
              "    .dataframe tbody tr th:only-of-type {\n",
              "        vertical-align: middle;\n",
              "    }\n",
              "\n",
              "    .dataframe tbody tr th {\n",
              "        vertical-align: top;\n",
              "    }\n",
              "\n",
              "    .dataframe thead th {\n",
              "        text-align: right;\n",
              "    }\n",
              "</style>\n",
              "<table border=\"1\" class=\"dataframe\">\n",
              "  <thead>\n",
              "    <tr style=\"text-align: right;\">\n",
              "      <th></th>\n",
              "      <th>Role</th>\n",
              "      <th>School</th>\n",
              "    </tr>\n",
              "    <tr>\n",
              "      <th>Name</th>\n",
              "      <th></th>\n",
              "      <th></th>\n",
              "    </tr>\n",
              "  </thead>\n",
              "  <tbody>\n",
              "    <tr>\n",
              "      <th>Sally</th>\n",
              "      <td>Course liasion</td>\n",
              "      <td>Engineering</td>\n",
              "    </tr>\n",
              "    <tr>\n",
              "      <th>James</th>\n",
              "      <td>Grader</td>\n",
              "      <td>Business</td>\n",
              "    </tr>\n",
              "  </tbody>\n",
              "</table>\n",
              "</div>"
            ],
            "text/plain": [
              "                 Role       School\n",
              "Name                              \n",
              "Sally  Course liasion  Engineering\n",
              "James          Grader     Business"
            ]
          },
          "metadata": {
            "tags": []
          },
          "execution_count": 62
        }
      ]
    },
    {
      "cell_type": "code",
      "metadata": {
        "colab": {
          "base_uri": "https://localhost:8080/",
          "height": 173
        },
        "id": "ucxyhAZrIVc6",
        "outputId": "a0be10a3-e79b-4587-ebc7-07424c514287"
      },
      "source": [
        "# Right = Incorporas al df de la derecha las columnas de los elementos en común\n",
        "pd.merge(staff_df, student_df, how='right', left_index=True, right_index=True)"
      ],
      "execution_count": null,
      "outputs": [
        {
          "output_type": "execute_result",
          "data": {
            "text/html": [
              "<div>\n",
              "<style scoped>\n",
              "    .dataframe tbody tr th:only-of-type {\n",
              "        vertical-align: middle;\n",
              "    }\n",
              "\n",
              "    .dataframe tbody tr th {\n",
              "        vertical-align: top;\n",
              "    }\n",
              "\n",
              "    .dataframe thead th {\n",
              "        text-align: right;\n",
              "    }\n",
              "</style>\n",
              "<table border=\"1\" class=\"dataframe\">\n",
              "  <thead>\n",
              "    <tr style=\"text-align: right;\">\n",
              "      <th></th>\n",
              "      <th>Role</th>\n",
              "      <th>School</th>\n",
              "    </tr>\n",
              "    <tr>\n",
              "      <th>Name</th>\n",
              "      <th></th>\n",
              "      <th></th>\n",
              "    </tr>\n",
              "  </thead>\n",
              "  <tbody>\n",
              "    <tr>\n",
              "      <th>James</th>\n",
              "      <td>Grader</td>\n",
              "      <td>Business</td>\n",
              "    </tr>\n",
              "    <tr>\n",
              "      <th>Mike</th>\n",
              "      <td>NaN</td>\n",
              "      <td>Law</td>\n",
              "    </tr>\n",
              "    <tr>\n",
              "      <th>Sally</th>\n",
              "      <td>Course liasion</td>\n",
              "      <td>Engineering</td>\n",
              "    </tr>\n",
              "  </tbody>\n",
              "</table>\n",
              "</div>"
            ],
            "text/plain": [
              "                 Role       School\n",
              "Name                              \n",
              "James          Grader     Business\n",
              "Mike              NaN          Law\n",
              "Sally  Course liasion  Engineering"
            ]
          },
          "metadata": {
            "tags": []
          },
          "execution_count": 63
        }
      ]
    },
    {
      "cell_type": "markdown",
      "metadata": {
        "id": "eA1v5Q9tJAiL"
      },
      "source": [
        "#### Unir por columnas"
      ]
    },
    {
      "cell_type": "code",
      "metadata": {
        "colab": {
          "base_uri": "https://localhost:8080/"
        },
        "id": "cLbul3LJI-pQ",
        "outputId": "37d70bd8-22de-4ba4-e7a5-3abf8e76d309"
      },
      "source": [
        "staff_df = staff_df.reset_index()\n",
        "student_df = student_df.reset_index()\n",
        "\n",
        "pd.merge(staff_df, student_df, how='right', on='Name')"
      ],
      "execution_count": null,
      "outputs": [
        {
          "output_type": "execute_result",
          "data": {
            "text/html": [
              "<div>\n",
              "<style scoped>\n",
              "    .dataframe tbody tr th:only-of-type {\n",
              "        vertical-align: middle;\n",
              "    }\n",
              "\n",
              "    .dataframe tbody tr th {\n",
              "        vertical-align: top;\n",
              "    }\n",
              "\n",
              "    .dataframe thead th {\n",
              "        text-align: right;\n",
              "    }\n",
              "</style>\n",
              "<table border=\"1\" class=\"dataframe\">\n",
              "  <thead>\n",
              "    <tr style=\"text-align: right;\">\n",
              "      <th></th>\n",
              "      <th>Name</th>\n",
              "      <th>Role</th>\n",
              "      <th>School</th>\n",
              "    </tr>\n",
              "  </thead>\n",
              "  <tbody>\n",
              "    <tr>\n",
              "      <th>0</th>\n",
              "      <td>James</td>\n",
              "      <td>Grader</td>\n",
              "      <td>Business</td>\n",
              "    </tr>\n",
              "    <tr>\n",
              "      <th>1</th>\n",
              "      <td>Mike</td>\n",
              "      <td>NaN</td>\n",
              "      <td>Law</td>\n",
              "    </tr>\n",
              "    <tr>\n",
              "      <th>2</th>\n",
              "      <td>Sally</td>\n",
              "      <td>Course liasion</td>\n",
              "      <td>Engineering</td>\n",
              "    </tr>\n",
              "  </tbody>\n",
              "</table>\n",
              "</div>"
            ],
            "text/plain": [
              "    Name            Role       School\n",
              "0  James          Grader     Business\n",
              "1   Mike             NaN          Law\n",
              "2  Sally  Course liasion  Engineering"
            ]
          },
          "metadata": {
            "tags": []
          },
          "execution_count": 64
        }
      ]
    },
    {
      "cell_type": "markdown",
      "metadata": {
        "id": "S32Gkn17JT88"
      },
      "source": [
        "¿Qué ocurre si hay conflicto entre los df?"
      ]
    },
    {
      "cell_type": "code",
      "metadata": {
        "id": "flQ0ud09JHEF"
      },
      "source": [
        "staff_df = pd.DataFrame([{'Name': 'Kelly', 'Role': 'Director of HR', \n",
        "                          'Location': 'State Street'},\n",
        "                         {'Name': 'Sally', 'Role': 'Course liasion', \n",
        "                          'Location': 'Washington Avenue'},\n",
        "                         {'Name': 'James', 'Role': 'Grader', \n",
        "                          'Location': 'Washington Avenue'}])\n",
        "student_df = pd.DataFrame([{'Name': 'James', 'School': 'Business', \n",
        "                            'Location': '1024 Billiard Avenue'},\n",
        "                           {'Name': 'Mike', 'School': 'Law', \n",
        "                            'Location': 'Fraternity House #22'},\n",
        "                           {'Name': 'Sally', 'School': 'Engineering', \n",
        "                            'Location': '512 Wilson Crescent'}])"
      ],
      "execution_count": null,
      "outputs": []
    },
    {
      "cell_type": "code",
      "metadata": {
        "colab": {
          "base_uri": "https://localhost:8080/"
        },
        "id": "KCfB8_pBJTQA",
        "outputId": "7d7ac1a9-e536-4257-fd6c-aa67d046b6ee"
      },
      "source": [
        "pd.merge(staff_df, student_df, how='left', on='Name')"
      ],
      "execution_count": null,
      "outputs": [
        {
          "output_type": "execute_result",
          "data": {
            "text/html": [
              "<div>\n",
              "<style scoped>\n",
              "    .dataframe tbody tr th:only-of-type {\n",
              "        vertical-align: middle;\n",
              "    }\n",
              "\n",
              "    .dataframe tbody tr th {\n",
              "        vertical-align: top;\n",
              "    }\n",
              "\n",
              "    .dataframe thead th {\n",
              "        text-align: right;\n",
              "    }\n",
              "</style>\n",
              "<table border=\"1\" class=\"dataframe\">\n",
              "  <thead>\n",
              "    <tr style=\"text-align: right;\">\n",
              "      <th></th>\n",
              "      <th>Name</th>\n",
              "      <th>Role</th>\n",
              "      <th>Location_x</th>\n",
              "      <th>School</th>\n",
              "      <th>Location_y</th>\n",
              "    </tr>\n",
              "  </thead>\n",
              "  <tbody>\n",
              "    <tr>\n",
              "      <th>0</th>\n",
              "      <td>Kelly</td>\n",
              "      <td>Director of HR</td>\n",
              "      <td>State Street</td>\n",
              "      <td>NaN</td>\n",
              "      <td>NaN</td>\n",
              "    </tr>\n",
              "    <tr>\n",
              "      <th>1</th>\n",
              "      <td>Sally</td>\n",
              "      <td>Course liasion</td>\n",
              "      <td>Washington Avenue</td>\n",
              "      <td>Engineering</td>\n",
              "      <td>512 Wilson Crescent</td>\n",
              "    </tr>\n",
              "    <tr>\n",
              "      <th>2</th>\n",
              "      <td>James</td>\n",
              "      <td>Grader</td>\n",
              "      <td>Washington Avenue</td>\n",
              "      <td>Business</td>\n",
              "      <td>1024 Billiard Avenue</td>\n",
              "    </tr>\n",
              "  </tbody>\n",
              "</table>\n",
              "</div>"
            ],
            "text/plain": [
              "    Name            Role         Location_x       School            Location_y\n",
              "0  Kelly  Director of HR       State Street          NaN                   NaN\n",
              "1  Sally  Course liasion  Washington Avenue  Engineering   512 Wilson Crescent\n",
              "2  James          Grader  Washington Avenue     Business  1024 Billiard Avenue"
            ]
          },
          "metadata": {
            "tags": []
          },
          "execution_count": 66
        }
      ]
    },
    {
      "cell_type": "markdown",
      "metadata": {
        "id": "HD1m8tOrJmAe"
      },
      "source": [
        "#### Multi indexing"
      ]
    },
    {
      "cell_type": "code",
      "metadata": {
        "colab": {
          "base_uri": "https://localhost:8080/"
        },
        "id": "K28-_Sk_JctL",
        "outputId": "a1d32f4c-4d11-4ae8-b669-ff7b4460ce63"
      },
      "source": [
        "staff_df = pd.DataFrame([{'First Name': 'Kelly', 'Last Name': 'Desjardins', \n",
        "                          'Role': 'Director of HR'},\n",
        "                         {'First Name': 'Sally', 'Last Name': 'Brooks', \n",
        "                          'Role': 'Course liasion'},\n",
        "                         {'First Name': 'James', 'Last Name': 'Wilde', \n",
        "                          'Role': 'Grader'}])\n",
        "student_df = pd.DataFrame([{'First Name': 'James', 'Last Name': 'Hammond', \n",
        "                            'School': 'Business'},\n",
        "                           {'First Name': 'Mike', 'Last Name': 'Smith', \n",
        "                            'School': 'Law'},\n",
        "                           {'First Name': 'Sally', 'Last Name': 'Brooks', \n",
        "                            'School': 'Engineering'}])\n",
        "# As you see here, James Wilde and James Hammond don't match on both keys since they have different last\n",
        "# names. So we would expect that an inner join doesn't include these individuals in the output, and only Sally\n",
        "# Brooks will be retained.\n",
        "pd.merge(staff_df, student_df, how='inner', on=['First Name','Last Name'])"
      ],
      "execution_count": null,
      "outputs": [
        {
          "output_type": "execute_result",
          "data": {
            "text/html": [
              "<div>\n",
              "<style scoped>\n",
              "    .dataframe tbody tr th:only-of-type {\n",
              "        vertical-align: middle;\n",
              "    }\n",
              "\n",
              "    .dataframe tbody tr th {\n",
              "        vertical-align: top;\n",
              "    }\n",
              "\n",
              "    .dataframe thead th {\n",
              "        text-align: right;\n",
              "    }\n",
              "</style>\n",
              "<table border=\"1\" class=\"dataframe\">\n",
              "  <thead>\n",
              "    <tr style=\"text-align: right;\">\n",
              "      <th></th>\n",
              "      <th>First Name</th>\n",
              "      <th>Last Name</th>\n",
              "      <th>Role</th>\n",
              "      <th>School</th>\n",
              "    </tr>\n",
              "  </thead>\n",
              "  <tbody>\n",
              "    <tr>\n",
              "      <th>0</th>\n",
              "      <td>Sally</td>\n",
              "      <td>Brooks</td>\n",
              "      <td>Course liasion</td>\n",
              "      <td>Engineering</td>\n",
              "    </tr>\n",
              "  </tbody>\n",
              "</table>\n",
              "</div>"
            ],
            "text/plain": [
              "  First Name Last Name            Role       School\n",
              "0      Sally    Brooks  Course liasion  Engineering"
            ]
          },
          "metadata": {
            "tags": []
          },
          "execution_count": 67
        }
      ]
    },
    {
      "cell_type": "markdown",
      "metadata": {
        "id": "U17u5UBfJ7sy"
      },
      "source": [
        "#### Unir por filas (Concatenar)"
      ]
    },
    {
      "cell_type": "code",
      "metadata": {
        "colab": {
          "base_uri": "https://localhost:8080/"
        },
        "id": "lZZ8KEnNJtyM",
        "outputId": "39e3c946-74fa-459e-9333-bacd4175d63b"
      },
      "source": [
        "frames = [staff_df, student_df]\n",
        "pd.concat(frames)"
      ],
      "execution_count": null,
      "outputs": [
        {
          "output_type": "execute_result",
          "data": {
            "text/html": [
              "<div>\n",
              "<style scoped>\n",
              "    .dataframe tbody tr th:only-of-type {\n",
              "        vertical-align: middle;\n",
              "    }\n",
              "\n",
              "    .dataframe tbody tr th {\n",
              "        vertical-align: top;\n",
              "    }\n",
              "\n",
              "    .dataframe thead th {\n",
              "        text-align: right;\n",
              "    }\n",
              "</style>\n",
              "<table border=\"1\" class=\"dataframe\">\n",
              "  <thead>\n",
              "    <tr style=\"text-align: right;\">\n",
              "      <th></th>\n",
              "      <th>First Name</th>\n",
              "      <th>Last Name</th>\n",
              "      <th>Role</th>\n",
              "      <th>School</th>\n",
              "    </tr>\n",
              "  </thead>\n",
              "  <tbody>\n",
              "    <tr>\n",
              "      <th>0</th>\n",
              "      <td>Kelly</td>\n",
              "      <td>Desjardins</td>\n",
              "      <td>Director of HR</td>\n",
              "      <td>NaN</td>\n",
              "    </tr>\n",
              "    <tr>\n",
              "      <th>1</th>\n",
              "      <td>Sally</td>\n",
              "      <td>Brooks</td>\n",
              "      <td>Course liasion</td>\n",
              "      <td>NaN</td>\n",
              "    </tr>\n",
              "    <tr>\n",
              "      <th>2</th>\n",
              "      <td>James</td>\n",
              "      <td>Wilde</td>\n",
              "      <td>Grader</td>\n",
              "      <td>NaN</td>\n",
              "    </tr>\n",
              "    <tr>\n",
              "      <th>0</th>\n",
              "      <td>James</td>\n",
              "      <td>Hammond</td>\n",
              "      <td>NaN</td>\n",
              "      <td>Business</td>\n",
              "    </tr>\n",
              "    <tr>\n",
              "      <th>1</th>\n",
              "      <td>Mike</td>\n",
              "      <td>Smith</td>\n",
              "      <td>NaN</td>\n",
              "      <td>Law</td>\n",
              "    </tr>\n",
              "    <tr>\n",
              "      <th>2</th>\n",
              "      <td>Sally</td>\n",
              "      <td>Brooks</td>\n",
              "      <td>NaN</td>\n",
              "      <td>Engineering</td>\n",
              "    </tr>\n",
              "  </tbody>\n",
              "</table>\n",
              "</div>"
            ],
            "text/plain": [
              "  First Name   Last Name            Role       School\n",
              "0      Kelly  Desjardins  Director of HR          NaN\n",
              "1      Sally      Brooks  Course liasion          NaN\n",
              "2      James       Wilde          Grader          NaN\n",
              "0      James     Hammond             NaN     Business\n",
              "1       Mike       Smith             NaN          Law\n",
              "2      Sally      Brooks             NaN  Engineering"
            ]
          },
          "metadata": {
            "tags": []
          },
          "execution_count": 68
        }
      ]
    },
    {
      "cell_type": "code",
      "metadata": {
        "colab": {
          "base_uri": "https://localhost:8080/"
        },
        "id": "ux9J0hF3KZrE",
        "outputId": "2d3162bd-b93b-4864-8e26-213d4a83690b"
      },
      "source": [
        "pd.concat(frames, keys=[\"staff\", \"student\"])"
      ],
      "execution_count": null,
      "outputs": [
        {
          "output_type": "execute_result",
          "data": {
            "text/html": [
              "<div>\n",
              "<style scoped>\n",
              "    .dataframe tbody tr th:only-of-type {\n",
              "        vertical-align: middle;\n",
              "    }\n",
              "\n",
              "    .dataframe tbody tr th {\n",
              "        vertical-align: top;\n",
              "    }\n",
              "\n",
              "    .dataframe thead th {\n",
              "        text-align: right;\n",
              "    }\n",
              "</style>\n",
              "<table border=\"1\" class=\"dataframe\">\n",
              "  <thead>\n",
              "    <tr style=\"text-align: right;\">\n",
              "      <th></th>\n",
              "      <th></th>\n",
              "      <th>First Name</th>\n",
              "      <th>Last Name</th>\n",
              "      <th>Role</th>\n",
              "      <th>School</th>\n",
              "    </tr>\n",
              "  </thead>\n",
              "  <tbody>\n",
              "    <tr>\n",
              "      <th rowspan=\"3\" valign=\"top\">staff</th>\n",
              "      <th>0</th>\n",
              "      <td>Kelly</td>\n",
              "      <td>Desjardins</td>\n",
              "      <td>Director of HR</td>\n",
              "      <td>NaN</td>\n",
              "    </tr>\n",
              "    <tr>\n",
              "      <th>1</th>\n",
              "      <td>Sally</td>\n",
              "      <td>Brooks</td>\n",
              "      <td>Course liasion</td>\n",
              "      <td>NaN</td>\n",
              "    </tr>\n",
              "    <tr>\n",
              "      <th>2</th>\n",
              "      <td>James</td>\n",
              "      <td>Wilde</td>\n",
              "      <td>Grader</td>\n",
              "      <td>NaN</td>\n",
              "    </tr>\n",
              "    <tr>\n",
              "      <th rowspan=\"3\" valign=\"top\">student</th>\n",
              "      <th>0</th>\n",
              "      <td>James</td>\n",
              "      <td>Hammond</td>\n",
              "      <td>NaN</td>\n",
              "      <td>Business</td>\n",
              "    </tr>\n",
              "    <tr>\n",
              "      <th>1</th>\n",
              "      <td>Mike</td>\n",
              "      <td>Smith</td>\n",
              "      <td>NaN</td>\n",
              "      <td>Law</td>\n",
              "    </tr>\n",
              "    <tr>\n",
              "      <th>2</th>\n",
              "      <td>Sally</td>\n",
              "      <td>Brooks</td>\n",
              "      <td>NaN</td>\n",
              "      <td>Engineering</td>\n",
              "    </tr>\n",
              "  </tbody>\n",
              "</table>\n",
              "</div>"
            ],
            "text/plain": [
              "          First Name   Last Name            Role       School\n",
              "staff   0      Kelly  Desjardins  Director of HR          NaN\n",
              "        1      Sally      Brooks  Course liasion          NaN\n",
              "        2      James       Wilde          Grader          NaN\n",
              "student 0      James     Hammond             NaN     Business\n",
              "        1       Mike       Smith             NaN          Law\n",
              "        2      Sally      Brooks             NaN  Engineering"
            ]
          },
          "metadata": {
            "tags": []
          },
          "execution_count": 69
        }
      ]
    },
    {
      "cell_type": "markdown",
      "metadata": {
        "id": "Y26RQZpxy7Mn"
      },
      "source": [
        "### Pivot Tables"
      ]
    },
    {
      "cell_type": "code",
      "metadata": {
        "colab": {
          "base_uri": "https://localhost:8080/",
          "height": 241
        },
        "id": "KmwtObYdzBmg",
        "outputId": "eae909d4-2129-4f53-a8e8-ebf0e1995565"
      },
      "source": [
        "df_copy.head()"
      ],
      "execution_count": null,
      "outputs": [
        {
          "output_type": "execute_result",
          "data": {
            "text/html": [
              "<div>\n",
              "<style scoped>\n",
              "    .dataframe tbody tr th:only-of-type {\n",
              "        vertical-align: middle;\n",
              "    }\n",
              "\n",
              "    .dataframe tbody tr th {\n",
              "        vertical-align: top;\n",
              "    }\n",
              "\n",
              "    .dataframe thead th {\n",
              "        text-align: right;\n",
              "    }\n",
              "</style>\n",
              "<table border=\"1\" class=\"dataframe\">\n",
              "  <thead>\n",
              "    <tr style=\"text-align: right;\">\n",
              "      <th></th>\n",
              "      <th>MEDIAN_HOUSE_VALUE</th>\n",
              "      <th>LONGITUDE</th>\n",
              "      <th>LATITUDE</th>\n",
              "      <th>HOUSING_MEDIAN_AGE</th>\n",
              "      <th>TOTAL_ROOMS</th>\n",
              "      <th>TOTAL_BEDROOMS</th>\n",
              "      <th>POPULATION</th>\n",
              "      <th>HOUSEHOLDS</th>\n",
              "      <th>MEDIAN_INCOME</th>\n",
              "      <th>LONGITUDE_INT</th>\n",
              "      <th>TOTAL_ROOMS_MEAN</th>\n",
              "      <th>TOTAL_BEDROOMS_MEAN</th>\n",
              "      <th>ROOMS_DIFFER</th>\n",
              "      <th>BEDROOMS_DIFFER</th>\n",
              "      <th>PRICE LABEL</th>\n",
              "    </tr>\n",
              "  </thead>\n",
              "  <tbody>\n",
              "    <tr>\n",
              "      <th>0</th>\n",
              "      <td>66900.0</td>\n",
              "      <td>-114.31</td>\n",
              "      <td>34.19</td>\n",
              "      <td>15.0</td>\n",
              "      <td>5612.0</td>\n",
              "      <td>1283.0</td>\n",
              "      <td>1015.0</td>\n",
              "      <td>472.0</td>\n",
              "      <td>1.4936</td>\n",
              "      <td>-114</td>\n",
              "      <td>2013.291667</td>\n",
              "      <td>464.25</td>\n",
              "      <td>3598.708333</td>\n",
              "      <td>818.75</td>\n",
              "      <td>CHEAP</td>\n",
              "    </tr>\n",
              "    <tr>\n",
              "      <th>1</th>\n",
              "      <td>80100.0</td>\n",
              "      <td>-114.47</td>\n",
              "      <td>34.40</td>\n",
              "      <td>19.0</td>\n",
              "      <td>7650.0</td>\n",
              "      <td>1901.0</td>\n",
              "      <td>1129.0</td>\n",
              "      <td>463.0</td>\n",
              "      <td>1.8200</td>\n",
              "      <td>-114</td>\n",
              "      <td>2013.291667</td>\n",
              "      <td>464.25</td>\n",
              "      <td>5636.708333</td>\n",
              "      <td>1436.75</td>\n",
              "      <td>CHEAP</td>\n",
              "    </tr>\n",
              "    <tr>\n",
              "      <th>2</th>\n",
              "      <td>85700.0</td>\n",
              "      <td>-114.56</td>\n",
              "      <td>33.69</td>\n",
              "      <td>17.0</td>\n",
              "      <td>720.0</td>\n",
              "      <td>174.0</td>\n",
              "      <td>333.0</td>\n",
              "      <td>117.0</td>\n",
              "      <td>1.6509</td>\n",
              "      <td>-114</td>\n",
              "      <td>2013.291667</td>\n",
              "      <td>464.25</td>\n",
              "      <td>-1293.291667</td>\n",
              "      <td>-290.25</td>\n",
              "      <td>CHEAP</td>\n",
              "    </tr>\n",
              "    <tr>\n",
              "      <th>3</th>\n",
              "      <td>73400.0</td>\n",
              "      <td>-114.57</td>\n",
              "      <td>33.64</td>\n",
              "      <td>14.0</td>\n",
              "      <td>1501.0</td>\n",
              "      <td>337.0</td>\n",
              "      <td>515.0</td>\n",
              "      <td>226.0</td>\n",
              "      <td>3.1917</td>\n",
              "      <td>-114</td>\n",
              "      <td>2013.291667</td>\n",
              "      <td>464.25</td>\n",
              "      <td>-512.291667</td>\n",
              "      <td>-127.25</td>\n",
              "      <td>CHEAP</td>\n",
              "    </tr>\n",
              "    <tr>\n",
              "      <th>4</th>\n",
              "      <td>65500.0</td>\n",
              "      <td>-114.57</td>\n",
              "      <td>33.57</td>\n",
              "      <td>20.0</td>\n",
              "      <td>1454.0</td>\n",
              "      <td>326.0</td>\n",
              "      <td>624.0</td>\n",
              "      <td>262.0</td>\n",
              "      <td>1.9250</td>\n",
              "      <td>-114</td>\n",
              "      <td>2013.291667</td>\n",
              "      <td>464.25</td>\n",
              "      <td>-559.291667</td>\n",
              "      <td>-138.25</td>\n",
              "      <td>CHEAP</td>\n",
              "    </tr>\n",
              "  </tbody>\n",
              "</table>\n",
              "</div>"
            ],
            "text/plain": [
              "   MEDIAN_HOUSE_VALUE  LONGITUDE  ...  BEDROOMS_DIFFER  PRICE LABEL\n",
              "0             66900.0    -114.31  ...           818.75        CHEAP\n",
              "1             80100.0    -114.47  ...          1436.75        CHEAP\n",
              "2             85700.0    -114.56  ...          -290.25        CHEAP\n",
              "3             73400.0    -114.57  ...          -127.25        CHEAP\n",
              "4             65500.0    -114.57  ...          -138.25        CHEAP\n",
              "\n",
              "[5 rows x 15 columns]"
            ]
          },
          "metadata": {
            "tags": []
          },
          "execution_count": 70
        }
      ]
    },
    {
      "cell_type": "code",
      "metadata": {
        "colab": {
          "base_uri": "https://localhost:8080/",
          "height": 441
        },
        "id": "lxmam2M_0j0u",
        "outputId": "f5210ac3-3d00-4bff-d6de-4543cb074a50"
      },
      "source": [
        "pivot1 = pd.pivot_table(df_copy, index=\"LONGITUDE_INT\")\n",
        "pivot1"
      ],
      "execution_count": null,
      "outputs": [
        {
          "output_type": "execute_result",
          "data": {
            "text/html": [
              "<div>\n",
              "<style scoped>\n",
              "    .dataframe tbody tr th:only-of-type {\n",
              "        vertical-align: middle;\n",
              "    }\n",
              "\n",
              "    .dataframe tbody tr th {\n",
              "        vertical-align: top;\n",
              "    }\n",
              "\n",
              "    .dataframe thead th {\n",
              "        text-align: right;\n",
              "    }\n",
              "</style>\n",
              "<table border=\"1\" class=\"dataframe\">\n",
              "  <thead>\n",
              "    <tr style=\"text-align: right;\">\n",
              "      <th></th>\n",
              "      <th>BEDROOMS_DIFFER</th>\n",
              "      <th>HOUSEHOLDS</th>\n",
              "      <th>HOUSING_MEDIAN_AGE</th>\n",
              "      <th>LATITUDE</th>\n",
              "      <th>LONGITUDE</th>\n",
              "      <th>MEDIAN_HOUSE_VALUE</th>\n",
              "      <th>MEDIAN_INCOME</th>\n",
              "      <th>POPULATION</th>\n",
              "      <th>ROOMS_DIFFER</th>\n",
              "      <th>TOTAL_BEDROOMS</th>\n",
              "      <th>TOTAL_BEDROOMS_MEAN</th>\n",
              "      <th>TOTAL_ROOMS</th>\n",
              "      <th>TOTAL_ROOMS_MEAN</th>\n",
              "    </tr>\n",
              "    <tr>\n",
              "      <th>LONGITUDE_INT</th>\n",
              "      <th></th>\n",
              "      <th></th>\n",
              "      <th></th>\n",
              "      <th></th>\n",
              "      <th></th>\n",
              "      <th></th>\n",
              "      <th></th>\n",
              "      <th></th>\n",
              "      <th></th>\n",
              "      <th></th>\n",
              "      <th></th>\n",
              "      <th></th>\n",
              "      <th></th>\n",
              "    </tr>\n",
              "  </thead>\n",
              "  <tbody>\n",
              "    <tr>\n",
              "      <th>-124</th>\n",
              "      <td>2.124988e-15</td>\n",
              "      <td>387.887850</td>\n",
              "      <td>31.383178</td>\n",
              "      <td>40.867850</td>\n",
              "      <td>-124.137850</td>\n",
              "      <td>89160.747664</td>\n",
              "      <td>2.500128</td>\n",
              "      <td>1015.635514</td>\n",
              "      <td>-1.147493e-13</td>\n",
              "      <td>418.859813</td>\n",
              "      <td>418.859813</td>\n",
              "      <td>2023.523364</td>\n",
              "      <td>2023.523364</td>\n",
              "    </tr>\n",
              "    <tr>\n",
              "      <th>-123</th>\n",
              "      <td>-4.094653e-14</td>\n",
              "      <td>337.483051</td>\n",
              "      <td>25.440678</td>\n",
              "      <td>39.608559</td>\n",
              "      <td>-123.384576</td>\n",
              "      <td>116822.025424</td>\n",
              "      <td>2.621447</td>\n",
              "      <td>880.449153</td>\n",
              "      <td>-1.001986e-13</td>\n",
              "      <td>412.186441</td>\n",
              "      <td>412.186441</td>\n",
              "      <td>1928.669492</td>\n",
              "      <td>1928.669492</td>\n",
              "    </tr>\n",
              "    <tr>\n",
              "      <th>-122</th>\n",
              "      <td>1.236659e-13</td>\n",
              "      <td>475.251951</td>\n",
              "      <td>34.291287</td>\n",
              "      <td>37.982152</td>\n",
              "      <td>-122.306209</td>\n",
              "      <td>256152.038036</td>\n",
              "      <td>4.262448</td>\n",
              "      <td>1222.722692</td>\n",
              "      <td>6.532928e-13</td>\n",
              "      <td>503.608583</td>\n",
              "      <td>503.608583</td>\n",
              "      <td>2508.449935</td>\n",
              "      <td>2508.449935</td>\n",
              "    </tr>\n",
              "    <tr>\n",
              "      <th>-121</th>\n",
              "      <td>8.691387e-13</td>\n",
              "      <td>510.065309</td>\n",
              "      <td>25.479447</td>\n",
              "      <td>38.030561</td>\n",
              "      <td>-121.572862</td>\n",
              "      <td>176821.369574</td>\n",
              "      <td>3.806865</td>\n",
              "      <td>1456.060315</td>\n",
              "      <td>-3.287878e-13</td>\n",
              "      <td>539.003842</td>\n",
              "      <td>539.003842</td>\n",
              "      <td>2778.809835</td>\n",
              "      <td>2778.809835</td>\n",
              "    </tr>\n",
              "    <tr>\n",
              "      <th>-120</th>\n",
              "      <td>-1.173629e-13</td>\n",
              "      <td>399.373653</td>\n",
              "      <td>21.535329</td>\n",
              "      <td>37.216982</td>\n",
              "      <td>-120.561533</td>\n",
              "      <td>136085.034731</td>\n",
              "      <td>3.022577</td>\n",
              "      <td>1166.014371</td>\n",
              "      <td>7.929487e-13</td>\n",
              "      <td>466.867066</td>\n",
              "      <td>466.867066</td>\n",
              "      <td>2363.947305</td>\n",
              "      <td>2363.947305</td>\n",
              "    </tr>\n",
              "    <tr>\n",
              "      <th>-119</th>\n",
              "      <td>-5.036366e-13</td>\n",
              "      <td>444.114334</td>\n",
              "      <td>25.634812</td>\n",
              "      <td>35.882398</td>\n",
              "      <td>-119.482466</td>\n",
              "      <td>135925.958191</td>\n",
              "      <td>3.197257</td>\n",
              "      <td>1332.155290</td>\n",
              "      <td>2.731588e-12</td>\n",
              "      <td>476.966724</td>\n",
              "      <td>476.966724</td>\n",
              "      <td>2371.386519</td>\n",
              "      <td>2371.386519</td>\n",
              "    </tr>\n",
              "    <tr>\n",
              "      <th>-118</th>\n",
              "      <td>2.288204e-13</td>\n",
              "      <td>508.961823</td>\n",
              "      <td>33.469828</td>\n",
              "      <td>34.087092</td>\n",
              "      <td>-118.302445</td>\n",
              "      <td>240611.282430</td>\n",
              "      <td>3.927993</td>\n",
              "      <td>1477.280788</td>\n",
              "      <td>-2.112410e-11</td>\n",
              "      <td>541.318144</td>\n",
              "      <td>541.318144</td>\n",
              "      <td>2430.268678</td>\n",
              "      <td>2430.268678</td>\n",
              "    </tr>\n",
              "    <tr>\n",
              "      <th>-117</th>\n",
              "      <td>-6.112166e-13</td>\n",
              "      <td>547.862936</td>\n",
              "      <td>23.451473</td>\n",
              "      <td>33.591611</td>\n",
              "      <td>-117.514023</td>\n",
              "      <td>200755.020276</td>\n",
              "      <td>4.156972</td>\n",
              "      <td>1620.078940</td>\n",
              "      <td>-5.592569e-12</td>\n",
              "      <td>587.225737</td>\n",
              "      <td>587.225737</td>\n",
              "      <td>3020.812652</td>\n",
              "      <td>3020.812652</td>\n",
              "    </tr>\n",
              "    <tr>\n",
              "      <th>-116</th>\n",
              "      <td>-3.355642e-14</td>\n",
              "      <td>644.615776</td>\n",
              "      <td>18.389313</td>\n",
              "      <td>33.464835</td>\n",
              "      <td>-116.704860</td>\n",
              "      <td>141999.750636</td>\n",
              "      <td>3.381351</td>\n",
              "      <td>1768.455471</td>\n",
              "      <td>-6.595572e-14</td>\n",
              "      <td>820.442748</td>\n",
              "      <td>820.442748</td>\n",
              "      <td>4041.122137</td>\n",
              "      <td>4041.122137</td>\n",
              "    </tr>\n",
              "    <tr>\n",
              "      <th>-115</th>\n",
              "      <td>-9.004898e-15</td>\n",
              "      <td>283.485149</td>\n",
              "      <td>21.990099</td>\n",
              "      <td>32.999109</td>\n",
              "      <td>-115.577723</td>\n",
              "      <td>74520.792079</td>\n",
              "      <td>2.590327</td>\n",
              "      <td>970.336634</td>\n",
              "      <td>2.251225e-13</td>\n",
              "      <td>322.138614</td>\n",
              "      <td>322.138614</td>\n",
              "      <td>1436.287129</td>\n",
              "      <td>1436.287129</td>\n",
              "    </tr>\n",
              "    <tr>\n",
              "      <th>-114</th>\n",
              "      <td>0.000000e+00</td>\n",
              "      <td>321.625000</td>\n",
              "      <td>23.750000</td>\n",
              "      <td>33.870000</td>\n",
              "      <td>-114.628333</td>\n",
              "      <td>61704.166667</td>\n",
              "      <td>2.003083</td>\n",
              "      <td>878.000000</td>\n",
              "      <td>-1.894781e-14</td>\n",
              "      <td>464.250000</td>\n",
              "      <td>464.250000</td>\n",
              "      <td>2013.291667</td>\n",
              "      <td>2013.291667</td>\n",
              "    </tr>\n",
              "  </tbody>\n",
              "</table>\n",
              "</div>"
            ],
            "text/plain": [
              "               BEDROOMS_DIFFER  HOUSEHOLDS  ...  TOTAL_ROOMS  TOTAL_ROOMS_MEAN\n",
              "LONGITUDE_INT                               ...                               \n",
              "-124              2.124988e-15  387.887850  ...  2023.523364       2023.523364\n",
              "-123             -4.094653e-14  337.483051  ...  1928.669492       1928.669492\n",
              "-122              1.236659e-13  475.251951  ...  2508.449935       2508.449935\n",
              "-121              8.691387e-13  510.065309  ...  2778.809835       2778.809835\n",
              "-120             -1.173629e-13  399.373653  ...  2363.947305       2363.947305\n",
              "-119             -5.036366e-13  444.114334  ...  2371.386519       2371.386519\n",
              "-118              2.288204e-13  508.961823  ...  2430.268678       2430.268678\n",
              "-117             -6.112166e-13  547.862936  ...  3020.812652       3020.812652\n",
              "-116             -3.355642e-14  644.615776  ...  4041.122137       4041.122137\n",
              "-115             -9.004898e-15  283.485149  ...  1436.287129       1436.287129\n",
              "-114              0.000000e+00  321.625000  ...  2013.291667       2013.291667\n",
              "\n",
              "[11 rows x 13 columns]"
            ]
          },
          "metadata": {
            "tags": []
          },
          "execution_count": 71
        }
      ]
    },
    {
      "cell_type": "code",
      "metadata": {
        "colab": {
          "base_uri": "https://localhost:8080/",
          "height": 173
        },
        "id": "ZUFapsOl04iH",
        "outputId": "0a92c44e-186c-49dd-d48f-126c266bb62d"
      },
      "source": [
        "pivot2 = pd.pivot_table(df_copy, index=\"LONGITUDE_INT\", values=\"POPULATION\")\n",
        "pivot2.head(3)"
      ],
      "execution_count": null,
      "outputs": [
        {
          "output_type": "execute_result",
          "data": {
            "text/html": [
              "<div>\n",
              "<style scoped>\n",
              "    .dataframe tbody tr th:only-of-type {\n",
              "        vertical-align: middle;\n",
              "    }\n",
              "\n",
              "    .dataframe tbody tr th {\n",
              "        vertical-align: top;\n",
              "    }\n",
              "\n",
              "    .dataframe thead th {\n",
              "        text-align: right;\n",
              "    }\n",
              "</style>\n",
              "<table border=\"1\" class=\"dataframe\">\n",
              "  <thead>\n",
              "    <tr style=\"text-align: right;\">\n",
              "      <th></th>\n",
              "      <th>POPULATION</th>\n",
              "    </tr>\n",
              "    <tr>\n",
              "      <th>LONGITUDE_INT</th>\n",
              "      <th></th>\n",
              "    </tr>\n",
              "  </thead>\n",
              "  <tbody>\n",
              "    <tr>\n",
              "      <th>-124</th>\n",
              "      <td>1015.635514</td>\n",
              "    </tr>\n",
              "    <tr>\n",
              "      <th>-123</th>\n",
              "      <td>880.449153</td>\n",
              "    </tr>\n",
              "    <tr>\n",
              "      <th>-122</th>\n",
              "      <td>1222.722692</td>\n",
              "    </tr>\n",
              "  </tbody>\n",
              "</table>\n",
              "</div>"
            ],
            "text/plain": [
              "                POPULATION\n",
              "LONGITUDE_INT             \n",
              "-124           1015.635514\n",
              "-123            880.449153\n",
              "-122           1222.722692"
            ]
          },
          "metadata": {
            "tags": []
          },
          "execution_count": 72
        }
      ]
    },
    {
      "cell_type": "code",
      "metadata": {
        "colab": {
          "base_uri": "https://localhost:8080/",
          "height": 173
        },
        "id": "9SOEfjYF0ymb",
        "outputId": "b91c2312-2b2f-44e6-f3f7-cb1e2a72e472"
      },
      "source": [
        "# No obstante, esto nos devuelve la media por defecto. Si queremos que utilice \n",
        "# otra función debemos indicarlo\n",
        "pivot3 = pd.pivot_table(df_copy, index=\"LONGITUDE_INT\", values=\"POPULATION\", aggfunc=\"sum\")\n",
        "pivot3.head(3)"
      ],
      "execution_count": null,
      "outputs": [
        {
          "output_type": "execute_result",
          "data": {
            "text/html": [
              "<div>\n",
              "<style scoped>\n",
              "    .dataframe tbody tr th:only-of-type {\n",
              "        vertical-align: middle;\n",
              "    }\n",
              "\n",
              "    .dataframe tbody tr th {\n",
              "        vertical-align: top;\n",
              "    }\n",
              "\n",
              "    .dataframe thead th {\n",
              "        text-align: right;\n",
              "    }\n",
              "</style>\n",
              "<table border=\"1\" class=\"dataframe\">\n",
              "  <thead>\n",
              "    <tr style=\"text-align: right;\">\n",
              "      <th></th>\n",
              "      <th>POPULATION</th>\n",
              "    </tr>\n",
              "    <tr>\n",
              "      <th>LONGITUDE_INT</th>\n",
              "      <th></th>\n",
              "    </tr>\n",
              "  </thead>\n",
              "  <tbody>\n",
              "    <tr>\n",
              "      <th>-124</th>\n",
              "      <td>108673.0</td>\n",
              "    </tr>\n",
              "    <tr>\n",
              "      <th>-123</th>\n",
              "      <td>103893.0</td>\n",
              "    </tr>\n",
              "    <tr>\n",
              "      <th>-122</th>\n",
              "      <td>3761095.0</td>\n",
              "    </tr>\n",
              "  </tbody>\n",
              "</table>\n",
              "</div>"
            ],
            "text/plain": [
              "               POPULATION\n",
              "LONGITUDE_INT            \n",
              "-124             108673.0\n",
              "-123             103893.0\n",
              "-122            3761095.0"
            ]
          },
          "metadata": {
            "tags": []
          },
          "execution_count": 73
        }
      ]
    },
    {
      "cell_type": "code",
      "metadata": {
        "colab": {
          "base_uri": "https://localhost:8080/",
          "height": 204
        },
        "id": "wDEpStFE1vZh",
        "outputId": "81d1d596-b46e-467e-9683-1eb15eacca26"
      },
      "source": [
        "pivot4 = pd.pivot_table(df_copy, index=\"LONGITUDE_INT\", values=\"POPULATION\", \n",
        "                        aggfunc=[\"sum\", \"mean\"])\n",
        "pivot4.head(3)"
      ],
      "execution_count": null,
      "outputs": [
        {
          "output_type": "execute_result",
          "data": {
            "text/html": [
              "<div>\n",
              "<style scoped>\n",
              "    .dataframe tbody tr th:only-of-type {\n",
              "        vertical-align: middle;\n",
              "    }\n",
              "\n",
              "    .dataframe tbody tr th {\n",
              "        vertical-align: top;\n",
              "    }\n",
              "\n",
              "    .dataframe thead tr th {\n",
              "        text-align: left;\n",
              "    }\n",
              "\n",
              "    .dataframe thead tr:last-of-type th {\n",
              "        text-align: right;\n",
              "    }\n",
              "</style>\n",
              "<table border=\"1\" class=\"dataframe\">\n",
              "  <thead>\n",
              "    <tr>\n",
              "      <th></th>\n",
              "      <th>sum</th>\n",
              "      <th>mean</th>\n",
              "    </tr>\n",
              "    <tr>\n",
              "      <th></th>\n",
              "      <th>POPULATION</th>\n",
              "      <th>POPULATION</th>\n",
              "    </tr>\n",
              "    <tr>\n",
              "      <th>LONGITUDE_INT</th>\n",
              "      <th></th>\n",
              "      <th></th>\n",
              "    </tr>\n",
              "  </thead>\n",
              "  <tbody>\n",
              "    <tr>\n",
              "      <th>-124</th>\n",
              "      <td>108673.0</td>\n",
              "      <td>1015.635514</td>\n",
              "    </tr>\n",
              "    <tr>\n",
              "      <th>-123</th>\n",
              "      <td>103893.0</td>\n",
              "      <td>880.449153</td>\n",
              "    </tr>\n",
              "    <tr>\n",
              "      <th>-122</th>\n",
              "      <td>3761095.0</td>\n",
              "      <td>1222.722692</td>\n",
              "    </tr>\n",
              "  </tbody>\n",
              "</table>\n",
              "</div>"
            ],
            "text/plain": [
              "                     sum         mean\n",
              "              POPULATION   POPULATION\n",
              "LONGITUDE_INT                        \n",
              "-124            108673.0  1015.635514\n",
              "-123            103893.0   880.449153\n",
              "-122           3761095.0  1222.722692"
            ]
          },
          "metadata": {
            "tags": []
          },
          "execution_count": 74
        }
      ]
    },
    {
      "cell_type": "code",
      "metadata": {
        "colab": {
          "base_uri": "https://localhost:8080/",
          "height": 266
        },
        "id": "8qG7WeMR2FQI",
        "outputId": "816c855f-72e2-4922-dc02-df426fba43ee"
      },
      "source": [
        "pivot5 = pd.pivot_table(df_copy, index=\"LONGITUDE_INT\", values=\"POPULATION\", \n",
        "                        aggfunc=[\"sum\", \"mean\"], columns=\"PRICE LABEL\")\n",
        "pivot5.head()"
      ],
      "execution_count": null,
      "outputs": [
        {
          "output_type": "execute_result",
          "data": {
            "text/html": [
              "<div>\n",
              "<style scoped>\n",
              "    .dataframe tbody tr th:only-of-type {\n",
              "        vertical-align: middle;\n",
              "    }\n",
              "\n",
              "    .dataframe tbody tr th {\n",
              "        vertical-align: top;\n",
              "    }\n",
              "\n",
              "    .dataframe thead tr th {\n",
              "        text-align: left;\n",
              "    }\n",
              "\n",
              "    .dataframe thead tr:last-of-type th {\n",
              "        text-align: right;\n",
              "    }\n",
              "</style>\n",
              "<table border=\"1\" class=\"dataframe\">\n",
              "  <thead>\n",
              "    <tr>\n",
              "      <th></th>\n",
              "      <th colspan=\"2\" halign=\"left\">sum</th>\n",
              "      <th colspan=\"2\" halign=\"left\">mean</th>\n",
              "    </tr>\n",
              "    <tr>\n",
              "      <th>PRICE LABEL</th>\n",
              "      <th>CHEAP</th>\n",
              "      <th>EXPENSIVE</th>\n",
              "      <th>CHEAP</th>\n",
              "      <th>EXPENSIVE</th>\n",
              "    </tr>\n",
              "    <tr>\n",
              "      <th>LONGITUDE_INT</th>\n",
              "      <th></th>\n",
              "      <th></th>\n",
              "      <th></th>\n",
              "      <th></th>\n",
              "    </tr>\n",
              "  </thead>\n",
              "  <tbody>\n",
              "    <tr>\n",
              "      <th>-124</th>\n",
              "      <td>108673.0</td>\n",
              "      <td>NaN</td>\n",
              "      <td>1015.635514</td>\n",
              "      <td>NaN</td>\n",
              "    </tr>\n",
              "    <tr>\n",
              "      <th>-123</th>\n",
              "      <td>96952.0</td>\n",
              "      <td>6941.0</td>\n",
              "      <td>889.467890</td>\n",
              "      <td>771.222222</td>\n",
              "    </tr>\n",
              "    <tr>\n",
              "      <th>-122</th>\n",
              "      <td>1426543.0</td>\n",
              "      <td>2334552.0</td>\n",
              "      <td>1135.782643</td>\n",
              "      <td>1282.720879</td>\n",
              "    </tr>\n",
              "    <tr>\n",
              "      <th>-121</th>\n",
              "      <td>2528721.0</td>\n",
              "      <td>1261404.0</td>\n",
              "      <td>1428.655932</td>\n",
              "      <td>1514.290516</td>\n",
              "    </tr>\n",
              "    <tr>\n",
              "      <th>-120</th>\n",
              "      <td>842532.0</td>\n",
              "      <td>131090.0</td>\n",
              "      <td>1149.429741</td>\n",
              "      <td>1285.196078</td>\n",
              "    </tr>\n",
              "  </tbody>\n",
              "</table>\n",
              "</div>"
            ],
            "text/plain": [
              "                     sum                    mean             \n",
              "PRICE LABEL        CHEAP  EXPENSIVE        CHEAP    EXPENSIVE\n",
              "LONGITUDE_INT                                                \n",
              "-124            108673.0        NaN  1015.635514          NaN\n",
              "-123             96952.0     6941.0   889.467890   771.222222\n",
              "-122           1426543.0  2334552.0  1135.782643  1282.720879\n",
              "-121           2528721.0  1261404.0  1428.655932  1514.290516\n",
              "-120            842532.0   131090.0  1149.429741  1285.196078"
            ]
          },
          "metadata": {
            "tags": []
          },
          "execution_count": 75
        }
      ]
    },
    {
      "cell_type": "code",
      "metadata": {
        "colab": {
          "base_uri": "https://localhost:8080/",
          "height": 235
        },
        "id": "DJ5tKRJC608C",
        "outputId": "4cd6da19-ebd5-4a41-d85e-8e7fd2155481"
      },
      "source": [
        "pivot5.stack().head()"
      ],
      "execution_count": null,
      "outputs": [
        {
          "output_type": "execute_result",
          "data": {
            "text/html": [
              "<div>\n",
              "<style scoped>\n",
              "    .dataframe tbody tr th:only-of-type {\n",
              "        vertical-align: middle;\n",
              "    }\n",
              "\n",
              "    .dataframe tbody tr th {\n",
              "        vertical-align: top;\n",
              "    }\n",
              "\n",
              "    .dataframe thead th {\n",
              "        text-align: right;\n",
              "    }\n",
              "</style>\n",
              "<table border=\"1\" class=\"dataframe\">\n",
              "  <thead>\n",
              "    <tr style=\"text-align: right;\">\n",
              "      <th></th>\n",
              "      <th></th>\n",
              "      <th>sum</th>\n",
              "      <th>mean</th>\n",
              "    </tr>\n",
              "    <tr>\n",
              "      <th>LONGITUDE_INT</th>\n",
              "      <th>PRICE LABEL</th>\n",
              "      <th></th>\n",
              "      <th></th>\n",
              "    </tr>\n",
              "  </thead>\n",
              "  <tbody>\n",
              "    <tr>\n",
              "      <th>-124</th>\n",
              "      <th>CHEAP</th>\n",
              "      <td>108673.0</td>\n",
              "      <td>1015.635514</td>\n",
              "    </tr>\n",
              "    <tr>\n",
              "      <th rowspan=\"2\" valign=\"top\">-123</th>\n",
              "      <th>CHEAP</th>\n",
              "      <td>96952.0</td>\n",
              "      <td>889.467890</td>\n",
              "    </tr>\n",
              "    <tr>\n",
              "      <th>EXPENSIVE</th>\n",
              "      <td>6941.0</td>\n",
              "      <td>771.222222</td>\n",
              "    </tr>\n",
              "    <tr>\n",
              "      <th rowspan=\"2\" valign=\"top\">-122</th>\n",
              "      <th>CHEAP</th>\n",
              "      <td>1426543.0</td>\n",
              "      <td>1135.782643</td>\n",
              "    </tr>\n",
              "    <tr>\n",
              "      <th>EXPENSIVE</th>\n",
              "      <td>2334552.0</td>\n",
              "      <td>1282.720879</td>\n",
              "    </tr>\n",
              "  </tbody>\n",
              "</table>\n",
              "</div>"
            ],
            "text/plain": [
              "                                 sum         mean\n",
              "LONGITUDE_INT PRICE LABEL                        \n",
              "-124          CHEAP         108673.0  1015.635514\n",
              "-123          CHEAP          96952.0   889.467890\n",
              "              EXPENSIVE       6941.0   771.222222\n",
              "-122          CHEAP        1426543.0  1135.782643\n",
              "              EXPENSIVE    2334552.0  1282.720879"
            ]
          },
          "metadata": {
            "tags": []
          },
          "execution_count": 76
        }
      ]
    },
    {
      "cell_type": "code",
      "metadata": {
        "colab": {
          "base_uri": "https://localhost:8080/",
          "height": 266
        },
        "id": "LMYp0DXa7ClO",
        "outputId": "2625b322-515b-45db-c272-ce11d135cb7b"
      },
      "source": [
        "pivot6 = pd.pivot_table(df_copy, index=\"LONGITUDE_INT\", values=\"POPULATION\", \n",
        "                        aggfunc=[\"sum\", \"mean\"], columns=\"PRICE LABEL\", \n",
        "                        fill_value=0, margins=True)\n",
        "pivot6.head()"
      ],
      "execution_count": null,
      "outputs": [
        {
          "output_type": "execute_result",
          "data": {
            "text/html": [
              "<div>\n",
              "<style scoped>\n",
              "    .dataframe tbody tr th:only-of-type {\n",
              "        vertical-align: middle;\n",
              "    }\n",
              "\n",
              "    .dataframe tbody tr th {\n",
              "        vertical-align: top;\n",
              "    }\n",
              "\n",
              "    .dataframe thead tr th {\n",
              "        text-align: left;\n",
              "    }\n",
              "\n",
              "    .dataframe thead tr:last-of-type th {\n",
              "        text-align: right;\n",
              "    }\n",
              "</style>\n",
              "<table border=\"1\" class=\"dataframe\">\n",
              "  <thead>\n",
              "    <tr>\n",
              "      <th></th>\n",
              "      <th colspan=\"3\" halign=\"left\">sum</th>\n",
              "      <th colspan=\"3\" halign=\"left\">mean</th>\n",
              "    </tr>\n",
              "    <tr>\n",
              "      <th>PRICE LABEL</th>\n",
              "      <th>CHEAP</th>\n",
              "      <th>EXPENSIVE</th>\n",
              "      <th>All</th>\n",
              "      <th>CHEAP</th>\n",
              "      <th>EXPENSIVE</th>\n",
              "      <th>All</th>\n",
              "    </tr>\n",
              "    <tr>\n",
              "      <th>LONGITUDE_INT</th>\n",
              "      <th></th>\n",
              "      <th></th>\n",
              "      <th></th>\n",
              "      <th></th>\n",
              "      <th></th>\n",
              "      <th></th>\n",
              "    </tr>\n",
              "  </thead>\n",
              "  <tbody>\n",
              "    <tr>\n",
              "      <th>-124</th>\n",
              "      <td>108673</td>\n",
              "      <td>0</td>\n",
              "      <td>108673.0</td>\n",
              "      <td>1015.635514</td>\n",
              "      <td>0.000000</td>\n",
              "      <td>1015.635514</td>\n",
              "    </tr>\n",
              "    <tr>\n",
              "      <th>-123</th>\n",
              "      <td>96952</td>\n",
              "      <td>6941</td>\n",
              "      <td>103893.0</td>\n",
              "      <td>889.467890</td>\n",
              "      <td>771.222222</td>\n",
              "      <td>880.449153</td>\n",
              "    </tr>\n",
              "    <tr>\n",
              "      <th>-122</th>\n",
              "      <td>1426543</td>\n",
              "      <td>2334552</td>\n",
              "      <td>3761095.0</td>\n",
              "      <td>1135.782643</td>\n",
              "      <td>1282.720879</td>\n",
              "      <td>1222.722692</td>\n",
              "    </tr>\n",
              "    <tr>\n",
              "      <th>-121</th>\n",
              "      <td>2528721</td>\n",
              "      <td>1261404</td>\n",
              "      <td>3790125.0</td>\n",
              "      <td>1428.655932</td>\n",
              "      <td>1514.290516</td>\n",
              "      <td>1456.060315</td>\n",
              "    </tr>\n",
              "    <tr>\n",
              "      <th>-120</th>\n",
              "      <td>842532</td>\n",
              "      <td>131090</td>\n",
              "      <td>973622.0</td>\n",
              "      <td>1149.429741</td>\n",
              "      <td>1285.196078</td>\n",
              "      <td>1166.014371</td>\n",
              "    </tr>\n",
              "  </tbody>\n",
              "</table>\n",
              "</div>"
            ],
            "text/plain": [
              "                   sum            ...         mean             \n",
              "PRICE LABEL      CHEAP EXPENSIVE  ...    EXPENSIVE          All\n",
              "LONGITUDE_INT                     ...                          \n",
              "-124            108673         0  ...     0.000000  1015.635514\n",
              "-123             96952      6941  ...   771.222222   880.449153\n",
              "-122           1426543   2334552  ...  1282.720879  1222.722692\n",
              "-121           2528721   1261404  ...  1514.290516  1456.060315\n",
              "-120            842532    131090  ...  1285.196078  1166.014371\n",
              "\n",
              "[5 rows x 6 columns]"
            ]
          },
          "metadata": {
            "tags": []
          },
          "execution_count": 77
        }
      ]
    },
    {
      "cell_type": "markdown",
      "metadata": {
        "id": "LaIYMFRRaHcc"
      },
      "source": [
        "### Trabajar con fechas"
      ]
    },
    {
      "cell_type": "markdown",
      "metadata": {
        "id": "BVCWa5bcaR68"
      },
      "source": [
        "#### Timestamp"
      ]
    },
    {
      "cell_type": "code",
      "metadata": {
        "colab": {
          "base_uri": "https://localhost:8080/"
        },
        "id": "DHvfWdx6aRaK",
        "outputId": "92a01b66-b077-428d-b70b-f18ecdf6585c"
      },
      "source": [
        "# Pandas has four main time related classes. Timestamp, DatetimeIndex, Period, and PeriodIndex. First, let's\n",
        "# look at Timestamp. It represents a single timestamp and associates values with points in time.\n",
        "\n",
        "# For example, let's create a timestamp using a string 9/1/2019 10:05AM, and here we have our timestamp.\n",
        "# Timestamp is interchangeable with Python's datetime in most cases.\n",
        "pd.Timestamp('9/1/2019 10:05AM')"
      ],
      "execution_count": null,
      "outputs": [
        {
          "output_type": "execute_result",
          "data": {
            "text/plain": [
              "Timestamp('2019-09-01 10:05:00')"
            ]
          },
          "metadata": {
            "tags": []
          },
          "execution_count": 78
        }
      ]
    },
    {
      "cell_type": "code",
      "metadata": {
        "colab": {
          "base_uri": "https://localhost:8080/"
        },
        "id": "YOw9R1q9aRcs",
        "outputId": "32bf47ac-6d26-45bc-b860-c77b26bb959f"
      },
      "source": [
        "# We can also create a timestamp by passing multiple parameters such as year, month, date, hour,\n",
        "# minute, separately\n",
        "pd.Timestamp(2019, 12, 20, 0, 0)"
      ],
      "execution_count": null,
      "outputs": [
        {
          "output_type": "execute_result",
          "data": {
            "text/plain": [
              "Timestamp('2019-12-20 00:00:00')"
            ]
          },
          "metadata": {
            "tags": []
          },
          "execution_count": 79
        }
      ]
    },
    {
      "cell_type": "code",
      "metadata": {
        "colab": {
          "base_uri": "https://localhost:8080/"
        },
        "id": "gvyNUCm_aRe7",
        "outputId": "f5bf993d-dd25-42db-a521-4ec7e68b91c0"
      },
      "source": [
        "# Timestamp also has some useful attributes, such as isoweekday(), which shows the weekday of the timestamp\n",
        "# note that 1 represents Monday and 7 represents Sunday\n",
        "pd.Timestamp(2019, 12, 20, 0, 0).isoweekday()"
      ],
      "execution_count": null,
      "outputs": [
        {
          "output_type": "execute_result",
          "data": {
            "text/plain": [
              "5"
            ]
          },
          "metadata": {
            "tags": []
          },
          "execution_count": 80
        }
      ]
    },
    {
      "cell_type": "code",
      "metadata": {
        "colab": {
          "base_uri": "https://localhost:8080/"
        },
        "id": "vXS_RugqaRg0",
        "outputId": "d2dd2df5-3af7-4dd0-ad5a-3b33fa05f26a"
      },
      "source": [
        "# You can find extract the specific year, month, day, hour, minute, second from a timestamp\n",
        "pd.Timestamp(2019, 12, 20, 5, 2,23).second"
      ],
      "execution_count": null,
      "outputs": [
        {
          "output_type": "execute_result",
          "data": {
            "text/plain": [
              "23"
            ]
          },
          "metadata": {
            "tags": []
          },
          "execution_count": 81
        }
      ]
    },
    {
      "cell_type": "markdown",
      "metadata": {
        "id": "FSMfWVXcai4J"
      },
      "source": [
        "#### Period"
      ]
    },
    {
      "cell_type": "code",
      "metadata": {
        "colab": {
          "base_uri": "https://localhost:8080/"
        },
        "id": "30Dh-p0HaiWI",
        "outputId": "44dd5c92-75a5-4dff-f077-929724542a0e"
      },
      "source": [
        "pd.Period('1/2016')"
      ],
      "execution_count": null,
      "outputs": [
        {
          "output_type": "execute_result",
          "data": {
            "text/plain": [
              "Period('2016-01', 'M')"
            ]
          },
          "metadata": {
            "tags": []
          },
          "execution_count": 82
        }
      ]
    },
    {
      "cell_type": "code",
      "metadata": {
        "colab": {
          "base_uri": "https://localhost:8080/"
        },
        "id": "8recEF33aiYa",
        "outputId": "df7c6c70-31d8-4cc6-c3b4-addb37355119"
      },
      "source": [
        "# You'll notice when we print that out that the granularity of the period is M for month, since that was the\n",
        "# finest grained piece we provided. Here's an example of a period that is March 5th, 2016.\n",
        "pd.Period('3/5/2016')"
      ],
      "execution_count": null,
      "outputs": [
        {
          "output_type": "execute_result",
          "data": {
            "text/plain": [
              "Period('2016-03-05', 'D')"
            ]
          },
          "metadata": {
            "tags": []
          },
          "execution_count": 83
        }
      ]
    },
    {
      "cell_type": "code",
      "metadata": {
        "colab": {
          "base_uri": "https://localhost:8080/"
        },
        "id": "CDfJeh6oaia1",
        "outputId": "6d922373-9be5-4b28-e28f-bd96e0010b95"
      },
      "source": [
        "# Period objects represent the full timespan that you specify. Arithmetic on period is very easy and\n",
        "# intuitive, for instance, if we want to find out 5 months after January 2016, we simply plus 5\n",
        "pd.Period('1/2016') + 5"
      ],
      "execution_count": null,
      "outputs": [
        {
          "output_type": "execute_result",
          "data": {
            "text/plain": [
              "Period('2016-06', 'M')"
            ]
          },
          "metadata": {
            "tags": []
          },
          "execution_count": 84
        }
      ]
    },
    {
      "cell_type": "code",
      "metadata": {
        "colab": {
          "base_uri": "https://localhost:8080/"
        },
        "id": "xKJUUjqXaic0",
        "outputId": "66d52b82-0d4f-4c33-867b-6fe75f053b9d"
      },
      "source": [
        "# From the result, you can see we get June 2016. If we want to find out two days before March 5th 2016, we\n",
        "# simply subtract 2\n",
        "pd.Period('3/5/2016') - 2"
      ],
      "execution_count": null,
      "outputs": [
        {
          "output_type": "execute_result",
          "data": {
            "text/plain": [
              "Period('2016-03-03', 'D')"
            ]
          },
          "metadata": {
            "tags": []
          },
          "execution_count": 85
        }
      ]
    },
    {
      "cell_type": "markdown",
      "metadata": {
        "id": "HGByPcbvaygI"
      },
      "source": [
        "The key here is that the period object encapsulates the granularity for arithmetic"
      ]
    },
    {
      "cell_type": "markdown",
      "metadata": {
        "id": "ZbmDT03Ca1Gc"
      },
      "source": [
        "#### DatetimeIndex and PeriodIndex"
      ]
    },
    {
      "cell_type": "code",
      "metadata": {
        "colab": {
          "base_uri": "https://localhost:8080/"
        },
        "id": "IDC2tgP-a0dQ",
        "outputId": "ccfcd6a9-b7dd-46a3-e9a4-900741d3a1bc"
      },
      "source": [
        "# The index of a timestamp is DatetimeIndex. When we look at the series, each\n",
        "# Timestamp is the index and has a value associated with it, in this case, a, b and c.\n",
        "\n",
        "t1 = pd.Series(list('abc'), [pd.Timestamp('2016-09-01'), pd.Timestamp('2016-09-02'), \n",
        "                             pd.Timestamp('2016-09-03')])\n",
        "t1"
      ],
      "execution_count": null,
      "outputs": [
        {
          "output_type": "execute_result",
          "data": {
            "text/plain": [
              "2016-09-01    a\n",
              "2016-09-02    b\n",
              "2016-09-03    c\n",
              "dtype: object"
            ]
          },
          "metadata": {
            "tags": []
          },
          "execution_count": 86
        }
      ]
    },
    {
      "cell_type": "code",
      "metadata": {
        "colab": {
          "base_uri": "https://localhost:8080/"
        },
        "id": "FNG35T7Ra0f7",
        "outputId": "9e2378da-adb7-4801-db93-26c96b2955bb"
      },
      "source": [
        "# Looking at the type of our series index, we see that it's DatetimeIndex.\n",
        "type(t1.index)"
      ],
      "execution_count": null,
      "outputs": [
        {
          "output_type": "execute_result",
          "data": {
            "text/plain": [
              "pandas.core.indexes.datetimes.DatetimeIndex"
            ]
          },
          "metadata": {
            "tags": []
          },
          "execution_count": 87
        }
      ]
    },
    {
      "cell_type": "code",
      "metadata": {
        "colab": {
          "base_uri": "https://localhost:8080/"
        },
        "id": "nWVYR6uBa0hb",
        "outputId": "7dfe3d8f-8593-421e-f916-e0267c567042"
      },
      "source": [
        "# Similarly, we can create a period-based index as well. \n",
        "t2 = pd.Series(list('def'), [pd.Period('2016-09'), pd.Period('2016-10'), \n",
        "                             pd.Period('2016-11')])\n",
        "t2"
      ],
      "execution_count": null,
      "outputs": [
        {
          "output_type": "execute_result",
          "data": {
            "text/plain": [
              "2016-09    d\n",
              "2016-10    e\n",
              "2016-11    f\n",
              "Freq: M, dtype: object"
            ]
          },
          "metadata": {
            "tags": []
          },
          "execution_count": 88
        }
      ]
    },
    {
      "cell_type": "markdown",
      "metadata": {
        "id": "AUG9SNR-bK0g"
      },
      "source": [
        "#### Converting to Datetime"
      ]
    },
    {
      "cell_type": "code",
      "metadata": {
        "colab": {
          "base_uri": "https://localhost:8080/"
        },
        "id": "K_3tEBSYbJIK",
        "outputId": "7542d164-0c35-4c60-f374-81b6a00472f3"
      },
      "source": [
        "d1 = ['2 June 2013', 'Aug 29, 2014', '2015-06-26', '7/12/16']\n",
        "\n",
        "ts3 = pd.DataFrame(np.random.randint(10, 100, (4,2)), index=d1, \n",
        "                   columns=list('ab'))\n",
        "ts3"
      ],
      "execution_count": null,
      "outputs": [
        {
          "output_type": "execute_result",
          "data": {
            "text/html": [
              "<div>\n",
              "<style scoped>\n",
              "    .dataframe tbody tr th:only-of-type {\n",
              "        vertical-align: middle;\n",
              "    }\n",
              "\n",
              "    .dataframe tbody tr th {\n",
              "        vertical-align: top;\n",
              "    }\n",
              "\n",
              "    .dataframe thead th {\n",
              "        text-align: right;\n",
              "    }\n",
              "</style>\n",
              "<table border=\"1\" class=\"dataframe\">\n",
              "  <thead>\n",
              "    <tr style=\"text-align: right;\">\n",
              "      <th></th>\n",
              "      <th>a</th>\n",
              "      <th>b</th>\n",
              "    </tr>\n",
              "  </thead>\n",
              "  <tbody>\n",
              "    <tr>\n",
              "      <th>2 June 2013</th>\n",
              "      <td>92</td>\n",
              "      <td>29</td>\n",
              "    </tr>\n",
              "    <tr>\n",
              "      <th>Aug 29, 2014</th>\n",
              "      <td>20</td>\n",
              "      <td>82</td>\n",
              "    </tr>\n",
              "    <tr>\n",
              "      <th>2015-06-26</th>\n",
              "      <td>78</td>\n",
              "      <td>26</td>\n",
              "    </tr>\n",
              "    <tr>\n",
              "      <th>7/12/16</th>\n",
              "      <td>49</td>\n",
              "      <td>66</td>\n",
              "    </tr>\n",
              "  </tbody>\n",
              "</table>\n",
              "</div>"
            ],
            "text/plain": [
              "               a   b\n",
              "2 June 2013   92  29\n",
              "Aug 29, 2014  20  82\n",
              "2015-06-26    78  26\n",
              "7/12/16       49  66"
            ]
          },
          "metadata": {
            "tags": []
          },
          "execution_count": 89
        }
      ]
    },
    {
      "cell_type": "code",
      "metadata": {
        "colab": {
          "base_uri": "https://localhost:8080/",
          "height": 173
        },
        "id": "kqZm2CydbJSl",
        "outputId": "f99aa9d2-13b6-4364-8011-81e1ab1d6abe"
      },
      "source": [
        "# Using pandas to_datetime, pandas will try to convert these to Datetime and put \n",
        "# them in a standard format.\n",
        "\n",
        "ts3.index = pd.to_datetime(ts3.index)\n",
        "ts3"
      ],
      "execution_count": null,
      "outputs": [
        {
          "output_type": "execute_result",
          "data": {
            "text/html": [
              "<div>\n",
              "<style scoped>\n",
              "    .dataframe tbody tr th:only-of-type {\n",
              "        vertical-align: middle;\n",
              "    }\n",
              "\n",
              "    .dataframe tbody tr th {\n",
              "        vertical-align: top;\n",
              "    }\n",
              "\n",
              "    .dataframe thead th {\n",
              "        text-align: right;\n",
              "    }\n",
              "</style>\n",
              "<table border=\"1\" class=\"dataframe\">\n",
              "  <thead>\n",
              "    <tr style=\"text-align: right;\">\n",
              "      <th></th>\n",
              "      <th>a</th>\n",
              "      <th>b</th>\n",
              "    </tr>\n",
              "  </thead>\n",
              "  <tbody>\n",
              "    <tr>\n",
              "      <th>2013-06-02</th>\n",
              "      <td>92</td>\n",
              "      <td>29</td>\n",
              "    </tr>\n",
              "    <tr>\n",
              "      <th>2014-08-29</th>\n",
              "      <td>20</td>\n",
              "      <td>82</td>\n",
              "    </tr>\n",
              "    <tr>\n",
              "      <th>2015-06-26</th>\n",
              "      <td>78</td>\n",
              "      <td>26</td>\n",
              "    </tr>\n",
              "    <tr>\n",
              "      <th>2016-07-12</th>\n",
              "      <td>49</td>\n",
              "      <td>66</td>\n",
              "    </tr>\n",
              "  </tbody>\n",
              "</table>\n",
              "</div>"
            ],
            "text/plain": [
              "             a   b\n",
              "2013-06-02  92  29\n",
              "2014-08-29  20  82\n",
              "2015-06-26  78  26\n",
              "2016-07-12  49  66"
            ]
          },
          "metadata": {
            "tags": []
          },
          "execution_count": 90
        }
      ]
    },
    {
      "cell_type": "code",
      "metadata": {
        "colab": {
          "base_uri": "https://localhost:8080/"
        },
        "id": "C-XqcuD0bJUq",
        "outputId": "8d14056a-f062-4392-eef7-20963d30e838"
      },
      "source": [
        "# to_datetime() also has options to change the date parse order. For example, we \n",
        "# can pass in the argument dayfirst = True to parse the date in European date.\n",
        "\n",
        "pd.to_datetime('4.7.12', dayfirst=True)"
      ],
      "execution_count": null,
      "outputs": [
        {
          "output_type": "execute_result",
          "data": {
            "text/plain": [
              "Timestamp('2012-07-04 00:00:00')"
            ]
          },
          "metadata": {
            "tags": []
          },
          "execution_count": 91
        }
      ]
    },
    {
      "cell_type": "markdown",
      "metadata": {
        "id": "-u_eJBmvbgW_"
      },
      "source": [
        "#### Timedelta"
      ]
    },
    {
      "cell_type": "code",
      "metadata": {
        "colab": {
          "base_uri": "https://localhost:8080/"
        },
        "id": "5uhIXJsrbf8B",
        "outputId": "d97e5442-8f90-4e3d-9ccc-984ac470409d"
      },
      "source": [
        "# Timedeltas are differences in times. This is not the same as a a period, but conceptually similar. For\n",
        "# instance, if we want to take the difference between September 3rd and  September 1st, we get a Timedelta of\n",
        "# two days.\n",
        "pd.Timestamp('9/3/2016')-pd.Timestamp('9/1/2016')"
      ],
      "execution_count": null,
      "outputs": [
        {
          "output_type": "execute_result",
          "data": {
            "text/plain": [
              "Timedelta('2 days 00:00:00')"
            ]
          },
          "metadata": {
            "tags": []
          },
          "execution_count": 92
        }
      ]
    },
    {
      "cell_type": "code",
      "metadata": {
        "colab": {
          "base_uri": "https://localhost:8080/"
        },
        "id": "addOD8yzbf-Q",
        "outputId": "df03da14-260c-412e-a523-9cbcc6220906"
      },
      "source": [
        "# We can also do something like find what the date and time is for 12 days and three hours past September 2nd,\n",
        "# at 8:10 AM.\n",
        "pd.Timestamp('9/2/2016 8:10AM') + pd.Timedelta('12D 3H')"
      ],
      "execution_count": null,
      "outputs": [
        {
          "output_type": "execute_result",
          "data": {
            "text/plain": [
              "Timestamp('2016-09-14 11:10:00')"
            ]
          },
          "metadata": {
            "tags": []
          },
          "execution_count": 93
        }
      ]
    },
    {
      "cell_type": "markdown",
      "metadata": {
        "id": "Pe1Hez3MbryM"
      },
      "source": [
        "#### Offset"
      ]
    },
    {
      "cell_type": "code",
      "metadata": {
        "colab": {
          "base_uri": "https://localhost:8080/"
        },
        "id": "5EBN14j5a0jk",
        "outputId": "98418831-3c06-4a8d-8aff-1e7f149f155f"
      },
      "source": [
        "# Offset is similar to timedelta, but it follows specific calendar duration rules. Offset allows flexibility\n",
        "# in terms of types of time intervals. Besides hour, day, week, month, etc it also has business day, end of\n",
        "# month, semi month begin etc\n",
        "\n",
        "# Let's create a timestamp, and see what day is that\n",
        "pd.Timestamp('9/4/2016').weekday()"
      ],
      "execution_count": null,
      "outputs": [
        {
          "output_type": "execute_result",
          "data": {
            "text/plain": [
              "6"
            ]
          },
          "metadata": {
            "tags": []
          },
          "execution_count": 94
        }
      ]
    },
    {
      "cell_type": "code",
      "metadata": {
        "colab": {
          "base_uri": "https://localhost:8080/"
        },
        "id": "RU-SpqnTa0r4",
        "outputId": "5c328aee-4794-4a7e-f974-3fae876e9168"
      },
      "source": [
        "# Now we can now add the timestamp with a week ahead\n",
        "pd.Timestamp('9/4/2016') + pd.offsets.Week()  # 4+7=11"
      ],
      "execution_count": null,
      "outputs": [
        {
          "output_type": "execute_result",
          "data": {
            "text/plain": [
              "Timestamp('2016-09-11 00:00:00')"
            ]
          },
          "metadata": {
            "tags": []
          },
          "execution_count": 95
        }
      ]
    },
    {
      "cell_type": "code",
      "metadata": {
        "colab": {
          "base_uri": "https://localhost:8080/"
        },
        "id": "A01jmHCHaie9",
        "outputId": "cde80430-c926-4012-a124-690a33c2a99b"
      },
      "source": [
        "# Now let's try to do the month end, then we would have the last day of September\n",
        "pd.Timestamp('9/4/2016') + pd.offsets.MonthEnd()"
      ],
      "execution_count": null,
      "outputs": [
        {
          "output_type": "execute_result",
          "data": {
            "text/plain": [
              "Timestamp('2016-09-30 00:00:00')"
            ]
          },
          "metadata": {
            "tags": []
          },
          "execution_count": 96
        }
      ]
    },
    {
      "cell_type": "markdown",
      "metadata": {
        "id": "b-deu71IcIks"
      },
      "source": [
        "#### Working with Dates in a Dataframe"
      ]
    },
    {
      "cell_type": "code",
      "metadata": {
        "colab": {
          "base_uri": "https://localhost:8080/"
        },
        "id": "f4EOH0RJaQzp",
        "outputId": "60ff1b02-2163-48a8-beef-8ca584e0b635"
      },
      "source": [
        "# Next, let's look at a few tricks for working with dates in a DataFrame. Suppose we want to look at nine\n",
        "# measurements, taken bi-weekly, every Sunday, starting in October 2016. Using date_range, we can create this\n",
        "# DatetimeIndex. In data_range, we have to either specify the start or end date. If it is not explicitly\n",
        "# specified, by default, the date is considered the start date. Then we have to specify number of periods, and\n",
        "# a frequency. Here, we set it to \"2W-SUN\", which means biweekly on Sunday\n",
        "\n",
        "dates = pd.date_range('10-01-2016', periods=9, freq='2W-SUN')\n",
        "dates"
      ],
      "execution_count": null,
      "outputs": [
        {
          "output_type": "execute_result",
          "data": {
            "text/plain": [
              "DatetimeIndex(['2016-10-02', '2016-10-16', '2016-10-30', '2016-11-13',\n",
              "               '2016-11-27', '2016-12-11', '2016-12-25', '2017-01-08',\n",
              "               '2017-01-22'],\n",
              "              dtype='datetime64[ns]', freq='2W-SUN')"
            ]
          },
          "metadata": {
            "tags": []
          },
          "execution_count": 97
        }
      ]
    },
    {
      "cell_type": "code",
      "metadata": {
        "colab": {
          "base_uri": "https://localhost:8080/"
        },
        "id": "LkdmpmWtcNAR",
        "outputId": "c2056ff4-7560-4a0e-8b3f-24e6240bcb78"
      },
      "source": [
        "# There are many other frequencies that you can specify. \n",
        "# For example, you can do business day\n",
        "pd.date_range('10-01-2016', periods=9, freq='B')"
      ],
      "execution_count": null,
      "outputs": [
        {
          "output_type": "execute_result",
          "data": {
            "text/plain": [
              "DatetimeIndex(['2016-10-03', '2016-10-04', '2016-10-05', '2016-10-06',\n",
              "               '2016-10-07', '2016-10-10', '2016-10-11', '2016-10-12',\n",
              "               '2016-10-13'],\n",
              "              dtype='datetime64[ns]', freq='B')"
            ]
          },
          "metadata": {
            "tags": []
          },
          "execution_count": 98
        }
      ]
    },
    {
      "cell_type": "code",
      "metadata": {
        "colab": {
          "base_uri": "https://localhost:8080/"
        },
        "id": "aDxdSep1cNCi",
        "outputId": "43351abd-9f8b-4660-9e10-d8a7f235baf7"
      },
      "source": [
        "# Or you can do quarterly, with the quarter start in June\n",
        "pd.date_range('04-01-2016', periods=12, freq='QS-JUN')"
      ],
      "execution_count": null,
      "outputs": [
        {
          "output_type": "execute_result",
          "data": {
            "text/plain": [
              "DatetimeIndex(['2016-06-01', '2016-09-01', '2016-12-01', '2017-03-01',\n",
              "               '2017-06-01', '2017-09-01', '2017-12-01', '2018-03-01',\n",
              "               '2018-06-01', '2018-09-01', '2018-12-01', '2019-03-01'],\n",
              "              dtype='datetime64[ns]', freq='QS-JUN')"
            ]
          },
          "metadata": {
            "tags": []
          },
          "execution_count": 99
        }
      ]
    },
    {
      "cell_type": "code",
      "metadata": {
        "colab": {
          "base_uri": "https://localhost:8080/",
          "height": 328
        },
        "id": "VJAbbSZQcNEl",
        "outputId": "737a0419-5dce-4ffd-ce61-bd6392bf2b27"
      },
      "source": [
        "# Now, let's go back to our weekly on Sunday example and create a DataFrame \n",
        "# using these dates, and some random data, and see what we can do with it.\n",
        "\n",
        "dates = pd.date_range('10-01-2016', periods=9, freq='2W-SUN')\n",
        "df = pd.DataFrame({'Count 1': 100 + np.random.randint(-5, 10, 9).cumsum(),\n",
        "                  'Count 2': 120 + np.random.randint(-5, 10, 9)}, index=dates)\n",
        "df"
      ],
      "execution_count": null,
      "outputs": [
        {
          "output_type": "execute_result",
          "data": {
            "text/html": [
              "<div>\n",
              "<style scoped>\n",
              "    .dataframe tbody tr th:only-of-type {\n",
              "        vertical-align: middle;\n",
              "    }\n",
              "\n",
              "    .dataframe tbody tr th {\n",
              "        vertical-align: top;\n",
              "    }\n",
              "\n",
              "    .dataframe thead th {\n",
              "        text-align: right;\n",
              "    }\n",
              "</style>\n",
              "<table border=\"1\" class=\"dataframe\">\n",
              "  <thead>\n",
              "    <tr style=\"text-align: right;\">\n",
              "      <th></th>\n",
              "      <th>Count 1</th>\n",
              "      <th>Count 2</th>\n",
              "    </tr>\n",
              "  </thead>\n",
              "  <tbody>\n",
              "    <tr>\n",
              "      <th>2016-10-02</th>\n",
              "      <td>101</td>\n",
              "      <td>127</td>\n",
              "    </tr>\n",
              "    <tr>\n",
              "      <th>2016-10-16</th>\n",
              "      <td>108</td>\n",
              "      <td>119</td>\n",
              "    </tr>\n",
              "    <tr>\n",
              "      <th>2016-10-30</th>\n",
              "      <td>114</td>\n",
              "      <td>120</td>\n",
              "    </tr>\n",
              "    <tr>\n",
              "      <th>2016-11-13</th>\n",
              "      <td>113</td>\n",
              "      <td>127</td>\n",
              "    </tr>\n",
              "    <tr>\n",
              "      <th>2016-11-27</th>\n",
              "      <td>115</td>\n",
              "      <td>115</td>\n",
              "    </tr>\n",
              "    <tr>\n",
              "      <th>2016-12-11</th>\n",
              "      <td>118</td>\n",
              "      <td>122</td>\n",
              "    </tr>\n",
              "    <tr>\n",
              "      <th>2016-12-25</th>\n",
              "      <td>117</td>\n",
              "      <td>119</td>\n",
              "    </tr>\n",
              "    <tr>\n",
              "      <th>2017-01-08</th>\n",
              "      <td>118</td>\n",
              "      <td>118</td>\n",
              "    </tr>\n",
              "    <tr>\n",
              "      <th>2017-01-22</th>\n",
              "      <td>124</td>\n",
              "      <td>124</td>\n",
              "    </tr>\n",
              "  </tbody>\n",
              "</table>\n",
              "</div>"
            ],
            "text/plain": [
              "            Count 1  Count 2\n",
              "2016-10-02      101      127\n",
              "2016-10-16      108      119\n",
              "2016-10-30      114      120\n",
              "2016-11-13      113      127\n",
              "2016-11-27      115      115\n",
              "2016-12-11      118      122\n",
              "2016-12-25      117      119\n",
              "2017-01-08      118      118\n",
              "2017-01-22      124      124"
            ]
          },
          "metadata": {
            "tags": []
          },
          "execution_count": 100
        }
      ]
    },
    {
      "cell_type": "code",
      "metadata": {
        "colab": {
          "base_uri": "https://localhost:8080/"
        },
        "id": "V1rShsJ-dNP2",
        "outputId": "c63b735d-a6a4-4f28-f698-967b94f4cabb"
      },
      "source": [
        "df.index.weekday"
      ],
      "execution_count": null,
      "outputs": [
        {
          "output_type": "execute_result",
          "data": {
            "text/plain": [
              "Int64Index([6, 6, 6, 6, 6, 6, 6, 6, 6], dtype='int64')"
            ]
          },
          "metadata": {
            "tags": []
          },
          "execution_count": 101
        }
      ]
    },
    {
      "cell_type": "code",
      "metadata": {
        "colab": {
          "base_uri": "https://localhost:8080/",
          "height": 328
        },
        "id": "rI573oEKcNHB",
        "outputId": "e388f467-44b7-47bc-b34a-b06567ba3a80"
      },
      "source": [
        "# We can also use diff() to find the difference between each date's value.\n",
        "df.diff()"
      ],
      "execution_count": null,
      "outputs": [
        {
          "output_type": "execute_result",
          "data": {
            "text/html": [
              "<div>\n",
              "<style scoped>\n",
              "    .dataframe tbody tr th:only-of-type {\n",
              "        vertical-align: middle;\n",
              "    }\n",
              "\n",
              "    .dataframe tbody tr th {\n",
              "        vertical-align: top;\n",
              "    }\n",
              "\n",
              "    .dataframe thead th {\n",
              "        text-align: right;\n",
              "    }\n",
              "</style>\n",
              "<table border=\"1\" class=\"dataframe\">\n",
              "  <thead>\n",
              "    <tr style=\"text-align: right;\">\n",
              "      <th></th>\n",
              "      <th>Count 1</th>\n",
              "      <th>Count 2</th>\n",
              "    </tr>\n",
              "  </thead>\n",
              "  <tbody>\n",
              "    <tr>\n",
              "      <th>2016-10-02</th>\n",
              "      <td>NaN</td>\n",
              "      <td>NaN</td>\n",
              "    </tr>\n",
              "    <tr>\n",
              "      <th>2016-10-16</th>\n",
              "      <td>7.0</td>\n",
              "      <td>-8.0</td>\n",
              "    </tr>\n",
              "    <tr>\n",
              "      <th>2016-10-30</th>\n",
              "      <td>6.0</td>\n",
              "      <td>1.0</td>\n",
              "    </tr>\n",
              "    <tr>\n",
              "      <th>2016-11-13</th>\n",
              "      <td>-1.0</td>\n",
              "      <td>7.0</td>\n",
              "    </tr>\n",
              "    <tr>\n",
              "      <th>2016-11-27</th>\n",
              "      <td>2.0</td>\n",
              "      <td>-12.0</td>\n",
              "    </tr>\n",
              "    <tr>\n",
              "      <th>2016-12-11</th>\n",
              "      <td>3.0</td>\n",
              "      <td>7.0</td>\n",
              "    </tr>\n",
              "    <tr>\n",
              "      <th>2016-12-25</th>\n",
              "      <td>-1.0</td>\n",
              "      <td>-3.0</td>\n",
              "    </tr>\n",
              "    <tr>\n",
              "      <th>2017-01-08</th>\n",
              "      <td>1.0</td>\n",
              "      <td>-1.0</td>\n",
              "    </tr>\n",
              "    <tr>\n",
              "      <th>2017-01-22</th>\n",
              "      <td>6.0</td>\n",
              "      <td>6.0</td>\n",
              "    </tr>\n",
              "  </tbody>\n",
              "</table>\n",
              "</div>"
            ],
            "text/plain": [
              "            Count 1  Count 2\n",
              "2016-10-02      NaN      NaN\n",
              "2016-10-16      7.0     -8.0\n",
              "2016-10-30      6.0      1.0\n",
              "2016-11-13     -1.0      7.0\n",
              "2016-11-27      2.0    -12.0\n",
              "2016-12-11      3.0      7.0\n",
              "2016-12-25     -1.0     -3.0\n",
              "2017-01-08      1.0     -1.0\n",
              "2017-01-22      6.0      6.0"
            ]
          },
          "metadata": {
            "tags": []
          },
          "execution_count": 102
        }
      ]
    },
    {
      "cell_type": "code",
      "metadata": {
        "colab": {
          "base_uri": "https://localhost:8080/",
          "height": 173
        },
        "id": "8RlF9ABCcNJd",
        "outputId": "f9c5d040-b475-48f4-b461-35fa5bd95983"
      },
      "source": [
        "# Suppose we want to know what the mean count is for each month in our DataFrame. We can do this using\n",
        "# resample. Converting from a higher frequency from a lower frequency is called downsampling\n",
        "df.resample('M').mean()"
      ],
      "execution_count": null,
      "outputs": [
        {
          "output_type": "execute_result",
          "data": {
            "text/html": [
              "<div>\n",
              "<style scoped>\n",
              "    .dataframe tbody tr th:only-of-type {\n",
              "        vertical-align: middle;\n",
              "    }\n",
              "\n",
              "    .dataframe tbody tr th {\n",
              "        vertical-align: top;\n",
              "    }\n",
              "\n",
              "    .dataframe thead th {\n",
              "        text-align: right;\n",
              "    }\n",
              "</style>\n",
              "<table border=\"1\" class=\"dataframe\">\n",
              "  <thead>\n",
              "    <tr style=\"text-align: right;\">\n",
              "      <th></th>\n",
              "      <th>Count 1</th>\n",
              "      <th>Count 2</th>\n",
              "    </tr>\n",
              "  </thead>\n",
              "  <tbody>\n",
              "    <tr>\n",
              "      <th>2016-10-31</th>\n",
              "      <td>107.666667</td>\n",
              "      <td>122.0</td>\n",
              "    </tr>\n",
              "    <tr>\n",
              "      <th>2016-11-30</th>\n",
              "      <td>114.000000</td>\n",
              "      <td>121.0</td>\n",
              "    </tr>\n",
              "    <tr>\n",
              "      <th>2016-12-31</th>\n",
              "      <td>117.500000</td>\n",
              "      <td>120.5</td>\n",
              "    </tr>\n",
              "    <tr>\n",
              "      <th>2017-01-31</th>\n",
              "      <td>121.000000</td>\n",
              "      <td>121.0</td>\n",
              "    </tr>\n",
              "  </tbody>\n",
              "</table>\n",
              "</div>"
            ],
            "text/plain": [
              "               Count 1  Count 2\n",
              "2016-10-31  107.666667    122.0\n",
              "2016-11-30  114.000000    121.0\n",
              "2016-12-31  117.500000    120.5\n",
              "2017-01-31  121.000000    121.0"
            ]
          },
          "metadata": {
            "tags": []
          },
          "execution_count": 103
        }
      ]
    },
    {
      "cell_type": "code",
      "metadata": {
        "colab": {
          "base_uri": "https://localhost:8080/",
          "height": 111
        },
        "id": "kQoRuxwucHMJ",
        "outputId": "f28474f5-7fae-4e4b-8a4e-90d3ce1d3450"
      },
      "source": [
        "# Now let's talk about datetime indexing and slicing, which is a wonderful feature of the pandas DataFrame.\n",
        "# For instance, we can use partial string indexing to find values from a particular year,\n",
        "df['2017']"
      ],
      "execution_count": null,
      "outputs": [
        {
          "output_type": "execute_result",
          "data": {
            "text/html": [
              "<div>\n",
              "<style scoped>\n",
              "    .dataframe tbody tr th:only-of-type {\n",
              "        vertical-align: middle;\n",
              "    }\n",
              "\n",
              "    .dataframe tbody tr th {\n",
              "        vertical-align: top;\n",
              "    }\n",
              "\n",
              "    .dataframe thead th {\n",
              "        text-align: right;\n",
              "    }\n",
              "</style>\n",
              "<table border=\"1\" class=\"dataframe\">\n",
              "  <thead>\n",
              "    <tr style=\"text-align: right;\">\n",
              "      <th></th>\n",
              "      <th>Count 1</th>\n",
              "      <th>Count 2</th>\n",
              "    </tr>\n",
              "  </thead>\n",
              "  <tbody>\n",
              "    <tr>\n",
              "      <th>2017-01-08</th>\n",
              "      <td>118</td>\n",
              "      <td>118</td>\n",
              "    </tr>\n",
              "    <tr>\n",
              "      <th>2017-01-22</th>\n",
              "      <td>124</td>\n",
              "      <td>124</td>\n",
              "    </tr>\n",
              "  </tbody>\n",
              "</table>\n",
              "</div>"
            ],
            "text/plain": [
              "            Count 1  Count 2\n",
              "2017-01-08      118      118\n",
              "2017-01-22      124      124"
            ]
          },
          "metadata": {
            "tags": []
          },
          "execution_count": 104
        }
      ]
    },
    {
      "cell_type": "code",
      "metadata": {
        "colab": {
          "base_uri": "https://localhost:8080/",
          "height": 173
        },
        "id": "dLfyxYyjcHOU",
        "outputId": "697eae23-e6f8-43af-ebf6-10ca9462c546"
      },
      "source": [
        "# Or we can even slice on a range of dates For example, here we only want the values from December 2016\n",
        "# onwards.\n",
        "df['2016-12':]"
      ],
      "execution_count": null,
      "outputs": [
        {
          "output_type": "execute_result",
          "data": {
            "text/html": [
              "<div>\n",
              "<style scoped>\n",
              "    .dataframe tbody tr th:only-of-type {\n",
              "        vertical-align: middle;\n",
              "    }\n",
              "\n",
              "    .dataframe tbody tr th {\n",
              "        vertical-align: top;\n",
              "    }\n",
              "\n",
              "    .dataframe thead th {\n",
              "        text-align: right;\n",
              "    }\n",
              "</style>\n",
              "<table border=\"1\" class=\"dataframe\">\n",
              "  <thead>\n",
              "    <tr style=\"text-align: right;\">\n",
              "      <th></th>\n",
              "      <th>Count 1</th>\n",
              "      <th>Count 2</th>\n",
              "    </tr>\n",
              "  </thead>\n",
              "  <tbody>\n",
              "    <tr>\n",
              "      <th>2016-12-11</th>\n",
              "      <td>118</td>\n",
              "      <td>122</td>\n",
              "    </tr>\n",
              "    <tr>\n",
              "      <th>2016-12-25</th>\n",
              "      <td>117</td>\n",
              "      <td>119</td>\n",
              "    </tr>\n",
              "    <tr>\n",
              "      <th>2017-01-08</th>\n",
              "      <td>118</td>\n",
              "      <td>118</td>\n",
              "    </tr>\n",
              "    <tr>\n",
              "      <th>2017-01-22</th>\n",
              "      <td>124</td>\n",
              "      <td>124</td>\n",
              "    </tr>\n",
              "  </tbody>\n",
              "</table>\n",
              "</div>"
            ],
            "text/plain": [
              "            Count 1  Count 2\n",
              "2016-12-11      118      122\n",
              "2016-12-25      117      119\n",
              "2017-01-08      118      118\n",
              "2017-01-22      124      124"
            ]
          },
          "metadata": {
            "tags": []
          },
          "execution_count": 105
        }
      ]
    },
    {
      "cell_type": "code",
      "metadata": {
        "id": "HQLehJg6cHQV"
      },
      "source": [
        ""
      ],
      "execution_count": null,
      "outputs": []
    },
    {
      "cell_type": "code",
      "metadata": {
        "id": "URGtjd0J7x-y"
      },
      "source": [
        ""
      ],
      "execution_count": null,
      "outputs": []
    }
  ]
}