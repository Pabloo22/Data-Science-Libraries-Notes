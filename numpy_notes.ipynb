{
  "nbformat": 4,
  "nbformat_minor": 0,
  "metadata": {
    "colab": {
      "name": "numpy_notes.ipynb",
      "provenance": [],
      "toc_visible": true,
      "authorship_tag": "ABX9TyMqHbm9rh3mokzvO/dtL6NT",
      "include_colab_link": true
    },
    "kernelspec": {
      "name": "python3",
      "display_name": "Python 3"
    }
  },
  "cells": [
    {
      "cell_type": "markdown",
      "metadata": {
        "id": "view-in-github",
        "colab_type": "text"
      },
      "source": [
        "<a href=\"https://colab.research.google.com/github/Pabloo22/Data-Science-Libraries-Notes/blob/main/numpy_notes.ipynb\" target=\"_parent\"><img src=\"https://colab.research.google.com/assets/colab-badge.svg\" alt=\"Open In Colab\"/></a>"
      ]
    },
    {
      "cell_type": "code",
      "metadata": {
        "id": "9iOyjGn1RW97"
      },
      "source": [
        "import numpy as np"
      ],
      "execution_count": null,
      "outputs": []
    },
    {
      "cell_type": "markdown",
      "metadata": {
        "id": "ZHCWAZhRReqG"
      },
      "source": [
        "### Creating Arrays"
      ]
    },
    {
      "cell_type": "code",
      "metadata": {
        "id": "gjoLbW4-ReLg"
      },
      "source": [
        "a = np.array([10, 20, 30])\n",
        "b = np.array([1, 77, 2, 3])"
      ],
      "execution_count": null,
      "outputs": []
    },
    {
      "cell_type": "markdown",
      "metadata": {
        "id": "4SV2kOZ0Rqp4"
      },
      "source": [
        "#### Multidimensional Arrays"
      ]
    },
    {
      "cell_type": "code",
      "metadata": {
        "colab": {
          "base_uri": "https://localhost:8080/"
        },
        "id": "IB_A7Z2gReNs",
        "outputId": "109b8a9f-9a4c-4bc4-f21d-e12f86b02eba"
      },
      "source": [
        "a = np.array([\n",
        " [10, 20, 30],\n",
        " [40, 50, 60]\n",
        "], dtype=int)\n",
        "print(a[1][2])\n",
        "a"
      ],
      "execution_count": null,
      "outputs": [
        {
          "output_type": "stream",
          "text": [
            "60\n"
          ],
          "name": "stdout"
        },
        {
          "output_type": "execute_result",
          "data": {
            "text/plain": [
              "array([[10, 20, 30],\n",
              "       [40, 50, 60]])"
            ]
          },
          "metadata": {
            "tags": []
          },
          "execution_count": 3
        }
      ]
    },
    {
      "cell_type": "markdown",
      "metadata": {
        "id": "1l_G6XemR_DS"
      },
      "source": [
        "#### Zeros and Ones"
      ]
    },
    {
      "cell_type": "code",
      "metadata": {
        "colab": {
          "base_uri": "https://localhost:8080/"
        },
        "id": "jYuCTQtvRePv",
        "outputId": "b6b9cb08-cfc4-477e-c90e-0569d7f81f6f"
      },
      "source": [
        "a = np.zeros((3, 3))\n",
        "print(a)\n",
        "b = np.ones((2, 3, 4, 2))"
      ],
      "execution_count": null,
      "outputs": [
        {
          "output_type": "stream",
          "text": [
            "[[0. 0. 0.]\n",
            " [0. 0. 0.]\n",
            " [0. 0. 0.]]\n"
          ],
          "name": "stdout"
        }
      ]
    },
    {
      "cell_type": "markdown",
      "metadata": {
        "id": "r21dUnXXSWnQ"
      },
      "source": [
        "#### Empty and Random"
      ]
    },
    {
      "cell_type": "markdown",
      "metadata": {
        "id": "U7oO0XSrSlCZ"
      },
      "source": [
        "The function empty creates an array without initializing the values at all.\n",
        "This makes it a little bit faster but also more dangerous to use, since the\n",
        "user needs to manually initialize all the values.\n"
      ]
    },
    {
      "cell_type": "code",
      "metadata": {
        "colab": {
          "base_uri": "https://localhost:8080/"
        },
        "id": "YRC3mwbyReR5",
        "outputId": "31c79dc5-62dc-4597-d09e-d2d53afd7124"
      },
      "source": [
        "a = np.empty((4,4))\n",
        "a"
      ],
      "execution_count": null,
      "outputs": [
        {
          "output_type": "execute_result",
          "data": {
            "text/plain": [
              "array([[4.68049947e-310, 1.03977794e-312, 1.01855798e-312,\n",
              "        9.54898106e-313],\n",
              "       [1.01855798e-312, 1.03977794e-312, 1.23075756e-312,\n",
              "        1.06099790e-312],\n",
              "       [1.12465777e-312, 9.76118064e-313, 1.08221785e-312,\n",
              "        1.12465777e-312],\n",
              "       [1.01855798e-312, 4.44659081e-322, 0.00000000e+000,\n",
              "        0.00000000e+000]])"
            ]
          },
          "metadata": {
            "tags": []
          },
          "execution_count": 5
        }
      ]
    },
    {
      "cell_type": "markdown",
      "metadata": {
        "id": "HBGGBXrCSnZl"
      },
      "source": [
        "When using the random function, make sure that you are referring to the\n",
        "module np.random. You need to write it two times because otherwise you\n",
        "are calling the library"
      ]
    },
    {
      "cell_type": "code",
      "metadata": {
        "colab": {
          "base_uri": "https://localhost:8080/"
        },
        "id": "kfbCHkvyReT2",
        "outputId": "32fa84b5-3a77-4cc2-fd5e-c41f0efd102a"
      },
      "source": [
        "b = np.random.random((2,3))\n",
        "b"
      ],
      "execution_count": null,
      "outputs": [
        {
          "output_type": "execute_result",
          "data": {
            "text/plain": [
              "array([[0.8050872 , 0.90205914, 0.03840028],\n",
              "       [0.10183105, 0.90584835, 0.60926322]])"
            ]
          },
          "metadata": {
            "tags": []
          },
          "execution_count": 6
        }
      ]
    },
    {
      "cell_type": "markdown",
      "metadata": {
        "id": "7FJSVXoESqaO"
      },
      "source": [
        "#### Ranges"
      ]
    },
    {
      "cell_type": "markdown",
      "metadata": {
        "id": "WchDqp6mSs5t"
      },
      "source": [
        "Instead of just filling arrays with the same values, we can fill create\n",
        "sequences of values by specifying the boundaries. For this, we can use two\n",
        "different functions, namely arange and linspace"
      ]
    },
    {
      "cell_type": "code",
      "metadata": {
        "colab": {
          "base_uri": "https://localhost:8080/"
        },
        "id": "v3DbkWayReWD",
        "outputId": "f9db8638-fcce-4fa3-d95f-a095cd1e4a63"
      },
      "source": [
        "a = np.arange(10, 50, 5)\n",
        "# The function arange creates a list with values that range from the minimum\n",
        "# to the maximum. The step-size has to be specified in the parameters.\n",
        "a"
      ],
      "execution_count": null,
      "outputs": [
        {
          "output_type": "execute_result",
          "data": {
            "text/plain": [
              "array([10, 15, 20, 25, 30, 35, 40, 45])"
            ]
          },
          "metadata": {
            "tags": []
          },
          "execution_count": 7
        }
      ]
    },
    {
      "cell_type": "markdown",
      "metadata": {
        "id": "OL0nE25PS5An"
      },
      "source": [
        "By using linspace we also create a list from a minimum value to a\n",
        "maximum value. But instead of specifying the step-size, we specify the\n",
        "amount of values that we want to have in our list. They will all be spread\n",
        "evenly and have the same distance to their neighbors."
      ]
    },
    {
      "cell_type": "code",
      "metadata": {
        "colab": {
          "base_uri": "https://localhost:8080/"
        },
        "id": "xnjV3yvwReX1",
        "outputId": "a2922533-d015-401d-f8e2-1eb341d23b1b"
      },
      "source": [
        "b = np.linspace(0, 100, 11)\n",
        "# Here, we want to create a list that ranges from 0 to 100 and contains 11\n",
        "# elements. This fits smoothly with a difference of 10 between all numbers.\n",
        "# So the result looks like this:\n",
        "b"
      ],
      "execution_count": null,
      "outputs": [
        {
          "output_type": "execute_result",
          "data": {
            "text/plain": [
              "array([  0.,  10.,  20.,  30.,  40.,  50.,  60.,  70.,  80.,  90., 100.])"
            ]
          },
          "metadata": {
            "tags": []
          },
          "execution_count": 8
        }
      ]
    },
    {
      "cell_type": "markdown",
      "metadata": {
        "id": "Jzq9SmmRTS3X"
      },
      "source": [
        "#### Not a Number (NaN)"
      ]
    },
    {
      "cell_type": "markdown",
      "metadata": {
        "id": "g35AMFSCTZA_"
      },
      "source": [
        "There is a special value in NumPy that represents values that are not\n",
        "numbers. It is called NaN and stands for Not a Number. We basically just\n",
        "use it as a placeholder for empty spaces. It can be seen as a value that\n",
        "indicates that something is missing at that place.\n"
      ]
    },
    {
      "cell_type": "markdown",
      "metadata": {
        "id": "saH5cS56Tezv"
      },
      "source": [
        "When importing big data packets into our application, there will sometimes\n",
        "be missing data. Instead of just setting these values to zero or something\n",
        "else, we can set them to NaN and then filter these data sets out."
      ]
    },
    {
      "cell_type": "markdown",
      "metadata": {
        "id": "zn31yIJITteW"
      },
      "source": [
        "#### Attributes of Arrays"
      ]
    },
    {
      "cell_type": "code",
      "metadata": {
        "colab": {
          "base_uri": "https://localhost:8080/"
        },
        "id": "kCnV7jejTYZh",
        "outputId": "fcd93863-e71d-42c3-bbd9-ac0327ad5f66"
      },
      "source": [
        "a.shape  # Returns the shape of the array e.g. (3,3) or (3,4,7)"
      ],
      "execution_count": null,
      "outputs": [
        {
          "output_type": "execute_result",
          "data": {
            "text/plain": [
              "(8,)"
            ]
          },
          "metadata": {
            "tags": []
          },
          "execution_count": 9
        }
      ]
    },
    {
      "cell_type": "code",
      "metadata": {
        "colab": {
          "base_uri": "https://localhost:8080/"
        },
        "id": "PtXUSb7_TRcM",
        "outputId": "6ae68000-c34e-4ba1-ee45-48101bccc4c0"
      },
      "source": [
        "a.ndim  # Returns how many dimensions our array has"
      ],
      "execution_count": null,
      "outputs": [
        {
          "output_type": "execute_result",
          "data": {
            "text/plain": [
              "1"
            ]
          },
          "metadata": {
            "tags": []
          },
          "execution_count": 10
        }
      ]
    },
    {
      "cell_type": "code",
      "metadata": {
        "colab": {
          "base_uri": "https://localhost:8080/"
        },
        "id": "RjuPAFLBTSYp",
        "outputId": "7013c369-9ae7-4519-da8d-91bc9d3c476f"
      },
      "source": [
        "a.size  # Returns the amount of element an array has"
      ],
      "execution_count": null,
      "outputs": [
        {
          "output_type": "execute_result",
          "data": {
            "text/plain": [
              "8"
            ]
          },
          "metadata": {
            "tags": []
          },
          "execution_count": 11
        }
      ]
    },
    {
      "cell_type": "code",
      "metadata": {
        "colab": {
          "base_uri": "https://localhost:8080/"
        },
        "id": "8tyz8PEnTSay",
        "outputId": "705e682d-9aff-43dd-cb95-c20b4a8fb4c6"
      },
      "source": [
        "a.dtype  # Returns the data type of the values in the array"
      ],
      "execution_count": null,
      "outputs": [
        {
          "output_type": "execute_result",
          "data": {
            "text/plain": [
              "dtype('int64')"
            ]
          },
          "metadata": {
            "tags": []
          },
          "execution_count": 12
        }
      ]
    },
    {
      "cell_type": "markdown",
      "metadata": {
        "id": "R9LW6h2EUK_b"
      },
      "source": [
        "### Mathematical Operations"
      ]
    },
    {
      "cell_type": "markdown",
      "metadata": {
        "id": "rt0wpVZ6UQa1"
      },
      "source": [
        "Now that we know how to create an array and what attributes it has, let’s\n",
        "take a look at how to work with arrays. For this, we will start out with basic\n",
        "mathematical operations."
      ]
    },
    {
      "cell_type": "code",
      "metadata": {
        "id": "qQAB14CdTSc8"
      },
      "source": [
        "a = np.array([\n",
        " [1,4,2],\n",
        " [8,8,2]])"
      ],
      "execution_count": null,
      "outputs": []
    },
    {
      "cell_type": "code",
      "metadata": {
        "colab": {
          "base_uri": "https://localhost:8080/"
        },
        "id": "nT8vPXlZUKfF",
        "outputId": "eac6db02-2d5e-4b6d-cfb6-c47ed041d2da"
      },
      "source": [
        "a + 2"
      ],
      "execution_count": null,
      "outputs": [
        {
          "output_type": "execute_result",
          "data": {
            "text/plain": [
              "array([[ 3,  6,  4],\n",
              "       [10, 10,  4]])"
            ]
          },
          "metadata": {
            "tags": []
          },
          "execution_count": 14
        }
      ]
    },
    {
      "cell_type": "code",
      "metadata": {
        "colab": {
          "base_uri": "https://localhost:8080/"
        },
        "id": "fZCM2mW6UKhD",
        "outputId": "975d9ca5-55ba-43bc-f7e9-928f8b7085a7"
      },
      "source": [
        "a - 2"
      ],
      "execution_count": null,
      "outputs": [
        {
          "output_type": "execute_result",
          "data": {
            "text/plain": [
              "array([[-1,  2,  0],\n",
              "       [ 6,  6,  0]])"
            ]
          },
          "metadata": {
            "tags": []
          },
          "execution_count": 15
        }
      ]
    },
    {
      "cell_type": "code",
      "metadata": {
        "colab": {
          "base_uri": "https://localhost:8080/"
        },
        "id": "c-fjlZbIUKjU",
        "outputId": "5e95eaf9-fec9-4e42-e5b0-fcee4b3de3f3"
      },
      "source": [
        "a * 2"
      ],
      "execution_count": null,
      "outputs": [
        {
          "output_type": "execute_result",
          "data": {
            "text/plain": [
              "array([[ 2,  8,  4],\n",
              "       [16, 16,  4]])"
            ]
          },
          "metadata": {
            "tags": []
          },
          "execution_count": 16
        }
      ]
    },
    {
      "cell_type": "code",
      "metadata": {
        "colab": {
          "base_uri": "https://localhost:8080/"
        },
        "id": "SEkiMXieUKlc",
        "outputId": "656978d9-98a2-4db6-ec24-f3f05a8d9017"
      },
      "source": [
        "a / 2"
      ],
      "execution_count": null,
      "outputs": [
        {
          "output_type": "execute_result",
          "data": {
            "text/plain": [
              "array([[0.5, 2. , 1. ],\n",
              "       [4. , 4. , 1. ]])"
            ]
          },
          "metadata": {
            "tags": []
          },
          "execution_count": 17
        }
      ]
    },
    {
      "cell_type": "markdown",
      "metadata": {
        "id": "HWyfWUi2UhjP"
      },
      "source": [
        "When we perform basic arithmetic operations like addition, subtraction,\n",
        "multiplication and division to an array and a scalar, we apply the operation\n",
        "on every single element in the array. But what happens when we apply these operations on two arrays?"
      ]
    },
    {
      "cell_type": "code",
      "metadata": {
        "colab": {
          "base_uri": "https://localhost:8080/"
        },
        "id": "evsfB8y7VKJr",
        "outputId": "5e7f5f53-d541-4377-e8e7-d459a8c537a2"
      },
      "source": [
        "a"
      ],
      "execution_count": null,
      "outputs": [
        {
          "output_type": "execute_result",
          "data": {
            "text/plain": [
              "array([[1, 4, 2],\n",
              "       [8, 8, 2]])"
            ]
          },
          "metadata": {
            "tags": []
          },
          "execution_count": 18
        }
      ]
    },
    {
      "cell_type": "code",
      "metadata": {
        "id": "cRW-affuUKm6"
      },
      "source": [
        "b = np.array([[1,2,3]])"
      ],
      "execution_count": null,
      "outputs": []
    },
    {
      "cell_type": "code",
      "metadata": {
        "id": "xFmy0STzUKo6"
      },
      "source": [
        "c = np.array([[1], \n",
        "              [2]])"
      ],
      "execution_count": null,
      "outputs": []
    },
    {
      "cell_type": "code",
      "metadata": {
        "id": "OvA0_p6wTSfH"
      },
      "source": [
        "d = np.array([[1, 2, 3],\n",
        "              [3, 2, 1]])"
      ],
      "execution_count": null,
      "outputs": []
    },
    {
      "cell_type": "markdown",
      "metadata": {
        "id": "d6un6dvrVFaH"
      },
      "source": [
        "In order to apply these operations on two arrays, we need to take care of the\n",
        "shapes. They don’t have to be the same, but there has to be a reasonable\n",
        "way of performing the operations. We then again apply the operations on\n",
        "each element of the array.\n"
      ]
    },
    {
      "cell_type": "code",
      "metadata": {
        "colab": {
          "base_uri": "https://localhost:8080/"
        },
        "id": "MWcwPTNNVE0c",
        "outputId": "82b30c1a-b9f8-4ece-a608-77e4fa14794e"
      },
      "source": [
        "print(a, \"+\")\n",
        "print(b, \"=\")\n",
        "a + b"
      ],
      "execution_count": null,
      "outputs": [
        {
          "output_type": "stream",
          "text": [
            "[[1 4 2]\n",
            " [8 8 2]] +\n",
            "[[1 2 3]] =\n"
          ],
          "name": "stdout"
        },
        {
          "output_type": "execute_result",
          "data": {
            "text/plain": [
              "array([[ 2,  6,  5],\n",
              "       [ 9, 10,  5]])"
            ]
          },
          "metadata": {
            "tags": []
          },
          "execution_count": 22
        }
      ]
    },
    {
      "cell_type": "code",
      "metadata": {
        "colab": {
          "base_uri": "https://localhost:8080/"
        },
        "id": "ydCAcpZiVPvK",
        "outputId": "744de8cf-13c8-4ab7-87bc-ca1589ca6b30"
      },
      "source": [
        "print(a, \"+\")\n",
        "print(c, \"=\")\n",
        "a + c"
      ],
      "execution_count": null,
      "outputs": [
        {
          "output_type": "stream",
          "text": [
            "[[1 4 2]\n",
            " [8 8 2]] +\n",
            "[[1]\n",
            " [2]] =\n"
          ],
          "name": "stdout"
        },
        {
          "output_type": "execute_result",
          "data": {
            "text/plain": [
              "array([[ 2,  5,  3],\n",
              "       [10, 10,  4]])"
            ]
          },
          "metadata": {
            "tags": []
          },
          "execution_count": 23
        }
      ]
    },
    {
      "cell_type": "markdown",
      "metadata": {
        "id": "f_aiv5YzWJGS"
      },
      "source": [
        "And of course it also works, when the shapes match exactly. The only\n",
        "problem is when the shapes differ too much and there is no reasonable way\n",
        "of performing the operations. In these cases, we get ValueErrors."
      ]
    },
    {
      "cell_type": "markdown",
      "metadata": {
        "id": "jZuBsKJ3WKmk"
      },
      "source": [
        "#### Mathematical Functions"
      ]
    },
    {
      "cell_type": "code",
      "metadata": {
        "colab": {
          "base_uri": "https://localhost:8080/"
        },
        "id": "f2LVBWfkVE2h",
        "outputId": "7fc0cef3-30e4-4a4b-a19c-0c856ec77183"
      },
      "source": [
        "np.exp(a)  # Takes e to the power of each value"
      ],
      "execution_count": null,
      "outputs": [
        {
          "output_type": "execute_result",
          "data": {
            "text/plain": [
              "array([[2.71828183e+00, 5.45981500e+01, 7.38905610e+00],\n",
              "       [2.98095799e+03, 2.98095799e+03, 7.38905610e+00]])"
            ]
          },
          "metadata": {
            "tags": []
          },
          "execution_count": 24
        }
      ]
    },
    {
      "cell_type": "code",
      "metadata": {
        "colab": {
          "base_uri": "https://localhost:8080/"
        },
        "id": "lOLuHdxpVE4v",
        "outputId": "49bdda17-775e-4057-b42d-84e16997fa7b"
      },
      "source": [
        "np.sin(a)  # Returns the sine of each value"
      ],
      "execution_count": null,
      "outputs": [
        {
          "output_type": "execute_result",
          "data": {
            "text/plain": [
              "array([[ 0.84147098, -0.7568025 ,  0.90929743],\n",
              "       [ 0.98935825,  0.98935825,  0.90929743]])"
            ]
          },
          "metadata": {
            "tags": []
          },
          "execution_count": 25
        }
      ]
    },
    {
      "cell_type": "code",
      "metadata": {
        "colab": {
          "base_uri": "https://localhost:8080/"
        },
        "id": "WFw3SLoHVE6l",
        "outputId": "3a93414d-8c87-48ed-948a-543fad73c863"
      },
      "source": [
        "np.cos(a)"
      ],
      "execution_count": null,
      "outputs": [
        {
          "output_type": "execute_result",
          "data": {
            "text/plain": [
              "array([[ 0.54030231, -0.65364362, -0.41614684],\n",
              "       [-0.14550003, -0.14550003, -0.41614684]])"
            ]
          },
          "metadata": {
            "tags": []
          },
          "execution_count": 26
        }
      ]
    },
    {
      "cell_type": "code",
      "metadata": {
        "colab": {
          "base_uri": "https://localhost:8080/"
        },
        "id": "klnBTx2TVE8U",
        "outputId": "2f8cafb0-f689-4160-c6b2-fb2c7720248b"
      },
      "source": [
        "np.tan(a) "
      ],
      "execution_count": null,
      "outputs": [
        {
          "output_type": "execute_result",
          "data": {
            "text/plain": [
              "array([[ 1.55740772,  1.15782128, -2.18503986],\n",
              "       [-6.79971146, -6.79971146, -2.18503986]])"
            ]
          },
          "metadata": {
            "tags": []
          },
          "execution_count": 27
        }
      ]
    },
    {
      "cell_type": "code",
      "metadata": {
        "colab": {
          "base_uri": "https://localhost:8080/"
        },
        "id": "mzecKGdwVE-p",
        "outputId": "1a028ff7-2a55-49d3-e5eb-f6c54814ea7f"
      },
      "source": [
        "np.log(a)"
      ],
      "execution_count": null,
      "outputs": [
        {
          "output_type": "execute_result",
          "data": {
            "text/plain": [
              "array([[0.        , 1.38629436, 0.69314718],\n",
              "       [2.07944154, 2.07944154, 0.69314718]])"
            ]
          },
          "metadata": {
            "tags": []
          },
          "execution_count": 28
        }
      ]
    },
    {
      "cell_type": "code",
      "metadata": {
        "colab": {
          "base_uri": "https://localhost:8080/"
        },
        "id": "NF5ExbPgVFAW",
        "outputId": "4db79657-153f-4b9d-b554-6f8e83e0d48c"
      },
      "source": [
        "np.sqrt(a)"
      ],
      "execution_count": null,
      "outputs": [
        {
          "output_type": "execute_result",
          "data": {
            "text/plain": [
              "array([[1.        , 2.        , 1.41421356],\n",
              "       [2.82842712, 2.82842712, 1.41421356]])"
            ]
          },
          "metadata": {
            "tags": []
          },
          "execution_count": 29
        }
      ]
    },
    {
      "cell_type": "markdown",
      "metadata": {
        "id": "VGmzfPlzWjEX"
      },
      "source": [
        "### Aggregate Functions"
      ]
    },
    {
      "cell_type": "code",
      "metadata": {
        "colab": {
          "base_uri": "https://localhost:8080/"
        },
        "id": "cCQSX01iWuuG",
        "outputId": "3b506f8e-dcf9-44bd-a82b-f9b483ee0bd4"
      },
      "source": [
        "a"
      ],
      "execution_count": null,
      "outputs": [
        {
          "output_type": "execute_result",
          "data": {
            "text/plain": [
              "array([[1, 4, 2],\n",
              "       [8, 8, 2]])"
            ]
          },
          "metadata": {
            "tags": []
          },
          "execution_count": 30
        }
      ]
    },
    {
      "cell_type": "code",
      "metadata": {
        "colab": {
          "base_uri": "https://localhost:8080/"
        },
        "id": "NyLm1n6_VFCE",
        "outputId": "443e1f5a-234b-4414-96d0-cb4b7864796b"
      },
      "source": [
        "a.sum()"
      ],
      "execution_count": null,
      "outputs": [
        {
          "output_type": "execute_result",
          "data": {
            "text/plain": [
              "25"
            ]
          },
          "metadata": {
            "tags": []
          },
          "execution_count": 31
        }
      ]
    },
    {
      "cell_type": "code",
      "metadata": {
        "colab": {
          "base_uri": "https://localhost:8080/"
        },
        "id": "cJVKN1jKRcHD",
        "outputId": "53ed1230-db45-4f21-b741-5da49707761c"
      },
      "source": [
        "a.min()"
      ],
      "execution_count": null,
      "outputs": [
        {
          "output_type": "execute_result",
          "data": {
            "text/plain": [
              "1"
            ]
          },
          "metadata": {
            "tags": []
          },
          "execution_count": 32
        }
      ]
    },
    {
      "cell_type": "code",
      "metadata": {
        "colab": {
          "base_uri": "https://localhost:8080/"
        },
        "id": "-ie-DpwqWpB_",
        "outputId": "52defc50-6132-40ae-ac4e-f4274539880a"
      },
      "source": [
        "a.max()"
      ],
      "execution_count": null,
      "outputs": [
        {
          "output_type": "execute_result",
          "data": {
            "text/plain": [
              "8"
            ]
          },
          "metadata": {
            "tags": []
          },
          "execution_count": 33
        }
      ]
    },
    {
      "cell_type": "code",
      "metadata": {
        "colab": {
          "base_uri": "https://localhost:8080/"
        },
        "id": "TTgE1xXBWqlc",
        "outputId": "1761e8fb-cc86-4ac9-a722-6ce7335fffde"
      },
      "source": [
        "a.mean()"
      ],
      "execution_count": null,
      "outputs": [
        {
          "output_type": "execute_result",
          "data": {
            "text/plain": [
              "4.166666666666667"
            ]
          },
          "metadata": {
            "tags": []
          },
          "execution_count": 34
        }
      ]
    },
    {
      "cell_type": "code",
      "metadata": {
        "colab": {
          "base_uri": "https://localhost:8080/"
        },
        "id": "DE9uv9L1Wtvc",
        "outputId": "8b61febf-a228-4816-d543-6ecab7f36e34"
      },
      "source": [
        "np.median(a)"
      ],
      "execution_count": null,
      "outputs": [
        {
          "output_type": "execute_result",
          "data": {
            "text/plain": [
              "3.0"
            ]
          },
          "metadata": {
            "tags": []
          },
          "execution_count": 35
        }
      ]
    },
    {
      "cell_type": "code",
      "metadata": {
        "colab": {
          "base_uri": "https://localhost:8080/"
        },
        "id": "cMpYZAflBiZ-",
        "outputId": "b8db0b74-81ba-48fb-f824-be25b43a66d3"
      },
      "source": [
        "b = np.array([2, 4, 9, 10, 12])\n",
        "np.quantile(b, 0.25)"
      ],
      "execution_count": null,
      "outputs": [
        {
          "output_type": "execute_result",
          "data": {
            "text/plain": [
              "4.0"
            ]
          },
          "metadata": {
            "tags": []
          },
          "execution_count": 74
        }
      ]
    },
    {
      "cell_type": "code",
      "metadata": {
        "colab": {
          "base_uri": "https://localhost:8080/"
        },
        "id": "SCTUmFk8Cic9",
        "outputId": "e656e915-881a-415d-c3b7-e5b924c17eba"
      },
      "source": [
        "b = np.array([2,2,3,3,4,4,4,5,6,6,6,7,7,8,8])\n",
        "np.quantile(b, 0.25)"
      ],
      "execution_count": null,
      "outputs": [
        {
          "output_type": "execute_result",
          "data": {
            "text/plain": [
              "6.5"
            ]
          },
          "metadata": {
            "tags": []
          },
          "execution_count": 72
        }
      ]
    },
    {
      "cell_type": "code",
      "metadata": {
        "colab": {
          "base_uri": "https://localhost:8080/"
        },
        "id": "Lwpo8juNWxhc",
        "outputId": "ed3d9697-f1bd-446e-97ef-5594ed7dadbd"
      },
      "source": [
        "np.std(a)  # Returns the standard deviation of the values in the array"
      ],
      "execution_count": null,
      "outputs": [
        {
          "output_type": "execute_result",
          "data": {
            "text/plain": [
              "2.852873794770615"
            ]
          },
          "metadata": {
            "tags": []
          },
          "execution_count": 36
        }
      ]
    },
    {
      "cell_type": "markdown",
      "metadata": {
        "id": "pMpp9P-LW7R8"
      },
      "source": [
        "### Manipulating Arrays"
      ]
    },
    {
      "cell_type": "markdown",
      "metadata": {
        "id": "x8z_FJefW-jR"
      },
      "source": [
        "NumPy offers us numerous ways in which we can manipulate the data of\n",
        "our arrays. Here, we are going to take a quick look at the most important\n",
        "functions and categories of functions.\n",
        "If you just want to change a single value however, you can just use the basic\n",
        "indexing of lists.\n"
      ]
    },
    {
      "cell_type": "code",
      "metadata": {
        "colab": {
          "base_uri": "https://localhost:8080/"
        },
        "id": "6XQuyuafW6b1",
        "outputId": "90140740-d97b-40f3-f7de-7f2c1b7d361c"
      },
      "source": [
        "a = np.array([[4, 2, 9],\n",
        "              [8, 3, 2]])\n",
        "print(a[1][2])\n",
        "a[1][2] = 7\n",
        "a[1][2]"
      ],
      "execution_count": null,
      "outputs": [
        {
          "output_type": "stream",
          "text": [
            "2\n"
          ],
          "name": "stdout"
        },
        {
          "output_type": "execute_result",
          "data": {
            "text/plain": [
              "7"
            ]
          },
          "metadata": {
            "tags": []
          },
          "execution_count": 37
        }
      ]
    },
    {
      "cell_type": "markdown",
      "metadata": {
        "id": "f38pKzd_XZnf"
      },
      "source": [
        "#### Shape Manipulation Functions"
      ]
    },
    {
      "cell_type": "markdown",
      "metadata": {
        "id": "6TwCgSbzXe-1"
      },
      "source": [
        "One of the most important and helpful types of functions are the shape\n",
        "manipulating functions. These allow us to restructure our arrays without\n",
        "changing their values"
      ]
    },
    {
      "cell_type": "code",
      "metadata": {
        "colab": {
          "base_uri": "https://localhost:8080/"
        },
        "id": "_8oNDnIfXY2r",
        "outputId": "cff0c5f8-c332-4d44-95fa-53c6e74a1536"
      },
      "source": [
        "a.reshape(3, 2)  # Returns an array with the same values structured in a different shape"
      ],
      "execution_count": null,
      "outputs": [
        {
          "output_type": "execute_result",
          "data": {
            "text/plain": [
              "array([[4, 2],\n",
              "       [9, 8],\n",
              "       [3, 7]])"
            ]
          },
          "metadata": {
            "tags": []
          },
          "execution_count": 38
        }
      ]
    },
    {
      "cell_type": "code",
      "metadata": {
        "colab": {
          "base_uri": "https://localhost:8080/"
        },
        "id": "xTqZGh1VXY4s",
        "outputId": "5ebd0291-34c3-459a-a255-d88981bc594d"
      },
      "source": [
        "a.flatten()  "
      ],
      "execution_count": null,
      "outputs": [
        {
          "output_type": "execute_result",
          "data": {
            "text/plain": [
              "array([4, 2, 9, 8, 3, 7])"
            ]
          },
          "metadata": {
            "tags": []
          },
          "execution_count": 39
        }
      ]
    },
    {
      "cell_type": "code",
      "metadata": {
        "colab": {
          "base_uri": "https://localhost:8080/"
        },
        "id": "r8_42i9hXZLP",
        "outputId": "10750e55-109c-4f78-efe7-54335193fed5"
      },
      "source": [
        "a.ravel()  # Does the same as flatten but works with the actual array instead of a copy"
      ],
      "execution_count": null,
      "outputs": [
        {
          "output_type": "execute_result",
          "data": {
            "text/plain": [
              "array([4, 2, 9, 8, 3, 7])"
            ]
          },
          "metadata": {
            "tags": []
          },
          "execution_count": 40
        }
      ]
    },
    {
      "cell_type": "code",
      "metadata": {
        "colab": {
          "base_uri": "https://localhost:8080/"
        },
        "id": "TGI2HLDVXZNm",
        "outputId": "a54f49a9-29da-49f8-c604-d7951f41247a"
      },
      "source": [
        "a.T"
      ],
      "execution_count": null,
      "outputs": [
        {
          "output_type": "execute_result",
          "data": {
            "text/plain": [
              "array([[4, 8],\n",
              "       [2, 3],\n",
              "       [9, 7]])"
            ]
          },
          "metadata": {
            "tags": []
          },
          "execution_count": 41
        }
      ]
    },
    {
      "cell_type": "code",
      "metadata": {
        "colab": {
          "base_uri": "https://localhost:8080/"
        },
        "id": "qz96bKhPXZP0",
        "outputId": "32423ec1-f23f-4d39-95f9-1c0021a55254"
      },
      "source": [
        "a.flat # Not a function but an iterator for the flattened version of the array"
      ],
      "execution_count": null,
      "outputs": [
        {
          "output_type": "execute_result",
          "data": {
            "text/plain": [
              "<numpy.flatiter at 0x562910a06000>"
            ]
          },
          "metadata": {
            "tags": []
          },
          "execution_count": 42
        }
      ]
    },
    {
      "cell_type": "markdown",
      "metadata": {
        "id": "gbfgb4pWYca8"
      },
      "source": [
        "#### Joining Functions"
      ]
    },
    {
      "cell_type": "code",
      "metadata": {
        "colab": {
          "base_uri": "https://localhost:8080/"
        },
        "id": "eWSVipa2YbtI",
        "outputId": "307315be-a692-49c0-8cc7-2a9f0189475a"
      },
      "source": [
        "a"
      ],
      "execution_count": null,
      "outputs": [
        {
          "output_type": "execute_result",
          "data": {
            "text/plain": [
              "array([[4, 2, 9],\n",
              "       [8, 3, 7]])"
            ]
          },
          "metadata": {
            "tags": []
          },
          "execution_count": 43
        }
      ]
    },
    {
      "cell_type": "code",
      "metadata": {
        "colab": {
          "base_uri": "https://localhost:8080/"
        },
        "id": "-N60FiYwXZSD",
        "outputId": "794b0de5-33e0-48ed-c4ac-ff612786fb71"
      },
      "source": [
        "b"
      ],
      "execution_count": null,
      "outputs": [
        {
          "output_type": "execute_result",
          "data": {
            "text/plain": [
              "array([[1, 2, 3]])"
            ]
          },
          "metadata": {
            "tags": []
          },
          "execution_count": 44
        }
      ]
    },
    {
      "cell_type": "code",
      "metadata": {
        "colab": {
          "base_uri": "https://localhost:8080/"
        },
        "id": "qbHQwzt-W61I",
        "outputId": "1020e8f2-3c9d-49f2-8a20-a293e0a27bf6"
      },
      "source": [
        "np.concatenate((a, b))  # Note that we pass the parameters between parentheses"
      ],
      "execution_count": null,
      "outputs": [
        {
          "output_type": "execute_result",
          "data": {
            "text/plain": [
              "array([[4, 2, 9],\n",
              "       [8, 3, 7],\n",
              "       [1, 2, 3]])"
            ]
          },
          "metadata": {
            "tags": []
          },
          "execution_count": 45
        }
      ]
    },
    {
      "cell_type": "code",
      "metadata": {
        "colab": {
          "base_uri": "https://localhost:8080/"
        },
        "id": "bgCSW6SyW63V",
        "outputId": "7652dac4-b066-4cd2-e52d-4832b2417d5a"
      },
      "source": [
        "np.stack((a[0], b[0]))  # Joins multiple arrays along a new axis"
      ],
      "execution_count": null,
      "outputs": [
        {
          "output_type": "execute_result",
          "data": {
            "text/plain": [
              "array([[4, 2, 9],\n",
              "       [1, 2, 3]])"
            ]
          },
          "metadata": {
            "tags": []
          },
          "execution_count": 46
        }
      ]
    },
    {
      "cell_type": "code",
      "metadata": {
        "colab": {
          "base_uri": "https://localhost:8080/"
        },
        "id": "7cg04A-NW65n",
        "outputId": "76c43354-383c-41ab-aff6-8c096667364c"
      },
      "source": [
        "np.vstack((a,b))  # Stacks the arrays vertically (row-wise)"
      ],
      "execution_count": null,
      "outputs": [
        {
          "output_type": "execute_result",
          "data": {
            "text/plain": [
              "array([[4, 2, 9],\n",
              "       [8, 3, 7],\n",
              "       [1, 2, 3]])"
            ]
          },
          "metadata": {
            "tags": []
          },
          "execution_count": 47
        }
      ]
    },
    {
      "cell_type": "markdown",
      "metadata": {
        "id": "VoZRc88xZ_nY"
      },
      "source": [
        "What concatenate does is, it joins the arrays together by just appending one\n",
        "onto the other. Stack on the other hand, creates an additional axis that\n",
        "separates the two initial arrays.\n"
      ]
    },
    {
      "cell_type": "markdown",
      "metadata": {
        "id": "BEPEiwb4aG12"
      },
      "source": [
        "#### Splitting Functions"
      ]
    },
    {
      "cell_type": "code",
      "metadata": {
        "id": "HSGVT1qTbLLT"
      },
      "source": [
        "a = np.array([\n",
        " [10, 20, 30],\n",
        " [40, 50, 60],\n",
        " [70, 80, 90],\n",
        " [100, 110, 120]])"
      ],
      "execution_count": null,
      "outputs": []
    },
    {
      "cell_type": "code",
      "metadata": {
        "colab": {
          "base_uri": "https://localhost:8080/"
        },
        "id": "j8ojUB2XZ-5h",
        "outputId": "4c2ed52b-c0ce-4b81-b4c5-f2accf62a26c"
      },
      "source": [
        "np.split(a, 2)  # Splits one array into multiple arrays"
      ],
      "execution_count": null,
      "outputs": [
        {
          "output_type": "execute_result",
          "data": {
            "text/plain": [
              "[array([[10, 20, 30],\n",
              "        [40, 50, 60]]), array([[ 70,  80,  90],\n",
              "        [100, 110, 120]])]"
            ]
          },
          "metadata": {
            "tags": []
          },
          "execution_count": 49
        }
      ]
    },
    {
      "cell_type": "code",
      "metadata": {
        "colab": {
          "base_uri": "https://localhost:8080/"
        },
        "id": "duXWI5VDZ-74",
        "outputId": "6dcbd2a2-bc5d-4253-a1c2-c4c40d98bf64"
      },
      "source": [
        "np.hsplit(a, 3)  # plits one array into multiple arrays horizontally (column-wise)"
      ],
      "execution_count": null,
      "outputs": [
        {
          "output_type": "execute_result",
          "data": {
            "text/plain": [
              "[array([[ 10],\n",
              "        [ 40],\n",
              "        [ 70],\n",
              "        [100]]), array([[ 20],\n",
              "        [ 50],\n",
              "        [ 80],\n",
              "        [110]]), array([[ 30],\n",
              "        [ 60],\n",
              "        [ 90],\n",
              "        [120]])]"
            ]
          },
          "metadata": {
            "tags": []
          },
          "execution_count": 50
        }
      ]
    },
    {
      "cell_type": "code",
      "metadata": {
        "colab": {
          "base_uri": "https://localhost:8080/"
        },
        "id": "9bePgFz9Z--O",
        "outputId": "6d13ad09-b2fd-4ba6-9710-8d9437028653"
      },
      "source": [
        "np.vsplit(a, 4) # Splits one array into multiple arrays vertically (row-wise)"
      ],
      "execution_count": null,
      "outputs": [
        {
          "output_type": "execute_result",
          "data": {
            "text/plain": [
              "[array([[10, 20, 30]]),\n",
              " array([[40, 50, 60]]),\n",
              " array([[70, 80, 90]]),\n",
              " array([[100, 110, 120]])]"
            ]
          },
          "metadata": {
            "tags": []
          },
          "execution_count": 51
        }
      ]
    },
    {
      "cell_type": "markdown",
      "metadata": {
        "id": "LD0OKLyOa6vK"
      },
      "source": [
        "#### Adding and Removing"
      ]
    },
    {
      "cell_type": "code",
      "metadata": {
        "colab": {
          "base_uri": "https://localhost:8080/"
        },
        "id": "nhfJjol8Z_AF",
        "outputId": "28452cab-60c3-44bc-9f68-01b9f79a021d"
      },
      "source": [
        "np.resize(a, (5, 5)) # Returns a resized version of the array and fills empty spaces by repeating copies of a"
      ],
      "execution_count": null,
      "outputs": [
        {
          "output_type": "execute_result",
          "data": {
            "text/plain": [
              "array([[ 10,  20,  30,  40,  50],\n",
              "       [ 60,  70,  80,  90, 100],\n",
              "       [110, 120,  10,  20,  30],\n",
              "       [ 40,  50,  60,  70,  80],\n",
              "       [ 90, 100, 110, 120,  10]])"
            ]
          },
          "metadata": {
            "tags": []
          },
          "execution_count": 52
        }
      ]
    },
    {
      "cell_type": "code",
      "metadata": {
        "colab": {
          "base_uri": "https://localhost:8080/"
        },
        "id": "3TTODUAab3sG",
        "outputId": "a63cee34-b9cd-49bc-a4fe-7ef693f5a379"
      },
      "source": [
        "np.append(a, 0)"
      ],
      "execution_count": null,
      "outputs": [
        {
          "output_type": "execute_result",
          "data": {
            "text/plain": [
              "array([ 10,  20,  30,  40,  50,  60,  70,  80,  90, 100, 110, 120,   0])"
            ]
          },
          "metadata": {
            "tags": []
          },
          "execution_count": 53
        }
      ]
    },
    {
      "cell_type": "code",
      "metadata": {
        "colab": {
          "base_uri": "https://localhost:8080/"
        },
        "id": "IQvjK0y5Z_Cc",
        "outputId": "b09208a0-649c-459f-dc61-d8ccfda9492f"
      },
      "source": [
        "np.append(a, [1, 2, 3])"
      ],
      "execution_count": null,
      "outputs": [
        {
          "output_type": "execute_result",
          "data": {
            "text/plain": [
              "array([ 10,  20,  30,  40,  50,  60,  70,  80,  90, 100, 110, 120,   1,\n",
              "         2,   3])"
            ]
          },
          "metadata": {
            "tags": []
          },
          "execution_count": 54
        }
      ]
    },
    {
      "cell_type": "code",
      "metadata": {
        "colab": {
          "base_uri": "https://localhost:8080/"
        },
        "id": "WAJmQ-IKZ_KF",
        "outputId": "39b5838d-47d0-40f3-fe1d-efd719a8ed4a"
      },
      "source": [
        "np.insert(a, [0, 1, -1, -2], -100)"
      ],
      "execution_count": null,
      "outputs": [
        {
          "output_type": "execute_result",
          "data": {
            "text/plain": [
              "array([-100,   10, -100,   20,   30,   40,   50,   60,   70,   80,   90,\n",
              "        100, -100,  110, -100,  120])"
            ]
          },
          "metadata": {
            "tags": []
          },
          "execution_count": 55
        }
      ]
    },
    {
      "cell_type": "code",
      "metadata": {
        "colab": {
          "base_uri": "https://localhost:8080/"
        },
        "id": "ecpuL6KjZ_Mg",
        "outputId": "7f8c7578-f421-48f8-a224-54073348a630"
      },
      "source": [
        "np.delete(a, 2, 1)"
      ],
      "execution_count": null,
      "outputs": [
        {
          "output_type": "execute_result",
          "data": {
            "text/plain": [
              "array([[ 10,  20],\n",
              "       [ 40,  50],\n",
              "       [ 70,  80],\n",
              "       [100, 110]])"
            ]
          },
          "metadata": {
            "tags": []
          },
          "execution_count": 56
        }
      ]
    },
    {
      "cell_type": "markdown",
      "metadata": {
        "id": "MusBWnR-dpeL"
      },
      "source": [
        "### Loading and Saving Arrays"
      ]
    },
    {
      "cell_type": "markdown",
      "metadata": {
        "id": "GgoFp4mDdvjZ"
      },
      "source": [
        "Now last but not least, we are going to talk about loading and saving\n",
        "NumPy arrays. For this, we can use the integrated NumPy format or CSV-files."
      ]
    },
    {
      "cell_type": "markdown",
      "metadata": {
        "id": "pYNEXZNbd1FT"
      },
      "source": [
        "#### Numpy Format"
      ]
    },
    {
      "cell_type": "code",
      "metadata": {
        "id": "h7IexLupeE25"
      },
      "source": [
        "# np.save('myarray.npy', a) "
      ],
      "execution_count": null,
      "outputs": []
    },
    {
      "cell_type": "markdown",
      "metadata": {
        "id": "m-zFDsT5eCd_"
      },
      "source": [
        "Notice that you don’t have to use the file ending npy. In this example, we\n",
        "just use it for clarity. You can pick whatever you want."
      ]
    },
    {
      "cell_type": "markdown",
      "metadata": {
        "id": "RvJjAoUkeJ3i"
      },
      "source": [
        "Now, in order to load the array into our script again, we will need the load\n",
        "function."
      ]
    },
    {
      "cell_type": "code",
      "metadata": {
        "id": "p4buN7fxeJMh"
      },
      "source": [
        "# a = np.load('myarray.npy')"
      ],
      "execution_count": null,
      "outputs": []
    },
    {
      "cell_type": "markdown",
      "metadata": {
        "id": "398G-DIReNug"
      },
      "source": [
        "#### CSV Format"
      ]
    },
    {
      "cell_type": "markdown",
      "metadata": {
        "id": "nuiBcHiaeSgw"
      },
      "source": [
        "As I already mentioned, we can also save our NumPy arrays into CSV files,\n",
        "which are just comma-separated text files. For this, we use the function\n",
        "savetxt.\n"
      ]
    },
    {
      "cell_type": "code",
      "metadata": {
        "id": "rLk11Wj2eAkq"
      },
      "source": [
        "# np.savetxt('myarray.csv', a)"
      ],
      "execution_count": null,
      "outputs": []
    },
    {
      "cell_type": "code",
      "metadata": {
        "id": "GlX2AKWld0kI"
      },
      "source": [
        "# a = np.loadtxt('myarray.csv')"
      ],
      "execution_count": null,
      "outputs": []
    }
  ]
}